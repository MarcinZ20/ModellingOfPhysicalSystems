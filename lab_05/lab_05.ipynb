{
  "cells": [
    {
      "cell_type": "markdown",
      "id": "80339956-b3c6-4129-a02d-64de0a53f1be",
      "metadata": {
        "id": "80339956-b3c6-4129-a02d-64de0a53f1be"
      },
      "source": [
        "# AGH Modelling of Physical Systems Lab 5 (2025 April 1st)\n",
        "\n",
        "**Done by:** Marcin Zub (zub@student.agh.edu.pl)\n",
        "\n",
        "**Instructions:** Sylwester Arabas (sylwester.arabas@agh.edu.pl)"
      ]
    },
    {
      "cell_type": "code",
      "source": [
        "!pip install open-atmos-jupyter-utils --quiet"
      ],
      "metadata": {
        "id": "2yasK9x31GXa"
      },
      "id": "2yasK9x31GXa",
      "execution_count": 35,
      "outputs": []
    },
    {
      "cell_type": "code",
      "execution_count": 36,
      "id": "23ba693b-78b3-4126-878a-583eb7e7c353",
      "metadata": {
        "id": "23ba693b-78b3-4126-878a-583eb7e7c353"
      },
      "outputs": [],
      "source": [
        "import numpy as np\n",
        "from matplotlib import pyplot\n",
        "from open_atmos_jupyter_utils import show_plot"
      ]
    },
    {
      "cell_type": "markdown",
      "id": "c73824e6-6946-4d30-824e-0e1467f4e06f",
      "metadata": {
        "id": "c73824e6-6946-4d30-824e-0e1467f4e06f"
      },
      "source": [
        "**0. advection PDE**\n",
        "\n",
        "Symbols:   \n",
        "* ${\\color{red}t}$: time   \n",
        "* ${\\color{blue}x}$: physical coordinate (e.g., distance or altitude)   \n",
        "* ${\\color{green}\\psi}({\\color{blue}x})$: scalar field (e.g., pollutant concentration)   \n",
        "* ${\\color{brown}u}$: carrier velocity field (e.g., wind)   \n",
        "\n",
        "Transport of $\\color{green}\\psi$ due to advection by $\\color{brown}u$ can be modelled with the advection equation:\n",
        "$$ \\partial_{\\color{red} t} {\\color{green}\\psi} + \\partial_{\\color{blue}x} \\left({\\color{brown}u} {\\color{green}\\psi}\\right) = 0 $$\n",
        "\n",
        "For the special case of $\\partial_{\\color{blue}x} {\\color{brown}u}=0$, an analytical solution describing translation of the signal is readily available:\n",
        "$$ {\\color{green}\\psi}({\\color{blue}x}, {\\color{red}t})=\\psi_0({\\color{blue}x} - {\\color{brown}u}{\\color{red}t})$$\n",
        "where $\\psi_0({\\color{blue}x})={\\color{green}\\psi}({\\color{blue}x}, 0)$."
      ]
    },
    {
      "cell_type": "markdown",
      "id": "bd02a527-4908-44c4-92e0-159785a055e3",
      "metadata": {
        "id": "bd02a527-4908-44c4-92e0-159785a055e3"
      },
      "source": [
        "**1. upwind descretisation**   \n",
        "\n",
        "Symbols:   \n",
        "* ${\\color{red}n} = \\frac{\\color{red}t}{\\Delta t} \\in 0, 1, \\ldots$   \n",
        "* ${\\color{blue}i} = \\frac{\\color{blue}x}{\\Delta x} \\in 0, 1, \\ldots$   \n",
        "* ${\\color{brown}C} = {\\color{brown}u}\\frac{\\Delta t}{\\Delta x}$ (so called Courant number)   \n",
        "* ${\\color{green}\\psi}_{\\color{blue}i}^{\\color{red}n}$: scalar field at \"grid cell\" $\\color{blue}i$ in space at time \"level\" ${\\color{red}n}$   \n",
        "\n",
        "The explicit (forward-in-time) upwind scheme is defined as:\n",
        "$$\n",
        "  {\\color{green}\\psi}^{{\\color{red}n}+1}_{\\color{blue}i} = {\\color{green}\\psi}^{\\color{red}n}_{\\color{blue}i} - \\left[\\frac{{\\color{brown}C} + |{\\color{brown}C}|}{2}\\left({\\color{green}\\psi}^{\\color{red}n}_{\\color{blue}i} - {\\color{green}\\psi}^{\\color{red}n}_{{\\color{blue}i}-1}\\right)+\\frac{{\\color{brown}C}-|{\\color{brown}C}|}{2}\\left({\\color{green}\\psi}^{\\color{red}n}_{{\\color{blue}i}+1}-{\\color{green}\\psi}^{\\color{red}n}_{\\color{blue}i}\\right)\\right]\n",
        "$$\n",
        "\n",
        "or\n",
        "\n",
        "$$\n",
        "  {\\color{green}\\psi}^{{\\color{red}n}+1}_{\\color{blue}i} = {\\color{green}\\psi}^{\\color{red}n}_{\\color{blue}i} - \\left[F\\left({\\color{green}\\psi}^{\\color{red}n}_{\\color{blue}i},  {\\color{green}\\psi}^{\\color{red}n}_{{\\color{blue}i}+1}, {\\color{brown}C_{i+1/2}^{\\color{red}n}}\\right)-F\\left({\\color{green}\\psi}^{\\color{red}n}_{{\\color{blue}i}-1},{\\color{green}\\psi}^{\\color{red}n}_{\\color{blue}i}, {\\color{brown}C_{i-1/2}^{\\color{red}n}}\\right)\\right]\n",
        "$$\n",
        "$$F(\\psi_L, \\psi_R, C)=\\frac{C+|C|}{2}\\psi_L + \\frac{C-|C|}{2}\\psi_R$$\n"
      ]
    },
    {
      "cell_type": "markdown",
      "id": "ea572dfe-1f1d-45df-8c90-4f56ea354b28",
      "metadata": {
        "id": "ea572dfe-1f1d-45df-8c90-4f56ea354b28"
      },
      "source": [
        "**2. code from previous classes: upwind algorithm coded in Python/NumPy**"
      ]
    },
    {
      "cell_type": "code",
      "execution_count": 37,
      "id": "accf46c1-ba65-4fce-99f0-179090a4cb6a",
      "metadata": {
        "id": "accf46c1-ba65-4fce-99f0-179090a4cb6a"
      },
      "outputs": [],
      "source": [
        "class shift:\n",
        "    def __init__(self, *, add, sub):\n",
        "        self.add = add\n",
        "        self.sub = sub\n",
        "    def __radd__(self, i):\n",
        "        return slice(i.start + self.add, i.stop + self.add)\n",
        "    def __rsub__(self, i):\n",
        "        return slice(i.start - self.sub, i.stop - self.sub)\n",
        "\n",
        "one = shift(add=1, sub=1)\n",
        "hlf = shift(add=0, sub=1)\n",
        "\n",
        "def F(psi_l, psi_r, C):\n",
        "    return .5 * (C + abs(C)) * psi_l + \\\n",
        "           .5 * (C - abs(C)) * psi_r\n",
        "\n",
        "def upwind(psi, i, C):\n",
        "    psi[i] = psi[i] - (\n",
        "        F(psi[i      ], psi[i + one], C[i + hlf]) -\n",
        "        F(psi[i - one], psi[i      ], C[i - hlf])\n",
        "    )"
      ]
    },
    {
      "cell_type": "code",
      "execution_count": 38,
      "id": "cf4a4f5e-348c-4f77-98cd-10a91be969a6",
      "metadata": {
        "id": "cf4a4f5e-348c-4f77-98cd-10a91be969a6"
      },
      "outputs": [],
      "source": [
        "def solve_upwind(*, nt: int, C: float, psi: np.ndarray):\n",
        "    for _ in range(nt):\n",
        "        upwind(psi, slice(1, len(C)), C)\n",
        "    return psi\n",
        "\n",
        "def psi_0(x: np.ndarray, x0: float = 0, a: float = 1, sigma: float = 20):\n",
        "    return a * np.exp(-(x-x0)**2 / 2 / sigma**2)\n",
        "\n",
        "def plot(x, **kwargs):\n",
        "    for label, data in kwargs.items():\n",
        "        pyplot.step(x, data, label=label, where='mid')\n",
        "    pyplot.legend()\n",
        "    pyplot.grid()\n",
        "    show_plot()"
      ]
    },
    {
      "cell_type": "code",
      "execution_count": 39,
      "id": "5de88cdd-d4d8-456f-baea-92ef8c5b4ff2",
      "metadata": {
        "colab": {
          "base_uri": "https://localhost:8080/",
          "height": 449,
          "referenced_widgets": [
            "9734a3ee66524a9282576c9b3ba23496",
            "fcaec94ed3c74dfe9f104f0eb57207a7",
            "e053e755e53141b1a0e8e8f2a3470a02",
            "aeb2168fac394f0f9e591c38958b0d62",
            "590672b1b098451398c271d63bdf726f",
            "dd91854121464977b3a4c73f129ffad6",
            "7138ccaf6d294c6184c4fea8955d9749",
            "0449eab8f6c246b4b3a3c4bab4227891"
          ]
        },
        "id": "5de88cdd-d4d8-456f-baea-92ef8c5b4ff2",
        "outputId": "003fcef7-c705-46d7-c8d5-f2567ac760ab"
      },
      "outputs": [
        {
          "output_type": "display_data",
          "data": {
            "text/plain": [
              "<Figure size 640x480 with 1 Axes>"
            ],
            "image/svg+xml": "<?xml version=\"1.0\" encoding=\"utf-8\" standalone=\"no\"?>\n<!DOCTYPE svg PUBLIC \"-//W3C//DTD SVG 1.1//EN\"\n  \"http://www.w3.org/Graphics/SVG/1.1/DTD/svg11.dtd\">\n<svg xmlns:xlink=\"http://www.w3.org/1999/xlink\" width=\"394.423125pt\" height=\"297.190125pt\" viewBox=\"0 0 394.423125 297.190125\" xmlns=\"http://www.w3.org/2000/svg\" version=\"1.1\">\n <metadata>\n  <rdf:RDF xmlns:dc=\"http://purl.org/dc/elements/1.1/\" xmlns:cc=\"http://creativecommons.org/ns#\" xmlns:rdf=\"http://www.w3.org/1999/02/22-rdf-syntax-ns#\">\n   <cc:Work>\n    <dc:type rdf:resource=\"http://purl.org/dc/dcmitype/StillImage\"/>\n    <dc:date>2025-04-14T18:56:49.592352</dc:date>\n    <dc:format>image/svg+xml</dc:format>\n    <dc:creator>\n     <cc:Agent>\n      <dc:title>Matplotlib v3.10.0, https://matplotlib.org/</dc:title>\n     </cc:Agent>\n    </dc:creator>\n   </cc:Work>\n  </rdf:RDF>\n </metadata>\n <defs>\n  <style type=\"text/css\">*{stroke-linejoin: round; stroke-linecap: butt}</style>\n </defs>\n <g id=\"figure_1\">\n  <g id=\"patch_1\">\n   <path d=\"M 0 297.190125 \nL 394.423125 297.190125 \nL 394.423125 0 \nL 0 0 \nz\n\" style=\"fill: #ffffff\"/>\n  </g>\n  <g id=\"axes_1\">\n   <g id=\"patch_2\">\n    <path d=\"M 30.103125 273.312 \nL 387.223125 273.312 \nL 387.223125 7.2 \nL 30.103125 7.2 \nz\n\" style=\"fill: #ffffff\"/>\n   </g>\n   <g id=\"matplotlib.axis_1\">\n    <g id=\"xtick_1\">\n     <g id=\"line2d_1\">\n      <path d=\"M 46.335852 273.312 \nL 46.335852 7.2 \n\" clip-path=\"url(#pa2e3e7290d)\" style=\"fill: none; stroke: #b0b0b0; stroke-width: 0.8; stroke-linecap: square\"/>\n     </g>\n     <g id=\"line2d_2\">\n      <defs>\n       <path id=\"mcc1578d1d4\" d=\"M 0 0 \nL 0 3.5 \n\" style=\"stroke: #000000; stroke-width: 0.8\"/>\n      </defs>\n      <g>\n       <use xlink:href=\"#mcc1578d1d4\" x=\"46.335852\" y=\"273.312\" style=\"stroke: #000000; stroke-width: 0.8\"/>\n      </g>\n     </g>\n     <g id=\"text_1\">\n      <!-- −100 -->\n      <g transform=\"translate(32.602259 287.910437) scale(0.1 -0.1)\">\n       <defs>\n        <path id=\"DejaVuSans-2212\" d=\"M 678 2272 \nL 4684 2272 \nL 4684 1741 \nL 678 1741 \nL 678 2272 \nz\n\" transform=\"scale(0.015625)\"/>\n        <path id=\"DejaVuSans-31\" d=\"M 794 531 \nL 1825 531 \nL 1825 4091 \nL 703 3866 \nL 703 4441 \nL 1819 4666 \nL 2450 4666 \nL 2450 531 \nL 3481 531 \nL 3481 0 \nL 794 0 \nL 794 531 \nz\n\" transform=\"scale(0.015625)\"/>\n        <path id=\"DejaVuSans-30\" d=\"M 2034 4250 \nQ 1547 4250 1301 3770 \nQ 1056 3291 1056 2328 \nQ 1056 1369 1301 889 \nQ 1547 409 2034 409 \nQ 2525 409 2770 889 \nQ 3016 1369 3016 2328 \nQ 3016 3291 2770 3770 \nQ 2525 4250 2034 4250 \nz\nM 2034 4750 \nQ 2819 4750 3233 4129 \nQ 3647 3509 3647 2328 \nQ 3647 1150 3233 529 \nQ 2819 -91 2034 -91 \nQ 1250 -91 836 529 \nQ 422 1150 422 2328 \nQ 422 3509 836 4129 \nQ 1250 4750 2034 4750 \nz\n\" transform=\"scale(0.015625)\"/>\n       </defs>\n       <use xlink:href=\"#DejaVuSans-2212\"/>\n       <use xlink:href=\"#DejaVuSans-31\" transform=\"translate(83.789062 0)\"/>\n       <use xlink:href=\"#DejaVuSans-30\" transform=\"translate(147.412109 0)\"/>\n       <use xlink:href=\"#DejaVuSans-30\" transform=\"translate(211.035156 0)\"/>\n      </g>\n     </g>\n    </g>\n    <g id=\"xtick_2\">\n     <g id=\"line2d_3\">\n      <path d=\"M 86.91767 273.312 \nL 86.91767 7.2 \n\" clip-path=\"url(#pa2e3e7290d)\" style=\"fill: none; stroke: #b0b0b0; stroke-width: 0.8; stroke-linecap: square\"/>\n     </g>\n     <g id=\"line2d_4\">\n      <g>\n       <use xlink:href=\"#mcc1578d1d4\" x=\"86.91767\" y=\"273.312\" style=\"stroke: #000000; stroke-width: 0.8\"/>\n      </g>\n     </g>\n     <g id=\"text_2\">\n      <!-- −50 -->\n      <g transform=\"translate(76.365327 287.910437) scale(0.1 -0.1)\">\n       <defs>\n        <path id=\"DejaVuSans-35\" d=\"M 691 4666 \nL 3169 4666 \nL 3169 4134 \nL 1269 4134 \nL 1269 2991 \nQ 1406 3038 1543 3061 \nQ 1681 3084 1819 3084 \nQ 2600 3084 3056 2656 \nQ 3513 2228 3513 1497 \nQ 3513 744 3044 326 \nQ 2575 -91 1722 -91 \nQ 1428 -91 1123 -41 \nQ 819 9 494 109 \nL 494 744 \nQ 775 591 1075 516 \nQ 1375 441 1709 441 \nQ 2250 441 2565 725 \nQ 2881 1009 2881 1497 \nQ 2881 1984 2565 2268 \nQ 2250 2553 1709 2553 \nQ 1456 2553 1204 2497 \nQ 953 2441 691 2322 \nL 691 4666 \nz\n\" transform=\"scale(0.015625)\"/>\n       </defs>\n       <use xlink:href=\"#DejaVuSans-2212\"/>\n       <use xlink:href=\"#DejaVuSans-35\" transform=\"translate(83.789062 0)\"/>\n       <use xlink:href=\"#DejaVuSans-30\" transform=\"translate(147.412109 0)\"/>\n      </g>\n     </g>\n    </g>\n    <g id=\"xtick_3\">\n     <g id=\"line2d_5\">\n      <path d=\"M 127.499489 273.312 \nL 127.499489 7.2 \n\" clip-path=\"url(#pa2e3e7290d)\" style=\"fill: none; stroke: #b0b0b0; stroke-width: 0.8; stroke-linecap: square\"/>\n     </g>\n     <g id=\"line2d_6\">\n      <g>\n       <use xlink:href=\"#mcc1578d1d4\" x=\"127.499489\" y=\"273.312\" style=\"stroke: #000000; stroke-width: 0.8\"/>\n      </g>\n     </g>\n     <g id=\"text_3\">\n      <!-- 0 -->\n      <g transform=\"translate(124.318239 287.910437) scale(0.1 -0.1)\">\n       <use xlink:href=\"#DejaVuSans-30\"/>\n      </g>\n     </g>\n    </g>\n    <g id=\"xtick_4\">\n     <g id=\"line2d_7\">\n      <path d=\"M 168.081307 273.312 \nL 168.081307 7.2 \n\" clip-path=\"url(#pa2e3e7290d)\" style=\"fill: none; stroke: #b0b0b0; stroke-width: 0.8; stroke-linecap: square\"/>\n     </g>\n     <g id=\"line2d_8\">\n      <g>\n       <use xlink:href=\"#mcc1578d1d4\" x=\"168.081307\" y=\"273.312\" style=\"stroke: #000000; stroke-width: 0.8\"/>\n      </g>\n     </g>\n     <g id=\"text_4\">\n      <!-- 50 -->\n      <g transform=\"translate(161.718807 287.910437) scale(0.1 -0.1)\">\n       <use xlink:href=\"#DejaVuSans-35\"/>\n       <use xlink:href=\"#DejaVuSans-30\" transform=\"translate(63.623047 0)\"/>\n      </g>\n     </g>\n    </g>\n    <g id=\"xtick_5\">\n     <g id=\"line2d_9\">\n      <path d=\"M 208.663125 273.312 \nL 208.663125 7.2 \n\" clip-path=\"url(#pa2e3e7290d)\" style=\"fill: none; stroke: #b0b0b0; stroke-width: 0.8; stroke-linecap: square\"/>\n     </g>\n     <g id=\"line2d_10\">\n      <g>\n       <use xlink:href=\"#mcc1578d1d4\" x=\"208.663125\" y=\"273.312\" style=\"stroke: #000000; stroke-width: 0.8\"/>\n      </g>\n     </g>\n     <g id=\"text_5\">\n      <!-- 100 -->\n      <g transform=\"translate(199.119375 287.910437) scale(0.1 -0.1)\">\n       <use xlink:href=\"#DejaVuSans-31\"/>\n       <use xlink:href=\"#DejaVuSans-30\" transform=\"translate(63.623047 0)\"/>\n       <use xlink:href=\"#DejaVuSans-30\" transform=\"translate(127.246094 0)\"/>\n      </g>\n     </g>\n    </g>\n    <g id=\"xtick_6\">\n     <g id=\"line2d_11\">\n      <path d=\"M 249.244943 273.312 \nL 249.244943 7.2 \n\" clip-path=\"url(#pa2e3e7290d)\" style=\"fill: none; stroke: #b0b0b0; stroke-width: 0.8; stroke-linecap: square\"/>\n     </g>\n     <g id=\"line2d_12\">\n      <g>\n       <use xlink:href=\"#mcc1578d1d4\" x=\"249.244943\" y=\"273.312\" style=\"stroke: #000000; stroke-width: 0.8\"/>\n      </g>\n     </g>\n     <g id=\"text_6\">\n      <!-- 150 -->\n      <g transform=\"translate(239.701193 287.910437) scale(0.1 -0.1)\">\n       <use xlink:href=\"#DejaVuSans-31\"/>\n       <use xlink:href=\"#DejaVuSans-35\" transform=\"translate(63.623047 0)\"/>\n       <use xlink:href=\"#DejaVuSans-30\" transform=\"translate(127.246094 0)\"/>\n      </g>\n     </g>\n    </g>\n    <g id=\"xtick_7\">\n     <g id=\"line2d_13\">\n      <path d=\"M 289.826761 273.312 \nL 289.826761 7.2 \n\" clip-path=\"url(#pa2e3e7290d)\" style=\"fill: none; stroke: #b0b0b0; stroke-width: 0.8; stroke-linecap: square\"/>\n     </g>\n     <g id=\"line2d_14\">\n      <g>\n       <use xlink:href=\"#mcc1578d1d4\" x=\"289.826761\" y=\"273.312\" style=\"stroke: #000000; stroke-width: 0.8\"/>\n      </g>\n     </g>\n     <g id=\"text_7\">\n      <!-- 200 -->\n      <g transform=\"translate(280.283011 287.910437) scale(0.1 -0.1)\">\n       <defs>\n        <path id=\"DejaVuSans-32\" d=\"M 1228 531 \nL 3431 531 \nL 3431 0 \nL 469 0 \nL 469 531 \nQ 828 903 1448 1529 \nQ 2069 2156 2228 2338 \nQ 2531 2678 2651 2914 \nQ 2772 3150 2772 3378 \nQ 2772 3750 2511 3984 \nQ 2250 4219 1831 4219 \nQ 1534 4219 1204 4116 \nQ 875 4013 500 3803 \nL 500 4441 \nQ 881 4594 1212 4672 \nQ 1544 4750 1819 4750 \nQ 2544 4750 2975 4387 \nQ 3406 4025 3406 3419 \nQ 3406 3131 3298 2873 \nQ 3191 2616 2906 2266 \nQ 2828 2175 2409 1742 \nQ 1991 1309 1228 531 \nz\n\" transform=\"scale(0.015625)\"/>\n       </defs>\n       <use xlink:href=\"#DejaVuSans-32\"/>\n       <use xlink:href=\"#DejaVuSans-30\" transform=\"translate(63.623047 0)\"/>\n       <use xlink:href=\"#DejaVuSans-30\" transform=\"translate(127.246094 0)\"/>\n      </g>\n     </g>\n    </g>\n    <g id=\"xtick_8\">\n     <g id=\"line2d_15\">\n      <path d=\"M 330.40858 273.312 \nL 330.40858 7.2 \n\" clip-path=\"url(#pa2e3e7290d)\" style=\"fill: none; stroke: #b0b0b0; stroke-width: 0.8; stroke-linecap: square\"/>\n     </g>\n     <g id=\"line2d_16\">\n      <g>\n       <use xlink:href=\"#mcc1578d1d4\" x=\"330.40858\" y=\"273.312\" style=\"stroke: #000000; stroke-width: 0.8\"/>\n      </g>\n     </g>\n     <g id=\"text_8\">\n      <!-- 250 -->\n      <g transform=\"translate(320.86483 287.910437) scale(0.1 -0.1)\">\n       <use xlink:href=\"#DejaVuSans-32\"/>\n       <use xlink:href=\"#DejaVuSans-35\" transform=\"translate(63.623047 0)\"/>\n       <use xlink:href=\"#DejaVuSans-30\" transform=\"translate(127.246094 0)\"/>\n      </g>\n     </g>\n    </g>\n    <g id=\"xtick_9\">\n     <g id=\"line2d_17\">\n      <path d=\"M 370.990398 273.312 \nL 370.990398 7.2 \n\" clip-path=\"url(#pa2e3e7290d)\" style=\"fill: none; stroke: #b0b0b0; stroke-width: 0.8; stroke-linecap: square\"/>\n     </g>\n     <g id=\"line2d_18\">\n      <g>\n       <use xlink:href=\"#mcc1578d1d4\" x=\"370.990398\" y=\"273.312\" style=\"stroke: #000000; stroke-width: 0.8\"/>\n      </g>\n     </g>\n     <g id=\"text_9\">\n      <!-- 300 -->\n      <g transform=\"translate(361.446648 287.910437) scale(0.1 -0.1)\">\n       <defs>\n        <path id=\"DejaVuSans-33\" d=\"M 2597 2516 \nQ 3050 2419 3304 2112 \nQ 3559 1806 3559 1356 \nQ 3559 666 3084 287 \nQ 2609 -91 1734 -91 \nQ 1441 -91 1130 -33 \nQ 819 25 488 141 \nL 488 750 \nQ 750 597 1062 519 \nQ 1375 441 1716 441 \nQ 2309 441 2620 675 \nQ 2931 909 2931 1356 \nQ 2931 1769 2642 2001 \nQ 2353 2234 1838 2234 \nL 1294 2234 \nL 1294 2753 \nL 1863 2753 \nQ 2328 2753 2575 2939 \nQ 2822 3125 2822 3475 \nQ 2822 3834 2567 4026 \nQ 2313 4219 1838 4219 \nQ 1578 4219 1281 4162 \nQ 984 4106 628 3988 \nL 628 4550 \nQ 988 4650 1302 4700 \nQ 1616 4750 1894 4750 \nQ 2613 4750 3031 4423 \nQ 3450 4097 3450 3541 \nQ 3450 3153 3228 2886 \nQ 3006 2619 2597 2516 \nz\n\" transform=\"scale(0.015625)\"/>\n       </defs>\n       <use xlink:href=\"#DejaVuSans-33\"/>\n       <use xlink:href=\"#DejaVuSans-30\" transform=\"translate(63.623047 0)\"/>\n       <use xlink:href=\"#DejaVuSans-30\" transform=\"translate(127.246094 0)\"/>\n      </g>\n     </g>\n    </g>\n   </g>\n   <g id=\"matplotlib.axis_2\">\n    <g id=\"ytick_1\">\n     <g id=\"line2d_19\">\n      <path d=\"M 30.103125 261.216 \nL 387.223125 261.216 \n\" clip-path=\"url(#pa2e3e7290d)\" style=\"fill: none; stroke: #b0b0b0; stroke-width: 0.8; stroke-linecap: square\"/>\n     </g>\n     <g id=\"line2d_20\">\n      <defs>\n       <path id=\"m7271118d5d\" d=\"M 0 0 \nL -3.5 0 \n\" style=\"stroke: #000000; stroke-width: 0.8\"/>\n      </defs>\n      <g>\n       <use xlink:href=\"#m7271118d5d\" x=\"30.103125\" y=\"261.216\" style=\"stroke: #000000; stroke-width: 0.8\"/>\n      </g>\n     </g>\n     <g id=\"text_10\">\n      <!-- 0.0 -->\n      <g transform=\"translate(7.2 265.015219) scale(0.1 -0.1)\">\n       <defs>\n        <path id=\"DejaVuSans-2e\" d=\"M 684 794 \nL 1344 794 \nL 1344 0 \nL 684 0 \nL 684 794 \nz\n\" transform=\"scale(0.015625)\"/>\n       </defs>\n       <use xlink:href=\"#DejaVuSans-30\"/>\n       <use xlink:href=\"#DejaVuSans-2e\" transform=\"translate(63.623047 0)\"/>\n       <use xlink:href=\"#DejaVuSans-30\" transform=\"translate(95.410156 0)\"/>\n      </g>\n     </g>\n    </g>\n    <g id=\"ytick_2\">\n     <g id=\"line2d_21\">\n      <path d=\"M 30.103125 212.816725 \nL 387.223125 212.816725 \n\" clip-path=\"url(#pa2e3e7290d)\" style=\"fill: none; stroke: #b0b0b0; stroke-width: 0.8; stroke-linecap: square\"/>\n     </g>\n     <g id=\"line2d_22\">\n      <g>\n       <use xlink:href=\"#m7271118d5d\" x=\"30.103125\" y=\"212.816725\" style=\"stroke: #000000; stroke-width: 0.8\"/>\n      </g>\n     </g>\n     <g id=\"text_11\">\n      <!-- 0.2 -->\n      <g transform=\"translate(7.2 216.615944) scale(0.1 -0.1)\">\n       <use xlink:href=\"#DejaVuSans-30\"/>\n       <use xlink:href=\"#DejaVuSans-2e\" transform=\"translate(63.623047 0)\"/>\n       <use xlink:href=\"#DejaVuSans-32\" transform=\"translate(95.410156 0)\"/>\n      </g>\n     </g>\n    </g>\n    <g id=\"ytick_3\">\n     <g id=\"line2d_23\">\n      <path d=\"M 30.103125 164.41745 \nL 387.223125 164.41745 \n\" clip-path=\"url(#pa2e3e7290d)\" style=\"fill: none; stroke: #b0b0b0; stroke-width: 0.8; stroke-linecap: square\"/>\n     </g>\n     <g id=\"line2d_24\">\n      <g>\n       <use xlink:href=\"#m7271118d5d\" x=\"30.103125\" y=\"164.41745\" style=\"stroke: #000000; stroke-width: 0.8\"/>\n      </g>\n     </g>\n     <g id=\"text_12\">\n      <!-- 0.4 -->\n      <g transform=\"translate(7.2 168.216669) scale(0.1 -0.1)\">\n       <defs>\n        <path id=\"DejaVuSans-34\" d=\"M 2419 4116 \nL 825 1625 \nL 2419 1625 \nL 2419 4116 \nz\nM 2253 4666 \nL 3047 4666 \nL 3047 1625 \nL 3713 1625 \nL 3713 1100 \nL 3047 1100 \nL 3047 0 \nL 2419 0 \nL 2419 1100 \nL 313 1100 \nL 313 1709 \nL 2253 4666 \nz\n\" transform=\"scale(0.015625)\"/>\n       </defs>\n       <use xlink:href=\"#DejaVuSans-30\"/>\n       <use xlink:href=\"#DejaVuSans-2e\" transform=\"translate(63.623047 0)\"/>\n       <use xlink:href=\"#DejaVuSans-34\" transform=\"translate(95.410156 0)\"/>\n      </g>\n     </g>\n    </g>\n    <g id=\"ytick_4\">\n     <g id=\"line2d_25\">\n      <path d=\"M 30.103125 116.018176 \nL 387.223125 116.018176 \n\" clip-path=\"url(#pa2e3e7290d)\" style=\"fill: none; stroke: #b0b0b0; stroke-width: 0.8; stroke-linecap: square\"/>\n     </g>\n     <g id=\"line2d_26\">\n      <g>\n       <use xlink:href=\"#m7271118d5d\" x=\"30.103125\" y=\"116.018176\" style=\"stroke: #000000; stroke-width: 0.8\"/>\n      </g>\n     </g>\n     <g id=\"text_13\">\n      <!-- 0.6 -->\n      <g transform=\"translate(7.2 119.817394) scale(0.1 -0.1)\">\n       <defs>\n        <path id=\"DejaVuSans-36\" d=\"M 2113 2584 \nQ 1688 2584 1439 2293 \nQ 1191 2003 1191 1497 \nQ 1191 994 1439 701 \nQ 1688 409 2113 409 \nQ 2538 409 2786 701 \nQ 3034 994 3034 1497 \nQ 3034 2003 2786 2293 \nQ 2538 2584 2113 2584 \nz\nM 3366 4563 \nL 3366 3988 \nQ 3128 4100 2886 4159 \nQ 2644 4219 2406 4219 \nQ 1781 4219 1451 3797 \nQ 1122 3375 1075 2522 \nQ 1259 2794 1537 2939 \nQ 1816 3084 2150 3084 \nQ 2853 3084 3261 2657 \nQ 3669 2231 3669 1497 \nQ 3669 778 3244 343 \nQ 2819 -91 2113 -91 \nQ 1303 -91 875 529 \nQ 447 1150 447 2328 \nQ 447 3434 972 4092 \nQ 1497 4750 2381 4750 \nQ 2619 4750 2861 4703 \nQ 3103 4656 3366 4563 \nz\n\" transform=\"scale(0.015625)\"/>\n       </defs>\n       <use xlink:href=\"#DejaVuSans-30\"/>\n       <use xlink:href=\"#DejaVuSans-2e\" transform=\"translate(63.623047 0)\"/>\n       <use xlink:href=\"#DejaVuSans-36\" transform=\"translate(95.410156 0)\"/>\n      </g>\n     </g>\n    </g>\n    <g id=\"ytick_5\">\n     <g id=\"line2d_27\">\n      <path d=\"M 30.103125 67.618901 \nL 387.223125 67.618901 \n\" clip-path=\"url(#pa2e3e7290d)\" style=\"fill: none; stroke: #b0b0b0; stroke-width: 0.8; stroke-linecap: square\"/>\n     </g>\n     <g id=\"line2d_28\">\n      <g>\n       <use xlink:href=\"#m7271118d5d\" x=\"30.103125\" y=\"67.618901\" style=\"stroke: #000000; stroke-width: 0.8\"/>\n      </g>\n     </g>\n     <g id=\"text_14\">\n      <!-- 0.8 -->\n      <g transform=\"translate(7.2 71.41812) scale(0.1 -0.1)\">\n       <defs>\n        <path id=\"DejaVuSans-38\" d=\"M 2034 2216 \nQ 1584 2216 1326 1975 \nQ 1069 1734 1069 1313 \nQ 1069 891 1326 650 \nQ 1584 409 2034 409 \nQ 2484 409 2743 651 \nQ 3003 894 3003 1313 \nQ 3003 1734 2745 1975 \nQ 2488 2216 2034 2216 \nz\nM 1403 2484 \nQ 997 2584 770 2862 \nQ 544 3141 544 3541 \nQ 544 4100 942 4425 \nQ 1341 4750 2034 4750 \nQ 2731 4750 3128 4425 \nQ 3525 4100 3525 3541 \nQ 3525 3141 3298 2862 \nQ 3072 2584 2669 2484 \nQ 3125 2378 3379 2068 \nQ 3634 1759 3634 1313 \nQ 3634 634 3220 271 \nQ 2806 -91 2034 -91 \nQ 1263 -91 848 271 \nQ 434 634 434 1313 \nQ 434 1759 690 2068 \nQ 947 2378 1403 2484 \nz\nM 1172 3481 \nQ 1172 3119 1398 2916 \nQ 1625 2713 2034 2713 \nQ 2441 2713 2670 2916 \nQ 2900 3119 2900 3481 \nQ 2900 3844 2670 4047 \nQ 2441 4250 2034 4250 \nQ 1625 4250 1398 4047 \nQ 1172 3844 1172 3481 \nz\n\" transform=\"scale(0.015625)\"/>\n       </defs>\n       <use xlink:href=\"#DejaVuSans-30\"/>\n       <use xlink:href=\"#DejaVuSans-2e\" transform=\"translate(63.623047 0)\"/>\n       <use xlink:href=\"#DejaVuSans-38\" transform=\"translate(95.410156 0)\"/>\n      </g>\n     </g>\n    </g>\n    <g id=\"ytick_6\">\n     <g id=\"line2d_29\">\n      <path d=\"M 30.103125 19.219626 \nL 387.223125 19.219626 \n\" clip-path=\"url(#pa2e3e7290d)\" style=\"fill: none; stroke: #b0b0b0; stroke-width: 0.8; stroke-linecap: square\"/>\n     </g>\n     <g id=\"line2d_30\">\n      <g>\n       <use xlink:href=\"#m7271118d5d\" x=\"30.103125\" y=\"19.219626\" style=\"stroke: #000000; stroke-width: 0.8\"/>\n      </g>\n     </g>\n     <g id=\"text_15\">\n      <!-- 1.0 -->\n      <g transform=\"translate(7.2 23.018845) scale(0.1 -0.1)\">\n       <use xlink:href=\"#DejaVuSans-31\"/>\n       <use xlink:href=\"#DejaVuSans-2e\" transform=\"translate(63.623047 0)\"/>\n       <use xlink:href=\"#DejaVuSans-30\" transform=\"translate(95.410156 0)\"/>\n      </g>\n     </g>\n    </g>\n   </g>\n   <g id=\"line2d_31\">\n    <path d=\"M 46.335852 261.215098 \nL 63.465866 261.133172 \nL 63.465866 261.092872 \nL 66.728726 261.034805 \nL 66.728726 260.952032 \nL 68.360156 260.952032 \nL 68.360156 260.835312 \nL 69.991585 260.835312 \nL 69.991585 260.672499 \nL 71.623015 260.672499 \nL 71.623015 260.447852 \nL 73.254445 260.447852 \nL 73.254445 260.141262 \nL 74.885875 260.141262 \nL 74.885875 259.727414 \nL 76.517305 259.727414 \nL 76.517305 259.174928 \nL 78.148735 259.174928 \nL 78.148735 258.445513 \nL 79.780165 258.445513 \nL 79.780165 257.493222 \nL 81.411595 257.493222 \nL 81.411595 256.263877 \nL 83.043024 256.263877 \nL 83.043024 254.694777 \nL 84.674454 254.694777 \nL 84.674454 252.714805 \nL 86.305884 252.714805 \nL 86.305884 250.24505 \nL 87.937314 250.24505 \nL 87.937314 247.200075 \nL 89.568744 247.200075 \nL 89.568744 243.489925 \nL 91.200174 243.489925 \nL 91.200174 239.022964 \nL 92.831604 239.022964 \nL 92.831604 233.709576 \nL 94.463034 233.709576 \nL 94.463034 227.466694 \nL 96.094464 227.466694 \nL 96.094464 220.223079 \nL 97.725893 220.223079 \nL 97.725893 211.925164 \nL 99.357323 211.925164 \nL 99.357323 202.543203 \nL 100.988753 202.543203 \nL 100.988753 192.07738 \nL 102.620183 192.07738 \nL 102.620183 180.563485 \nL 104.251613 180.563485 \nL 104.251613 168.077676 \nL 105.883043 168.077676 \nL 105.883043 154.739879 \nL 107.514473 154.739879 \nL 107.514473 140.715368 \nL 109.145903 140.715368 \nL 109.145903 126.214149 \nL 110.777332 126.214149 \nL 110.777332 111.487863 \nL 112.408762 111.487863 \nL 112.408762 96.8241 \nL 114.040192 96.8241 \nL 114.040192 82.538154 \nL 115.671622 82.538154 \nL 115.671622 68.96248 \nL 117.303052 68.96248 \nL 117.303052 56.434279 \nL 118.934482 56.434279 \nL 118.934482 45.281829 \nL 120.565912 45.281829 \nL 120.565912 35.810318 \nL 122.197342 35.810318 \nL 122.197342 28.288031 \nL 123.828771 28.288031 \nL 123.828771 22.933734 \nL 125.460201 22.933734 \nL 125.460201 19.906123 \nL 127.091631 19.906123 \nL 127.091631 19.296 \nL 128.723061 19.296 \nL 128.723061 21.121757 \nL 130.354491 21.121757 \nL 130.354491 25.328451 \nL 131.985921 25.328451 \nL 131.985921 31.790553 \nL 133.617351 31.790553 \nL 133.617351 40.318168 \nL 135.248781 40.318168 \nL 135.248781 50.666304 \nL 136.88021 50.666304 \nL 136.88021 62.546554 \nL 138.51164 62.546554 \nL 138.51164 75.640414 \nL 140.14307 75.640414 \nL 140.14307 89.613386 \nL 141.7745 89.613386 \nL 141.7745 104.128996 \nL 143.40593 104.128996 \nL 143.40593 118.861923 \nL 145.03736 118.861923 \nL 145.03736 133.509542 \nL 146.66879 133.509542 \nL 146.66879 147.801362 \nL 148.30022 147.801362 \nL 148.30022 161.506013 \nL 149.931649 161.506013 \nL 149.931649 174.435629 \nL 151.563079 174.435629 \nL 151.563079 186.447676 \nL 153.194509 186.447676 \nL 153.194509 197.444433 \nL 154.825939 197.444433 \nL 154.825939 207.370449 \nL 156.457369 207.370449 \nL 156.457369 216.208399 \nL 158.088799 216.208399 \nL 158.088799 223.973811 \nL 159.720229 223.973811 \nL 159.720229 230.709118 \nL 161.351659 230.709118 \nL 161.351659 236.477477 \nL 162.983088 236.477477 \nL 162.983088 241.356743 \nL 164.614518 241.356743 \nL 164.614518 245.433874 \nL 166.245948 245.433874 \nL 166.245948 248.800011 \nL 167.877378 248.800011 \nL 167.877378 251.546357 \nL 169.508808 251.546357 \nL 169.508808 253.76091 \nL 171.140238 253.76091 \nL 171.140238 255.526048 \nL 172.771668 255.526048 \nL 172.771668 256.916899 \nL 174.403098 256.916899 \nL 174.403098 258.000416 \nL 176.034527 258.000416 \nL 176.034527 258.835021 \nL 177.665957 258.835021 \nL 177.665957 259.470723 \nL 179.297387 259.470723 \nL 179.297387 259.949554 \nL 180.928817 259.949554 \nL 180.928817 260.30625 \nL 182.560247 260.30625 \nL 182.560247 260.56905 \nL 184.191677 260.56905 \nL 184.191677 260.760558 \nL 185.823107 260.760558 \nL 185.823107 260.898599 \nL 189.085966 260.997024 \nL 189.085966 261.066446 \nL 195.611686 261.171158 \nL 195.611686 261.186587 \nL 370.990398 261.216 \nL 370.990398 261.216 \n\" clip-path=\"url(#pa2e3e7290d)\" style=\"fill: none; stroke: #1f77b4; stroke-width: 1.5; stroke-linecap: square\"/>\n   </g>\n   <g id=\"line2d_32\">\n    <path d=\"M 46.335852 261.216 \nL 171.140238 261.121489 \nL 171.140238 261.075973 \nL 174.403098 261.010622 \nL 174.403098 260.917797 \nL 176.034527 260.917797 \nL 176.034527 260.78737 \nL 177.665957 260.78737 \nL 177.665957 260.60609 \nL 179.297387 260.60609 \nL 179.297387 260.356862 \nL 180.928817 260.356862 \nL 180.928817 260.017955 \nL 182.560247 260.017955 \nL 182.560247 259.562148 \nL 184.191677 259.562148 \nL 184.191677 258.955869 \nL 185.823107 258.955869 \nL 185.823107 258.158379 \nL 187.454537 258.158379 \nL 187.454537 257.121064 \nL 189.085966 257.121064 \nL 189.085966 255.78695 \nL 190.717396 255.78695 \nL 190.717396 254.090525 \nL 192.348826 254.090525 \nL 192.348826 251.958001 \nL 193.980256 251.958001 \nL 193.980256 249.308139 \nL 195.611686 249.308139 \nL 195.611686 246.053749 \nL 197.243116 246.053749 \nL 197.243116 242.103967 \nL 198.874546 242.103967 \nL 198.874546 237.367371 \nL 200.505976 237.367371 \nL 200.505976 231.755968 \nL 202.137405 231.755968 \nL 202.137405 225.189977 \nL 203.768835 225.189977 \nL 203.768835 217.603324 \nL 205.400265 217.603324 \nL 205.400265 208.949619 \nL 207.031695 208.949619 \nL 207.031695 199.208327 \nL 208.663125 199.208327 \nL 208.663125 188.390792 \nL 210.294555 188.390792 \nL 210.294555 176.545655 \nL 211.925985 176.545655 \nL 211.925985 163.763222 \nL 213.557415 163.763222 \nL 213.557415 150.178311 \nL 215.188845 150.178311 \nL 215.188845 135.971142 \nL 216.820274 135.971142 \nL 216.820274 121.365928 \nL 218.451704 121.365928 \nL 218.451704 106.626932 \nL 220.083134 106.626932 \nL 220.083134 92.051916 \nL 221.714564 92.051916 \nL 221.714564 77.963105 \nL 223.345994 77.963105 \nL 223.345994 64.69597 \nL 224.977424 64.69597 \nL 224.977424 52.586316 \nL 226.608854 52.586316 \nL 226.608854 41.956371 \nL 228.240284 41.956371 \nL 228.240284 33.100631 \nL 229.871713 33.100631 \nL 229.871713 26.272347 \nL 231.503143 26.272347 \nL 231.503143 21.67151 \nL 233.134573 21.67151 \nL 233.134573 19.435122 \nL 234.766003 19.435122 \nL 234.766003 19.630416 \nL 236.397433 19.630416 \nL 236.397433 22.251506 \nL 238.028863 22.251506 \nL 238.028863 27.219675 \nL 239.660293 27.219675 \nL 239.660293 34.387305 \nL 241.291723 34.387305 \nL 241.291723 43.545162 \nL 242.923152 43.545162 \nL 242.923152 54.432538 \nL 244.554582 54.432538 \nL 244.554582 66.749565 \nL 246.186012 66.749565 \nL 246.186012 80.170889 \nL 247.817442 80.170889 \nL 247.817442 94.359839 \nL 249.448872 94.359839 \nL 249.448872 108.982234 \nL 251.080302 108.982234 \nL 251.080302 123.71906 \nL 252.711732 123.71906 \nL 252.711732 138.277369 \nL 254.343162 138.277369 \nL 254.343162 152.398934 \nL 255.974591 152.398934 \nL 255.974591 165.866384 \nL 257.606021 165.866384 \nL 257.606021 178.506731 \nL 259.237451 178.506731 \nL 259.237451 190.192395 \nL 260.868881 190.192395 \nL 260.868881 200.839972 \nL 262.500311 200.839972 \nL 262.500311 210.407115 \nL 264.131741 210.407115 \nL 264.131741 218.887967 \nL 265.763171 218.887967 \nL 265.763171 226.30761 \nL 267.394601 226.30761 \nL 267.394601 232.716002 \nL 269.02603 232.716002 \nL 269.02603 238.181799 \nL 270.65746 238.181799 \nL 270.65746 242.786448 \nL 272.28889 242.786448 \nL 272.28889 246.618796 \nL 273.92032 246.618796 \nL 273.92032 249.770418 \nL 275.55175 249.770418 \nL 275.55175 252.331778 \nL 277.18318 252.331778 \nL 277.18318 254.389247 \nL 278.81461 254.389247 \nL 278.81461 256.022952 \nL 280.44604 256.022952 \nL 280.44604 257.305397 \nL 282.077469 257.305397 \nL 282.077469 258.300732 \nL 283.708899 258.300732 \nL 283.708899 259.064574 \nL 285.340329 259.064574 \nL 285.340329 259.644235 \nL 286.971759 259.644235 \nL 286.971759 260.079257 \nL 288.603189 260.079257 \nL 288.603189 260.402139 \nL 290.234619 260.402139 \nL 290.234619 260.639165 \nL 291.866049 260.639165 \nL 291.866049 260.81127 \nL 293.497479 260.81127 \nL 293.497479 260.934879 \nL 296.760338 261.022699 \nL 296.760338 261.08442 \nL 304.917488 261.190465 \nL 304.917488 261.199474 \nL 370.990398 261.216 \nL 370.990398 261.216 \n\" clip-path=\"url(#pa2e3e7290d)\" style=\"fill: none; stroke: #ff7f0e; stroke-width: 1.5; stroke-linecap: square\"/>\n   </g>\n   <g id=\"line2d_33\">\n    <path d=\"M 46.335852 261.215098 \nL 164.614518 261.11865 \nL 164.614518 261.077859 \nL 167.877378 261.021533 \nL 167.877378 260.944432 \nL 171.140238 260.839813 \nL 171.140238 260.699088 \nL 172.771668 260.699088 \nL 172.771668 260.511452 \nL 174.403098 260.511452 \nL 174.403098 260.263459 \nL 176.034527 260.263459 \nL 176.034527 259.938576 \nL 177.665957 259.938576 \nL 177.665957 259.516728 \nL 179.297387 259.516728 \nL 179.297387 258.973842 \nL 180.928817 258.973842 \nL 180.928817 258.281432 \nL 182.560247 258.281432 \nL 182.560247 257.406258 \nL 184.191677 257.406258 \nL 184.191677 256.310093 \nL 185.823107 256.310093 \nL 185.823107 254.949655 \nL 187.454537 254.949655 \nL 187.454537 253.27675 \nL 189.085966 253.27675 \nL 189.085966 251.238687 \nL 190.717396 251.238687 \nL 190.717396 248.779003 \nL 192.348826 248.779003 \nL 192.348826 245.838557 \nL 193.980256 245.838557 \nL 193.980256 242.357022 \nL 195.611686 242.357022 \nL 195.611686 238.274786 \nL 197.243116 238.274786 \nL 197.243116 233.535267 \nL 198.874546 233.535267 \nL 198.874546 228.087599 \nL 200.505976 228.087599 \nL 200.505976 221.889639 \nL 202.137405 221.889639 \nL 202.137405 214.911186 \nL 203.768835 214.911186 \nL 203.768835 207.137295 \nL 205.400265 207.137295 \nL 205.400265 198.571516 \nL 207.031695 198.571516 \nL 207.031695 189.238887 \nL 208.663125 189.238887 \nL 208.663125 179.188465 \nL 210.294555 179.188465 \nL 210.294555 168.495208 \nL 211.925985 168.495208 \nL 211.925985 157.260993 \nL 213.557415 157.260993 \nL 213.557415 145.614613 \nL 215.188845 145.614613 \nL 215.188845 133.710606 \nL 216.820274 133.710606 \nL 216.820274 121.726838 \nL 218.451704 121.726838 \nL 218.451704 109.860832 \nL 220.083134 109.860832 \nL 220.083134 98.324886 \nL 221.714564 98.324886 \nL 221.714564 87.340122 \nL 223.345994 87.340122 \nL 223.345994 77.129681 \nL 224.977424 77.129681 \nL 224.977424 67.911335 \nL 226.608854 67.911335 \nL 226.608854 59.889845 \nL 228.240284 59.889845 \nL 228.240284 53.249456 \nL 229.871713 53.249456 \nL 229.871713 48.146875 \nL 231.503143 48.146875 \nL 231.503143 44.705145 \nL 233.134573 44.705145 \nL 233.134573 43.008712 \nL 236.397433 43.099987 \nL 236.397433 44.977581 \nL 238.028863 44.977581 \nL 238.028863 48.596335 \nL 239.660293 48.596335 \nL 239.660293 53.869116 \nL 241.291723 53.869116 \nL 241.291723 60.670308 \nL 242.923152 60.670308 \nL 242.923152 68.840789 \nL 244.554582 68.840789 \nL 244.554582 78.194117 \nL 246.186012 78.194117 \nL 246.186012 88.523594 \nL 247.817442 88.523594 \nL 247.817442 99.609833 \nL 249.448872 99.609833 \nL 249.448872 111.228445 \nL 251.080302 111.228445 \nL 251.080302 123.157469 \nL 252.711732 123.157469 \nL 252.711732 135.184212 \nL 254.343162 135.184212 \nL 254.343162 147.111213 \nL 255.974591 147.111213 \nL 255.974591 158.761126 \nL 257.606021 158.761126 \nL 257.606021 169.980382 \nL 259.237451 169.980382 \nL 259.237451 180.641562 \nL 260.868881 180.641562 \nL 260.868881 190.644515 \nL 262.500311 190.644515 \nL 262.500311 199.916304 \nL 264.131741 199.916304 \nL 264.131741 208.410097 \nL 265.763171 208.410097 \nL 265.763171 216.10321 \nL 267.394601 216.10321 \nL 267.394601 222.994484 \nL 269.02603 222.994484 \nL 269.02603 229.10121 \nL 270.65746 229.10121 \nL 270.65746 234.455813 \nL 272.28889 234.455813 \nL 272.28889 239.102475 \nL 273.92032 239.102475 \nL 273.92032 243.09386 \nL 275.55175 243.09386 \nL 275.55175 246.488075 \nL 277.18318 246.488075 \nL 277.18318 249.345964 \nL 278.81461 249.345964 \nL 278.81461 251.728784 \nL 280.44604 251.728784 \nL 280.44604 253.696315 \nL 282.077469 253.696315 \nL 282.077469 255.305389 \nL 283.708899 255.305389 \nL 283.708899 256.608823 \nL 285.340329 256.608823 \nL 285.340329 257.65473 \nL 286.971759 257.65473 \nL 286.971759 258.486142 \nL 288.603189 258.486142 \nL 288.603189 259.140903 \nL 290.234619 259.140903 \nL 290.234619 259.651781 \nL 291.866049 259.651781 \nL 291.866049 260.046729 \nL 293.497479 260.046729 \nL 293.497479 260.34926 \nL 295.128908 260.34926 \nL 295.128908 260.578886 \nL 296.760338 260.578886 \nL 296.760338 260.751596 \nL 298.391768 260.751596 \nL 298.391768 260.88032 \nL 301.654628 260.975397 \nL 301.654628 261.04499 \nL 306.548918 261.131766 \nL 306.548918 261.157625 \nL 370.990398 261.216 \nL 370.990398 261.216 \n\" clip-path=\"url(#pa2e3e7290d)\" style=\"fill: none; stroke: #2ca02c; stroke-width: 1.5; stroke-linecap: square\"/>\n   </g>\n   <g id=\"patch_3\">\n    <path d=\"M 30.103125 273.312 \nL 30.103125 7.2 \n\" style=\"fill: none; stroke: #000000; stroke-width: 0.8; stroke-linejoin: miter; stroke-linecap: square\"/>\n   </g>\n   <g id=\"patch_4\">\n    <path d=\"M 387.223125 273.312 \nL 387.223125 7.2 \n\" style=\"fill: none; stroke: #000000; stroke-width: 0.8; stroke-linejoin: miter; stroke-linecap: square\"/>\n   </g>\n   <g id=\"patch_5\">\n    <path d=\"M 30.103125 273.312 \nL 387.223125 273.312 \n\" style=\"fill: none; stroke: #000000; stroke-width: 0.8; stroke-linejoin: miter; stroke-linecap: square\"/>\n   </g>\n   <g id=\"patch_6\">\n    <path d=\"M 30.103125 7.2 \nL 387.223125 7.2 \n\" style=\"fill: none; stroke: #000000; stroke-width: 0.8; stroke-linejoin: miter; stroke-linecap: square\"/>\n   </g>\n   <g id=\"legend_1\">\n    <g id=\"patch_7\">\n     <path d=\"M 306.855937 59.234375 \nL 380.223125 59.234375 \nQ 382.223125 59.234375 382.223125 57.234375 \nL 382.223125 14.2 \nQ 382.223125 12.2 380.223125 12.2 \nL 306.855937 12.2 \nQ 304.855937 12.2 304.855937 14.2 \nL 304.855937 57.234375 \nQ 304.855937 59.234375 306.855937 59.234375 \nz\n\" style=\"fill: #ffffff; opacity: 0.8; stroke: #cccccc; stroke-linejoin: miter\"/>\n    </g>\n    <g id=\"line2d_34\">\n     <path d=\"M 308.855937 20.298437 \nL 313.855937 20.298437 \nL 313.855937 20.298437 \nL 323.855937 20.298437 \nL 323.855937 20.298437 \nL 328.855937 20.298437 \n\" style=\"fill: none; stroke: #1f77b4; stroke-width: 1.5; stroke-linecap: square\"/>\n    </g>\n    <g id=\"text_16\">\n     <!-- initial -->\n     <g transform=\"translate(336.855937 23.798437) scale(0.1 -0.1)\">\n      <defs>\n       <path id=\"DejaVuSans-69\" d=\"M 603 3500 \nL 1178 3500 \nL 1178 0 \nL 603 0 \nL 603 3500 \nz\nM 603 4863 \nL 1178 4863 \nL 1178 4134 \nL 603 4134 \nL 603 4863 \nz\n\" transform=\"scale(0.015625)\"/>\n       <path id=\"DejaVuSans-6e\" d=\"M 3513 2113 \nL 3513 0 \nL 2938 0 \nL 2938 2094 \nQ 2938 2591 2744 2837 \nQ 2550 3084 2163 3084 \nQ 1697 3084 1428 2787 \nQ 1159 2491 1159 1978 \nL 1159 0 \nL 581 0 \nL 581 3500 \nL 1159 3500 \nL 1159 2956 \nQ 1366 3272 1645 3428 \nQ 1925 3584 2291 3584 \nQ 2894 3584 3203 3211 \nQ 3513 2838 3513 2113 \nz\n\" transform=\"scale(0.015625)\"/>\n       <path id=\"DejaVuSans-74\" d=\"M 1172 4494 \nL 1172 3500 \nL 2356 3500 \nL 2356 3053 \nL 1172 3053 \nL 1172 1153 \nQ 1172 725 1289 603 \nQ 1406 481 1766 481 \nL 2356 481 \nL 2356 0 \nL 1766 0 \nQ 1100 0 847 248 \nQ 594 497 594 1153 \nL 594 3053 \nL 172 3053 \nL 172 3500 \nL 594 3500 \nL 594 4494 \nL 1172 4494 \nz\n\" transform=\"scale(0.015625)\"/>\n       <path id=\"DejaVuSans-61\" d=\"M 2194 1759 \nQ 1497 1759 1228 1600 \nQ 959 1441 959 1056 \nQ 959 750 1161 570 \nQ 1363 391 1709 391 \nQ 2188 391 2477 730 \nQ 2766 1069 2766 1631 \nL 2766 1759 \nL 2194 1759 \nz\nM 3341 1997 \nL 3341 0 \nL 2766 0 \nL 2766 531 \nQ 2569 213 2275 61 \nQ 1981 -91 1556 -91 \nQ 1019 -91 701 211 \nQ 384 513 384 1019 \nQ 384 1609 779 1909 \nQ 1175 2209 1959 2209 \nL 2766 2209 \nL 2766 2266 \nQ 2766 2663 2505 2880 \nQ 2244 3097 1772 3097 \nQ 1472 3097 1187 3025 \nQ 903 2953 641 2809 \nL 641 3341 \nQ 956 3463 1253 3523 \nQ 1550 3584 1831 3584 \nQ 2591 3584 2966 3190 \nQ 3341 2797 3341 1997 \nz\n\" transform=\"scale(0.015625)\"/>\n       <path id=\"DejaVuSans-6c\" d=\"M 603 4863 \nL 1178 4863 \nL 1178 0 \nL 603 0 \nL 603 4863 \nz\n\" transform=\"scale(0.015625)\"/>\n      </defs>\n      <use xlink:href=\"#DejaVuSans-69\"/>\n      <use xlink:href=\"#DejaVuSans-6e\" transform=\"translate(27.783203 0)\"/>\n      <use xlink:href=\"#DejaVuSans-69\" transform=\"translate(91.162109 0)\"/>\n      <use xlink:href=\"#DejaVuSans-74\" transform=\"translate(118.945312 0)\"/>\n      <use xlink:href=\"#DejaVuSans-69\" transform=\"translate(158.154297 0)\"/>\n      <use xlink:href=\"#DejaVuSans-61\" transform=\"translate(185.9375 0)\"/>\n      <use xlink:href=\"#DejaVuSans-6c\" transform=\"translate(247.216797 0)\"/>\n     </g>\n    </g>\n    <g id=\"line2d_35\">\n     <path d=\"M 308.855937 34.976562 \nL 313.855937 34.976562 \nL 313.855937 34.976562 \nL 323.855937 34.976562 \nL 323.855937 34.976562 \nL 328.855937 34.976562 \n\" style=\"fill: none; stroke: #ff7f0e; stroke-width: 1.5; stroke-linecap: square\"/>\n    </g>\n    <g id=\"text_17\">\n     <!-- analytic -->\n     <g transform=\"translate(336.855937 38.476562) scale(0.1 -0.1)\">\n      <defs>\n       <path id=\"DejaVuSans-79\" d=\"M 2059 -325 \nQ 1816 -950 1584 -1140 \nQ 1353 -1331 966 -1331 \nL 506 -1331 \nL 506 -850 \nL 844 -850 \nQ 1081 -850 1212 -737 \nQ 1344 -625 1503 -206 \nL 1606 56 \nL 191 3500 \nL 800 3500 \nL 1894 763 \nL 2988 3500 \nL 3597 3500 \nL 2059 -325 \nz\n\" transform=\"scale(0.015625)\"/>\n       <path id=\"DejaVuSans-63\" d=\"M 3122 3366 \nL 3122 2828 \nQ 2878 2963 2633 3030 \nQ 2388 3097 2138 3097 \nQ 1578 3097 1268 2742 \nQ 959 2388 959 1747 \nQ 959 1106 1268 751 \nQ 1578 397 2138 397 \nQ 2388 397 2633 464 \nQ 2878 531 3122 666 \nL 3122 134 \nQ 2881 22 2623 -34 \nQ 2366 -91 2075 -91 \nQ 1284 -91 818 406 \nQ 353 903 353 1747 \nQ 353 2603 823 3093 \nQ 1294 3584 2113 3584 \nQ 2378 3584 2631 3529 \nQ 2884 3475 3122 3366 \nz\n\" transform=\"scale(0.015625)\"/>\n      </defs>\n      <use xlink:href=\"#DejaVuSans-61\"/>\n      <use xlink:href=\"#DejaVuSans-6e\" transform=\"translate(61.279297 0)\"/>\n      <use xlink:href=\"#DejaVuSans-61\" transform=\"translate(124.658203 0)\"/>\n      <use xlink:href=\"#DejaVuSans-6c\" transform=\"translate(185.9375 0)\"/>\n      <use xlink:href=\"#DejaVuSans-79\" transform=\"translate(213.720703 0)\"/>\n      <use xlink:href=\"#DejaVuSans-74\" transform=\"translate(272.900391 0)\"/>\n      <use xlink:href=\"#DejaVuSans-69\" transform=\"translate(312.109375 0)\"/>\n      <use xlink:href=\"#DejaVuSans-63\" transform=\"translate(339.892578 0)\"/>\n     </g>\n    </g>\n    <g id=\"line2d_36\">\n     <path d=\"M 308.855937 49.654687 \nL 313.855937 49.654687 \nL 313.855937 49.654687 \nL 323.855937 49.654687 \nL 323.855937 49.654687 \nL 328.855937 49.654687 \n\" style=\"fill: none; stroke: #2ca02c; stroke-width: 1.5; stroke-linecap: square\"/>\n    </g>\n    <g id=\"text_18\">\n     <!-- UPWIND -->\n     <g transform=\"translate(336.855937 53.154687) scale(0.1 -0.1)\">\n      <defs>\n       <path id=\"DejaVuSans-55\" d=\"M 556 4666 \nL 1191 4666 \nL 1191 1831 \nQ 1191 1081 1462 751 \nQ 1734 422 2344 422 \nQ 2950 422 3222 751 \nQ 3494 1081 3494 1831 \nL 3494 4666 \nL 4128 4666 \nL 4128 1753 \nQ 4128 841 3676 375 \nQ 3225 -91 2344 -91 \nQ 1459 -91 1007 375 \nQ 556 841 556 1753 \nL 556 4666 \nz\n\" transform=\"scale(0.015625)\"/>\n       <path id=\"DejaVuSans-50\" d=\"M 1259 4147 \nL 1259 2394 \nL 2053 2394 \nQ 2494 2394 2734 2622 \nQ 2975 2850 2975 3272 \nQ 2975 3691 2734 3919 \nQ 2494 4147 2053 4147 \nL 1259 4147 \nz\nM 628 4666 \nL 2053 4666 \nQ 2838 4666 3239 4311 \nQ 3641 3956 3641 3272 \nQ 3641 2581 3239 2228 \nQ 2838 1875 2053 1875 \nL 1259 1875 \nL 1259 0 \nL 628 0 \nL 628 4666 \nz\n\" transform=\"scale(0.015625)\"/>\n       <path id=\"DejaVuSans-57\" d=\"M 213 4666 \nL 850 4666 \nL 1831 722 \nL 2809 4666 \nL 3519 4666 \nL 4500 722 \nL 5478 4666 \nL 6119 4666 \nL 4947 0 \nL 4153 0 \nL 3169 4050 \nL 2175 0 \nL 1381 0 \nL 213 4666 \nz\n\" transform=\"scale(0.015625)\"/>\n       <path id=\"DejaVuSans-49\" d=\"M 628 4666 \nL 1259 4666 \nL 1259 0 \nL 628 0 \nL 628 4666 \nz\n\" transform=\"scale(0.015625)\"/>\n       <path id=\"DejaVuSans-4e\" d=\"M 628 4666 \nL 1478 4666 \nL 3547 763 \nL 3547 4666 \nL 4159 4666 \nL 4159 0 \nL 3309 0 \nL 1241 3903 \nL 1241 0 \nL 628 0 \nL 628 4666 \nz\n\" transform=\"scale(0.015625)\"/>\n       <path id=\"DejaVuSans-44\" d=\"M 1259 4147 \nL 1259 519 \nL 2022 519 \nQ 2988 519 3436 956 \nQ 3884 1394 3884 2338 \nQ 3884 3275 3436 3711 \nQ 2988 4147 2022 4147 \nL 1259 4147 \nz\nM 628 4666 \nL 1925 4666 \nQ 3281 4666 3915 4102 \nQ 4550 3538 4550 2338 \nQ 4550 1131 3912 565 \nQ 3275 0 1925 0 \nL 628 0 \nL 628 4666 \nz\n\" transform=\"scale(0.015625)\"/>\n      </defs>\n      <use xlink:href=\"#DejaVuSans-55\"/>\n      <use xlink:href=\"#DejaVuSans-50\" transform=\"translate(73.193359 0)\"/>\n      <use xlink:href=\"#DejaVuSans-57\" transform=\"translate(133.496094 0)\"/>\n      <use xlink:href=\"#DejaVuSans-49\" transform=\"translate(232.373047 0)\"/>\n      <use xlink:href=\"#DejaVuSans-4e\" transform=\"translate(261.865234 0)\"/>\n      <use xlink:href=\"#DejaVuSans-44\" transform=\"translate(336.669922 0)\"/>\n     </g>\n    </g>\n   </g>\n  </g>\n </g>\n <defs>\n  <clipPath id=\"pa2e3e7290d\">\n   <rect x=\"30.103125\" y=\"7.2\" width=\"357.12\" height=\"266.112\"/>\n  </clipPath>\n </defs>\n</svg>\n"
          },
          "metadata": {}
        },
        {
          "output_type": "display_data",
          "data": {
            "text/plain": [
              "HBox(children=(Button(description='tmptc9olkom.pdf', style=ButtonStyle()), Button(description='tmpzzgla_3u.svg…"
            ],
            "application/vnd.jupyter.widget-view+json": {
              "version_major": 2,
              "version_minor": 0,
              "model_id": "9734a3ee66524a9282576c9b3ba23496"
            }
          },
          "metadata": {}
        }
      ],
      "source": [
        "u = 2\n",
        "t_max = 66\n",
        "\n",
        "nx = 200\n",
        "nt = 100\n",
        "dt = t_max / nt\n",
        "x, dx = np.linspace(-100, 300, nx, retstep=True)\n",
        "\n",
        "plot(\n",
        "    x=x,\n",
        "    initial=psi_0(x),\n",
        "    analytic=psi_0(x - u * t_max),\n",
        "    UPWIND=solve_upwind(nt=nt, C=np.full(nx-1, u * dt / dx), psi=psi_0(x))\n",
        ")"
      ]
    },
    {
      "cell_type": "markdown",
      "id": "b45298e7-4a4d-424b-a5fb-9b3dc9322cf4",
      "metadata": {
        "id": "b45298e7-4a4d-424b-a5fb-9b3dc9322cf4"
      },
      "source": [
        "**3. modified equation analysis of the upwind scheme**\n",
        "\n",
        "While the upwind scheme is conservative, sing-preserving and stable for $|C| \\le 1$, it is only [first-order accurate](https://en.wikipedia.org/wiki/Rate_of_convergence) in space ($\\Delta x$) and time ($\\Delta t$), and incurs [numerical diffusion](https://en.wikipedia.org/wiki/Numerical_diffusion) which can be quantified with the modified-equation analysis by substituting the discretised values other than $\\psi_i^n$ in the scheme formula with their Taylor expansions (using the Big O notation):\n",
        "\n",
        "\\begin{align}\n",
        "\\psi_i^{n+1} &= \\psi_i^{n} + \\frac{\\left.\\partial_t\\psi\\right|_i^n}{1!} (\\,+\\Delta t\\,) + \\frac{\\left.\\partial^2_t\\psi\\right|_i^n}{2!} (\\,+\\Delta t\\,)^2 + O(\\Delta t^3) \\\\\n",
        "\\psi_{i+1}^n &= \\psi_i^n + \\frac{\\left.\\partial_x\\psi\\right|_i^n}{1!} (+\\Delta x) + \\frac{\\left.\\partial^2_x\\psi\\right|_i^n}{2!} (+\\Delta x)^2 + O(\\Delta x^3)\\\\\n",
        "\\psi_{i-1}^n &= \\psi_i^n + \\frac{\\left.\\partial_x\\psi\\right|_i^n}{1!} (-\\Delta x) + \\frac{\\left.\\partial^2_x\\psi\\right|_i^n}{2!} (-\\Delta x)^2 + O(\\Delta x^3)\n",
        "\\end{align}\n",
        "\n",
        "which yields (up to second-order terms):\n",
        "\n",
        "\\begin{align}\n",
        "\\left.\\partial_t\\psi\\right|_i^n \\Delta t + \\underbrace{\\partial^2_t\\psi}_{u^2\\partial_x^2\\psi}|_i^n \\frac{\\Delta t^2}{2} &= \\frac{C}{2} \\left( \\psi^n_{i-1} - \\psi^n_{i+1}\\right) + \\frac{|C|}{2} \\left( \\psi^n_{i-1} - 2 \\psi_i^n + \\psi^n_{i+1}\\right)\\\\\n",
        "&=- \\,C\\, \\Delta x \\, \\partial_x \\left.\\psi\\right|^n_i + \\frac{|C|}{2} \\,\\Delta x^2 \\, \\partial_x^2\\left.\\psi\\right|^n_i\n",
        "\\end{align}\n",
        "\n",
        "in which the highlighted second-order time derivative can be replaced with second-order spatial derivative using the Cauchy-Kovalevskaya procedure (i.e., by substituting the advection eq. into its time-derivative giving $\\partial^2_t \\psi = -u \\partial_x \\partial_t \\psi = u^2 \\partial^2_x \\psi$) yielding the following, so-called, modified equation:\n",
        "\n",
        "$$\n",
        "\\partial_t\\psi|_i^n + u \\partial_x \\psi|_i^n = \\underbrace{\\left(|u| \\frac{\\Delta x}{2} - u^2 \\frac{\\Delta t}{2}\\right)}_{k}\\, \\partial_x^2 \\psi|_i^n  \n",
        "$$\n",
        "\n",
        "which confirms that, as $\\Delta t \\rightarrow 0$ and $\\Delta x \\rightarrow 0$, the upwind scheme approximates the advection eq., but the truncation error has a leading-order source term with a coefficient of numerical diffusion given by $k$."
      ]
    },
    {
      "cell_type": "markdown",
      "id": "8b295490-86d3-45d8-b1da-de96d2a02148",
      "metadata": {
        "id": "8b295490-86d3-45d8-b1da-de96d2a02148"
      },
      "source": [
        "**4. reversing numerical diffusion with MPDATA**\n",
        "\n",
        "The concept of MPDATA lies in reversing the effect of numerical diffusion by using the pseudo-velocity technique that allows to express diffusion terms in transport problems as advective terms. To this end, Smolarkiewicz ([1983](https://doi.org/10.1175%2F1520-0493%281983%29111%3C0479%3AASPDAS%3E2.0.CO%3B2)) introduced the anti-diffusive pseudo velocity (note the opposite sign stemming from, de facto, integrating backwards in time to reverse the effect of diffusion):\n",
        "\n",
        "$$\n",
        "\\partial_t\\psi + \\partial_x \\big(\\!\\!\\!\\!\\!\\!\\!\\!\\!\\!\\!\\!\\underbrace{k \\frac{\\partial_x \\psi}{\\psi}}_\\text{anti-diffusive velocity} \\!\\!\\!\\!\\!\\!\\!\\!\\!\\!\\!\\!\\psi\\big) = 0\n",
        "$$\n",
        "and proposed discretisation allowing to perform a corrective step using upwind integration with an anti-diffusive Courant number field:\n",
        "\n",
        "$$\n",
        "C^{m+1}_{i- 1/2 } = \\frac{\\Delta t}{\\Delta x} k^m_{i- 1/2} \\left.\\frac{\\partial_x \\psi}{\\psi}\\right|^m_{i- 1/2} \\approx \\begin{cases}\n",
        "0 &\\text{  if  } \\psi^m_{i}+\\psi^m_{i-1} = 0\\\\\n",
        "\\left[|C^m_{i-1/2}|-(C^m_{i-1/2})^2\\right]\\frac{\\psi^m_{i}-\\psi^m_{i-1}}{\\psi^m_{i}+\\psi^m_{i-1}} &\\text{  otherwise  }\n",
        "\\end{cases}\n",
        "$$\n",
        "where $m > 0$ numbers algorithm iterations. The first pass of the scheme is an ordinary upwind integration using $C^{m=1}=C$ and yielding $\\psi^{m=1}$. In the second pass, the values of the anti-diffusive Courant number $C^{m=2}$ are computed based on $C^{m=1}$ and $\\psi^{m=1}$, and used to perform an upwind anti-diffusive pass yielding $\\psi^{m=2}$. Subsequent iterations may be used to correct the integration of the anti-diffusive corrections from previous passes. If $M$ iterations are used, $\\psi^{m=M}$ is used as the result of integration of the advective term over one $\\Delta t$."
      ]
    },
    {
      "cell_type": "markdown",
      "id": "b4bed2f8-2ec1-4ff5-b911-3c5284cc2a80",
      "metadata": {
        "id": "b4bed2f8-2ec1-4ff5-b911-3c5284cc2a80"
      },
      "source": [
        "**5. MPDATA algorithm coded in Python/NumPy (incl. time-stepping loop)**"
      ]
    },
    {
      "cell_type": "code",
      "source": [
        "def corrective_c(C: np.ndarray, i: slice, psi: np.ndarray):\n",
        "  epsilon = 1\n",
        "  return (np.abs(C[i-hlf]) - np.pow(C[i-hlf], 2)) * (psi[i]-psi[i-one]) / (psi[i]+psi[i-one] + epsilon)"
      ],
      "metadata": {
        "id": "aOMhjJakADNq"
      },
      "id": "aOMhjJakADNq",
      "execution_count": 40,
      "outputs": []
    },
    {
      "cell_type": "code",
      "execution_count": 41,
      "id": "4916e1a9-666d-46c4-952d-a3b26a8dd843",
      "metadata": {
        "id": "4916e1a9-666d-46c4-952d-a3b26a8dd843"
      },
      "outputs": [],
      "source": [
        "def solve_mpdata(*, nt: int, C: float, psi: np.ndarray):\n",
        "  i_ext = slice(1, len(psi))\n",
        "  for _ in range(nt):\n",
        "      upwind(psi, slice(1, len(C)), C)\n",
        "      upwind(psi, slice(1, len(C)), corrective_c(C, i_ext , psi))\n",
        "  return psi"
      ]
    },
    {
      "cell_type": "markdown",
      "id": "940022cd-c039-4246-89de-7d24ba3de579",
      "metadata": {
        "id": "940022cd-c039-4246-89de-7d24ba3de579"
      },
      "source": [
        "**6. comparing analytic and numerical solutions**"
      ]
    },
    {
      "cell_type": "code",
      "execution_count": 42,
      "id": "7088e23f-8ccf-43b7-b50a-0f51f40e536c",
      "metadata": {
        "colab": {
          "base_uri": "https://localhost:8080/",
          "height": 449,
          "referenced_widgets": [
            "d022eef136014b7ab6ce9e6eaf9f45c5",
            "8f5e5b07084940c19990263573a62ae4",
            "70facad610334fd68b1170f6c513b348",
            "7e6b05932de843faa998ffa4b4676d68",
            "6010ce6732374fc58dfe6c920b4026e5",
            "3040a4415e1746268c2a66cea0f7af4d",
            "e0d0b81e177943149e753a56d7234572",
            "7eaac8592d394adcb8f6174ea9f57156"
          ]
        },
        "id": "7088e23f-8ccf-43b7-b50a-0f51f40e536c",
        "outputId": "5750465a-f958-4899-b0e9-219633d575b9"
      },
      "outputs": [
        {
          "output_type": "display_data",
          "data": {
            "text/plain": [
              "<Figure size 640x480 with 1 Axes>"
            ],
            "image/svg+xml": "<?xml version=\"1.0\" encoding=\"utf-8\" standalone=\"no\"?>\n<!DOCTYPE svg PUBLIC \"-//W3C//DTD SVG 1.1//EN\"\n  \"http://www.w3.org/Graphics/SVG/1.1/DTD/svg11.dtd\">\n<svg xmlns:xlink=\"http://www.w3.org/1999/xlink\" width=\"394.423125pt\" height=\"297.190125pt\" viewBox=\"0 0 394.423125 297.190125\" xmlns=\"http://www.w3.org/2000/svg\" version=\"1.1\">\n <metadata>\n  <rdf:RDF xmlns:dc=\"http://purl.org/dc/elements/1.1/\" xmlns:cc=\"http://creativecommons.org/ns#\" xmlns:rdf=\"http://www.w3.org/1999/02/22-rdf-syntax-ns#\">\n   <cc:Work>\n    <dc:type rdf:resource=\"http://purl.org/dc/dcmitype/StillImage\"/>\n    <dc:date>2025-04-14T18:56:50.501409</dc:date>\n    <dc:format>image/svg+xml</dc:format>\n    <dc:creator>\n     <cc:Agent>\n      <dc:title>Matplotlib v3.10.0, https://matplotlib.org/</dc:title>\n     </cc:Agent>\n    </dc:creator>\n   </cc:Work>\n  </rdf:RDF>\n </metadata>\n <defs>\n  <style type=\"text/css\">*{stroke-linejoin: round; stroke-linecap: butt}</style>\n </defs>\n <g id=\"figure_1\">\n  <g id=\"patch_1\">\n   <path d=\"M 0 297.190125 \nL 394.423125 297.190125 \nL 394.423125 0 \nL 0 0 \nz\n\" style=\"fill: #ffffff\"/>\n  </g>\n  <g id=\"axes_1\">\n   <g id=\"patch_2\">\n    <path d=\"M 30.103125 273.312 \nL 387.223125 273.312 \nL 387.223125 7.2 \nL 30.103125 7.2 \nz\n\" style=\"fill: #ffffff\"/>\n   </g>\n   <g id=\"matplotlib.axis_1\">\n    <g id=\"xtick_1\">\n     <g id=\"line2d_1\">\n      <path d=\"M 46.335852 273.312 \nL 46.335852 7.2 \n\" clip-path=\"url(#p05c3128ba4)\" style=\"fill: none; stroke: #b0b0b0; stroke-width: 0.8; stroke-linecap: square\"/>\n     </g>\n     <g id=\"line2d_2\">\n      <defs>\n       <path id=\"me2e500b57d\" d=\"M 0 0 \nL 0 3.5 \n\" style=\"stroke: #000000; stroke-width: 0.8\"/>\n      </defs>\n      <g>\n       <use xlink:href=\"#me2e500b57d\" x=\"46.335852\" y=\"273.312\" style=\"stroke: #000000; stroke-width: 0.8\"/>\n      </g>\n     </g>\n     <g id=\"text_1\">\n      <!-- −100 -->\n      <g transform=\"translate(32.602259 287.910437) scale(0.1 -0.1)\">\n       <defs>\n        <path id=\"DejaVuSans-2212\" d=\"M 678 2272 \nL 4684 2272 \nL 4684 1741 \nL 678 1741 \nL 678 2272 \nz\n\" transform=\"scale(0.015625)\"/>\n        <path id=\"DejaVuSans-31\" d=\"M 794 531 \nL 1825 531 \nL 1825 4091 \nL 703 3866 \nL 703 4441 \nL 1819 4666 \nL 2450 4666 \nL 2450 531 \nL 3481 531 \nL 3481 0 \nL 794 0 \nL 794 531 \nz\n\" transform=\"scale(0.015625)\"/>\n        <path id=\"DejaVuSans-30\" d=\"M 2034 4250 \nQ 1547 4250 1301 3770 \nQ 1056 3291 1056 2328 \nQ 1056 1369 1301 889 \nQ 1547 409 2034 409 \nQ 2525 409 2770 889 \nQ 3016 1369 3016 2328 \nQ 3016 3291 2770 3770 \nQ 2525 4250 2034 4250 \nz\nM 2034 4750 \nQ 2819 4750 3233 4129 \nQ 3647 3509 3647 2328 \nQ 3647 1150 3233 529 \nQ 2819 -91 2034 -91 \nQ 1250 -91 836 529 \nQ 422 1150 422 2328 \nQ 422 3509 836 4129 \nQ 1250 4750 2034 4750 \nz\n\" transform=\"scale(0.015625)\"/>\n       </defs>\n       <use xlink:href=\"#DejaVuSans-2212\"/>\n       <use xlink:href=\"#DejaVuSans-31\" transform=\"translate(83.789062 0)\"/>\n       <use xlink:href=\"#DejaVuSans-30\" transform=\"translate(147.412109 0)\"/>\n       <use xlink:href=\"#DejaVuSans-30\" transform=\"translate(211.035156 0)\"/>\n      </g>\n     </g>\n    </g>\n    <g id=\"xtick_2\">\n     <g id=\"line2d_3\">\n      <path d=\"M 86.91767 273.312 \nL 86.91767 7.2 \n\" clip-path=\"url(#p05c3128ba4)\" style=\"fill: none; stroke: #b0b0b0; stroke-width: 0.8; stroke-linecap: square\"/>\n     </g>\n     <g id=\"line2d_4\">\n      <g>\n       <use xlink:href=\"#me2e500b57d\" x=\"86.91767\" y=\"273.312\" style=\"stroke: #000000; stroke-width: 0.8\"/>\n      </g>\n     </g>\n     <g id=\"text_2\">\n      <!-- −50 -->\n      <g transform=\"translate(76.365327 287.910437) scale(0.1 -0.1)\">\n       <defs>\n        <path id=\"DejaVuSans-35\" d=\"M 691 4666 \nL 3169 4666 \nL 3169 4134 \nL 1269 4134 \nL 1269 2991 \nQ 1406 3038 1543 3061 \nQ 1681 3084 1819 3084 \nQ 2600 3084 3056 2656 \nQ 3513 2228 3513 1497 \nQ 3513 744 3044 326 \nQ 2575 -91 1722 -91 \nQ 1428 -91 1123 -41 \nQ 819 9 494 109 \nL 494 744 \nQ 775 591 1075 516 \nQ 1375 441 1709 441 \nQ 2250 441 2565 725 \nQ 2881 1009 2881 1497 \nQ 2881 1984 2565 2268 \nQ 2250 2553 1709 2553 \nQ 1456 2553 1204 2497 \nQ 953 2441 691 2322 \nL 691 4666 \nz\n\" transform=\"scale(0.015625)\"/>\n       </defs>\n       <use xlink:href=\"#DejaVuSans-2212\"/>\n       <use xlink:href=\"#DejaVuSans-35\" transform=\"translate(83.789062 0)\"/>\n       <use xlink:href=\"#DejaVuSans-30\" transform=\"translate(147.412109 0)\"/>\n      </g>\n     </g>\n    </g>\n    <g id=\"xtick_3\">\n     <g id=\"line2d_5\">\n      <path d=\"M 127.499489 273.312 \nL 127.499489 7.2 \n\" clip-path=\"url(#p05c3128ba4)\" style=\"fill: none; stroke: #b0b0b0; stroke-width: 0.8; stroke-linecap: square\"/>\n     </g>\n     <g id=\"line2d_6\">\n      <g>\n       <use xlink:href=\"#me2e500b57d\" x=\"127.499489\" y=\"273.312\" style=\"stroke: #000000; stroke-width: 0.8\"/>\n      </g>\n     </g>\n     <g id=\"text_3\">\n      <!-- 0 -->\n      <g transform=\"translate(124.318239 287.910437) scale(0.1 -0.1)\">\n       <use xlink:href=\"#DejaVuSans-30\"/>\n      </g>\n     </g>\n    </g>\n    <g id=\"xtick_4\">\n     <g id=\"line2d_7\">\n      <path d=\"M 168.081307 273.312 \nL 168.081307 7.2 \n\" clip-path=\"url(#p05c3128ba4)\" style=\"fill: none; stroke: #b0b0b0; stroke-width: 0.8; stroke-linecap: square\"/>\n     </g>\n     <g id=\"line2d_8\">\n      <g>\n       <use xlink:href=\"#me2e500b57d\" x=\"168.081307\" y=\"273.312\" style=\"stroke: #000000; stroke-width: 0.8\"/>\n      </g>\n     </g>\n     <g id=\"text_4\">\n      <!-- 50 -->\n      <g transform=\"translate(161.718807 287.910437) scale(0.1 -0.1)\">\n       <use xlink:href=\"#DejaVuSans-35\"/>\n       <use xlink:href=\"#DejaVuSans-30\" transform=\"translate(63.623047 0)\"/>\n      </g>\n     </g>\n    </g>\n    <g id=\"xtick_5\">\n     <g id=\"line2d_9\">\n      <path d=\"M 208.663125 273.312 \nL 208.663125 7.2 \n\" clip-path=\"url(#p05c3128ba4)\" style=\"fill: none; stroke: #b0b0b0; stroke-width: 0.8; stroke-linecap: square\"/>\n     </g>\n     <g id=\"line2d_10\">\n      <g>\n       <use xlink:href=\"#me2e500b57d\" x=\"208.663125\" y=\"273.312\" style=\"stroke: #000000; stroke-width: 0.8\"/>\n      </g>\n     </g>\n     <g id=\"text_5\">\n      <!-- 100 -->\n      <g transform=\"translate(199.119375 287.910437) scale(0.1 -0.1)\">\n       <use xlink:href=\"#DejaVuSans-31\"/>\n       <use xlink:href=\"#DejaVuSans-30\" transform=\"translate(63.623047 0)\"/>\n       <use xlink:href=\"#DejaVuSans-30\" transform=\"translate(127.246094 0)\"/>\n      </g>\n     </g>\n    </g>\n    <g id=\"xtick_6\">\n     <g id=\"line2d_11\">\n      <path d=\"M 249.244943 273.312 \nL 249.244943 7.2 \n\" clip-path=\"url(#p05c3128ba4)\" style=\"fill: none; stroke: #b0b0b0; stroke-width: 0.8; stroke-linecap: square\"/>\n     </g>\n     <g id=\"line2d_12\">\n      <g>\n       <use xlink:href=\"#me2e500b57d\" x=\"249.244943\" y=\"273.312\" style=\"stroke: #000000; stroke-width: 0.8\"/>\n      </g>\n     </g>\n     <g id=\"text_6\">\n      <!-- 150 -->\n      <g transform=\"translate(239.701193 287.910437) scale(0.1 -0.1)\">\n       <use xlink:href=\"#DejaVuSans-31\"/>\n       <use xlink:href=\"#DejaVuSans-35\" transform=\"translate(63.623047 0)\"/>\n       <use xlink:href=\"#DejaVuSans-30\" transform=\"translate(127.246094 0)\"/>\n      </g>\n     </g>\n    </g>\n    <g id=\"xtick_7\">\n     <g id=\"line2d_13\">\n      <path d=\"M 289.826761 273.312 \nL 289.826761 7.2 \n\" clip-path=\"url(#p05c3128ba4)\" style=\"fill: none; stroke: #b0b0b0; stroke-width: 0.8; stroke-linecap: square\"/>\n     </g>\n     <g id=\"line2d_14\">\n      <g>\n       <use xlink:href=\"#me2e500b57d\" x=\"289.826761\" y=\"273.312\" style=\"stroke: #000000; stroke-width: 0.8\"/>\n      </g>\n     </g>\n     <g id=\"text_7\">\n      <!-- 200 -->\n      <g transform=\"translate(280.283011 287.910437) scale(0.1 -0.1)\">\n       <defs>\n        <path id=\"DejaVuSans-32\" d=\"M 1228 531 \nL 3431 531 \nL 3431 0 \nL 469 0 \nL 469 531 \nQ 828 903 1448 1529 \nQ 2069 2156 2228 2338 \nQ 2531 2678 2651 2914 \nQ 2772 3150 2772 3378 \nQ 2772 3750 2511 3984 \nQ 2250 4219 1831 4219 \nQ 1534 4219 1204 4116 \nQ 875 4013 500 3803 \nL 500 4441 \nQ 881 4594 1212 4672 \nQ 1544 4750 1819 4750 \nQ 2544 4750 2975 4387 \nQ 3406 4025 3406 3419 \nQ 3406 3131 3298 2873 \nQ 3191 2616 2906 2266 \nQ 2828 2175 2409 1742 \nQ 1991 1309 1228 531 \nz\n\" transform=\"scale(0.015625)\"/>\n       </defs>\n       <use xlink:href=\"#DejaVuSans-32\"/>\n       <use xlink:href=\"#DejaVuSans-30\" transform=\"translate(63.623047 0)\"/>\n       <use xlink:href=\"#DejaVuSans-30\" transform=\"translate(127.246094 0)\"/>\n      </g>\n     </g>\n    </g>\n    <g id=\"xtick_8\">\n     <g id=\"line2d_15\">\n      <path d=\"M 330.40858 273.312 \nL 330.40858 7.2 \n\" clip-path=\"url(#p05c3128ba4)\" style=\"fill: none; stroke: #b0b0b0; stroke-width: 0.8; stroke-linecap: square\"/>\n     </g>\n     <g id=\"line2d_16\">\n      <g>\n       <use xlink:href=\"#me2e500b57d\" x=\"330.40858\" y=\"273.312\" style=\"stroke: #000000; stroke-width: 0.8\"/>\n      </g>\n     </g>\n     <g id=\"text_8\">\n      <!-- 250 -->\n      <g transform=\"translate(320.86483 287.910437) scale(0.1 -0.1)\">\n       <use xlink:href=\"#DejaVuSans-32\"/>\n       <use xlink:href=\"#DejaVuSans-35\" transform=\"translate(63.623047 0)\"/>\n       <use xlink:href=\"#DejaVuSans-30\" transform=\"translate(127.246094 0)\"/>\n      </g>\n     </g>\n    </g>\n    <g id=\"xtick_9\">\n     <g id=\"line2d_17\">\n      <path d=\"M 370.990398 273.312 \nL 370.990398 7.2 \n\" clip-path=\"url(#p05c3128ba4)\" style=\"fill: none; stroke: #b0b0b0; stroke-width: 0.8; stroke-linecap: square\"/>\n     </g>\n     <g id=\"line2d_18\">\n      <g>\n       <use xlink:href=\"#me2e500b57d\" x=\"370.990398\" y=\"273.312\" style=\"stroke: #000000; stroke-width: 0.8\"/>\n      </g>\n     </g>\n     <g id=\"text_9\">\n      <!-- 300 -->\n      <g transform=\"translate(361.446648 287.910437) scale(0.1 -0.1)\">\n       <defs>\n        <path id=\"DejaVuSans-33\" d=\"M 2597 2516 \nQ 3050 2419 3304 2112 \nQ 3559 1806 3559 1356 \nQ 3559 666 3084 287 \nQ 2609 -91 1734 -91 \nQ 1441 -91 1130 -33 \nQ 819 25 488 141 \nL 488 750 \nQ 750 597 1062 519 \nQ 1375 441 1716 441 \nQ 2309 441 2620 675 \nQ 2931 909 2931 1356 \nQ 2931 1769 2642 2001 \nQ 2353 2234 1838 2234 \nL 1294 2234 \nL 1294 2753 \nL 1863 2753 \nQ 2328 2753 2575 2939 \nQ 2822 3125 2822 3475 \nQ 2822 3834 2567 4026 \nQ 2313 4219 1838 4219 \nQ 1578 4219 1281 4162 \nQ 984 4106 628 3988 \nL 628 4550 \nQ 988 4650 1302 4700 \nQ 1616 4750 1894 4750 \nQ 2613 4750 3031 4423 \nQ 3450 4097 3450 3541 \nQ 3450 3153 3228 2886 \nQ 3006 2619 2597 2516 \nz\n\" transform=\"scale(0.015625)\"/>\n       </defs>\n       <use xlink:href=\"#DejaVuSans-33\"/>\n       <use xlink:href=\"#DejaVuSans-30\" transform=\"translate(63.623047 0)\"/>\n       <use xlink:href=\"#DejaVuSans-30\" transform=\"translate(127.246094 0)\"/>\n      </g>\n     </g>\n    </g>\n   </g>\n   <g id=\"matplotlib.axis_2\">\n    <g id=\"ytick_1\">\n     <g id=\"line2d_19\">\n      <path d=\"M 30.103125 261.216 \nL 387.223125 261.216 \n\" clip-path=\"url(#p05c3128ba4)\" style=\"fill: none; stroke: #b0b0b0; stroke-width: 0.8; stroke-linecap: square\"/>\n     </g>\n     <g id=\"line2d_20\">\n      <defs>\n       <path id=\"m83ea8c84c3\" d=\"M 0 0 \nL -3.5 0 \n\" style=\"stroke: #000000; stroke-width: 0.8\"/>\n      </defs>\n      <g>\n       <use xlink:href=\"#m83ea8c84c3\" x=\"30.103125\" y=\"261.216\" style=\"stroke: #000000; stroke-width: 0.8\"/>\n      </g>\n     </g>\n     <g id=\"text_10\">\n      <!-- 0.0 -->\n      <g transform=\"translate(7.2 265.015219) scale(0.1 -0.1)\">\n       <defs>\n        <path id=\"DejaVuSans-2e\" d=\"M 684 794 \nL 1344 794 \nL 1344 0 \nL 684 0 \nL 684 794 \nz\n\" transform=\"scale(0.015625)\"/>\n       </defs>\n       <use xlink:href=\"#DejaVuSans-30\"/>\n       <use xlink:href=\"#DejaVuSans-2e\" transform=\"translate(63.623047 0)\"/>\n       <use xlink:href=\"#DejaVuSans-30\" transform=\"translate(95.410156 0)\"/>\n      </g>\n     </g>\n    </g>\n    <g id=\"ytick_2\">\n     <g id=\"line2d_21\">\n      <path d=\"M 30.103125 212.816725 \nL 387.223125 212.816725 \n\" clip-path=\"url(#p05c3128ba4)\" style=\"fill: none; stroke: #b0b0b0; stroke-width: 0.8; stroke-linecap: square\"/>\n     </g>\n     <g id=\"line2d_22\">\n      <g>\n       <use xlink:href=\"#m83ea8c84c3\" x=\"30.103125\" y=\"212.816725\" style=\"stroke: #000000; stroke-width: 0.8\"/>\n      </g>\n     </g>\n     <g id=\"text_11\">\n      <!-- 0.2 -->\n      <g transform=\"translate(7.2 216.615944) scale(0.1 -0.1)\">\n       <use xlink:href=\"#DejaVuSans-30\"/>\n       <use xlink:href=\"#DejaVuSans-2e\" transform=\"translate(63.623047 0)\"/>\n       <use xlink:href=\"#DejaVuSans-32\" transform=\"translate(95.410156 0)\"/>\n      </g>\n     </g>\n    </g>\n    <g id=\"ytick_3\">\n     <g id=\"line2d_23\">\n      <path d=\"M 30.103125 164.41745 \nL 387.223125 164.41745 \n\" clip-path=\"url(#p05c3128ba4)\" style=\"fill: none; stroke: #b0b0b0; stroke-width: 0.8; stroke-linecap: square\"/>\n     </g>\n     <g id=\"line2d_24\">\n      <g>\n       <use xlink:href=\"#m83ea8c84c3\" x=\"30.103125\" y=\"164.41745\" style=\"stroke: #000000; stroke-width: 0.8\"/>\n      </g>\n     </g>\n     <g id=\"text_12\">\n      <!-- 0.4 -->\n      <g transform=\"translate(7.2 168.216669) scale(0.1 -0.1)\">\n       <defs>\n        <path id=\"DejaVuSans-34\" d=\"M 2419 4116 \nL 825 1625 \nL 2419 1625 \nL 2419 4116 \nz\nM 2253 4666 \nL 3047 4666 \nL 3047 1625 \nL 3713 1625 \nL 3713 1100 \nL 3047 1100 \nL 3047 0 \nL 2419 0 \nL 2419 1100 \nL 313 1100 \nL 313 1709 \nL 2253 4666 \nz\n\" transform=\"scale(0.015625)\"/>\n       </defs>\n       <use xlink:href=\"#DejaVuSans-30\"/>\n       <use xlink:href=\"#DejaVuSans-2e\" transform=\"translate(63.623047 0)\"/>\n       <use xlink:href=\"#DejaVuSans-34\" transform=\"translate(95.410156 0)\"/>\n      </g>\n     </g>\n    </g>\n    <g id=\"ytick_4\">\n     <g id=\"line2d_25\">\n      <path d=\"M 30.103125 116.018176 \nL 387.223125 116.018176 \n\" clip-path=\"url(#p05c3128ba4)\" style=\"fill: none; stroke: #b0b0b0; stroke-width: 0.8; stroke-linecap: square\"/>\n     </g>\n     <g id=\"line2d_26\">\n      <g>\n       <use xlink:href=\"#m83ea8c84c3\" x=\"30.103125\" y=\"116.018176\" style=\"stroke: #000000; stroke-width: 0.8\"/>\n      </g>\n     </g>\n     <g id=\"text_13\">\n      <!-- 0.6 -->\n      <g transform=\"translate(7.2 119.817394) scale(0.1 -0.1)\">\n       <defs>\n        <path id=\"DejaVuSans-36\" d=\"M 2113 2584 \nQ 1688 2584 1439 2293 \nQ 1191 2003 1191 1497 \nQ 1191 994 1439 701 \nQ 1688 409 2113 409 \nQ 2538 409 2786 701 \nQ 3034 994 3034 1497 \nQ 3034 2003 2786 2293 \nQ 2538 2584 2113 2584 \nz\nM 3366 4563 \nL 3366 3988 \nQ 3128 4100 2886 4159 \nQ 2644 4219 2406 4219 \nQ 1781 4219 1451 3797 \nQ 1122 3375 1075 2522 \nQ 1259 2794 1537 2939 \nQ 1816 3084 2150 3084 \nQ 2853 3084 3261 2657 \nQ 3669 2231 3669 1497 \nQ 3669 778 3244 343 \nQ 2819 -91 2113 -91 \nQ 1303 -91 875 529 \nQ 447 1150 447 2328 \nQ 447 3434 972 4092 \nQ 1497 4750 2381 4750 \nQ 2619 4750 2861 4703 \nQ 3103 4656 3366 4563 \nz\n\" transform=\"scale(0.015625)\"/>\n       </defs>\n       <use xlink:href=\"#DejaVuSans-30\"/>\n       <use xlink:href=\"#DejaVuSans-2e\" transform=\"translate(63.623047 0)\"/>\n       <use xlink:href=\"#DejaVuSans-36\" transform=\"translate(95.410156 0)\"/>\n      </g>\n     </g>\n    </g>\n    <g id=\"ytick_5\">\n     <g id=\"line2d_27\">\n      <path d=\"M 30.103125 67.618901 \nL 387.223125 67.618901 \n\" clip-path=\"url(#p05c3128ba4)\" style=\"fill: none; stroke: #b0b0b0; stroke-width: 0.8; stroke-linecap: square\"/>\n     </g>\n     <g id=\"line2d_28\">\n      <g>\n       <use xlink:href=\"#m83ea8c84c3\" x=\"30.103125\" y=\"67.618901\" style=\"stroke: #000000; stroke-width: 0.8\"/>\n      </g>\n     </g>\n     <g id=\"text_14\">\n      <!-- 0.8 -->\n      <g transform=\"translate(7.2 71.41812) scale(0.1 -0.1)\">\n       <defs>\n        <path id=\"DejaVuSans-38\" d=\"M 2034 2216 \nQ 1584 2216 1326 1975 \nQ 1069 1734 1069 1313 \nQ 1069 891 1326 650 \nQ 1584 409 2034 409 \nQ 2484 409 2743 651 \nQ 3003 894 3003 1313 \nQ 3003 1734 2745 1975 \nQ 2488 2216 2034 2216 \nz\nM 1403 2484 \nQ 997 2584 770 2862 \nQ 544 3141 544 3541 \nQ 544 4100 942 4425 \nQ 1341 4750 2034 4750 \nQ 2731 4750 3128 4425 \nQ 3525 4100 3525 3541 \nQ 3525 3141 3298 2862 \nQ 3072 2584 2669 2484 \nQ 3125 2378 3379 2068 \nQ 3634 1759 3634 1313 \nQ 3634 634 3220 271 \nQ 2806 -91 2034 -91 \nQ 1263 -91 848 271 \nQ 434 634 434 1313 \nQ 434 1759 690 2068 \nQ 947 2378 1403 2484 \nz\nM 1172 3481 \nQ 1172 3119 1398 2916 \nQ 1625 2713 2034 2713 \nQ 2441 2713 2670 2916 \nQ 2900 3119 2900 3481 \nQ 2900 3844 2670 4047 \nQ 2441 4250 2034 4250 \nQ 1625 4250 1398 4047 \nQ 1172 3844 1172 3481 \nz\n\" transform=\"scale(0.015625)\"/>\n       </defs>\n       <use xlink:href=\"#DejaVuSans-30\"/>\n       <use xlink:href=\"#DejaVuSans-2e\" transform=\"translate(63.623047 0)\"/>\n       <use xlink:href=\"#DejaVuSans-38\" transform=\"translate(95.410156 0)\"/>\n      </g>\n     </g>\n    </g>\n    <g id=\"ytick_6\">\n     <g id=\"line2d_29\">\n      <path d=\"M 30.103125 19.219626 \nL 387.223125 19.219626 \n\" clip-path=\"url(#p05c3128ba4)\" style=\"fill: none; stroke: #b0b0b0; stroke-width: 0.8; stroke-linecap: square\"/>\n     </g>\n     <g id=\"line2d_30\">\n      <g>\n       <use xlink:href=\"#m83ea8c84c3\" x=\"30.103125\" y=\"19.219626\" style=\"stroke: #000000; stroke-width: 0.8\"/>\n      </g>\n     </g>\n     <g id=\"text_15\">\n      <!-- 1.0 -->\n      <g transform=\"translate(7.2 23.018845) scale(0.1 -0.1)\">\n       <use xlink:href=\"#DejaVuSans-31\"/>\n       <use xlink:href=\"#DejaVuSans-2e\" transform=\"translate(63.623047 0)\"/>\n       <use xlink:href=\"#DejaVuSans-30\" transform=\"translate(95.410156 0)\"/>\n      </g>\n     </g>\n    </g>\n   </g>\n   <g id=\"line2d_31\">\n    <path d=\"M 46.335852 261.215098 \nL 63.465866 261.133172 \nL 63.465866 261.092872 \nL 66.728726 261.034805 \nL 66.728726 260.952032 \nL 68.360156 260.952032 \nL 68.360156 260.835312 \nL 69.991585 260.835312 \nL 69.991585 260.672499 \nL 71.623015 260.672499 \nL 71.623015 260.447852 \nL 73.254445 260.447852 \nL 73.254445 260.141262 \nL 74.885875 260.141262 \nL 74.885875 259.727414 \nL 76.517305 259.727414 \nL 76.517305 259.174928 \nL 78.148735 259.174928 \nL 78.148735 258.445513 \nL 79.780165 258.445513 \nL 79.780165 257.493222 \nL 81.411595 257.493222 \nL 81.411595 256.263877 \nL 83.043024 256.263877 \nL 83.043024 254.694777 \nL 84.674454 254.694777 \nL 84.674454 252.714805 \nL 86.305884 252.714805 \nL 86.305884 250.24505 \nL 87.937314 250.24505 \nL 87.937314 247.200075 \nL 89.568744 247.200075 \nL 89.568744 243.489925 \nL 91.200174 243.489925 \nL 91.200174 239.022964 \nL 92.831604 239.022964 \nL 92.831604 233.709576 \nL 94.463034 233.709576 \nL 94.463034 227.466694 \nL 96.094464 227.466694 \nL 96.094464 220.223079 \nL 97.725893 220.223079 \nL 97.725893 211.925164 \nL 99.357323 211.925164 \nL 99.357323 202.543203 \nL 100.988753 202.543203 \nL 100.988753 192.07738 \nL 102.620183 192.07738 \nL 102.620183 180.563485 \nL 104.251613 180.563485 \nL 104.251613 168.077676 \nL 105.883043 168.077676 \nL 105.883043 154.739879 \nL 107.514473 154.739879 \nL 107.514473 140.715368 \nL 109.145903 140.715368 \nL 109.145903 126.214149 \nL 110.777332 126.214149 \nL 110.777332 111.487863 \nL 112.408762 111.487863 \nL 112.408762 96.8241 \nL 114.040192 96.8241 \nL 114.040192 82.538154 \nL 115.671622 82.538154 \nL 115.671622 68.96248 \nL 117.303052 68.96248 \nL 117.303052 56.434279 \nL 118.934482 56.434279 \nL 118.934482 45.281829 \nL 120.565912 45.281829 \nL 120.565912 35.810318 \nL 122.197342 35.810318 \nL 122.197342 28.288031 \nL 123.828771 28.288031 \nL 123.828771 22.933734 \nL 125.460201 22.933734 \nL 125.460201 19.906123 \nL 127.091631 19.906123 \nL 127.091631 19.296 \nL 128.723061 19.296 \nL 128.723061 21.121757 \nL 130.354491 21.121757 \nL 130.354491 25.328451 \nL 131.985921 25.328451 \nL 131.985921 31.790553 \nL 133.617351 31.790553 \nL 133.617351 40.318168 \nL 135.248781 40.318168 \nL 135.248781 50.666304 \nL 136.88021 50.666304 \nL 136.88021 62.546554 \nL 138.51164 62.546554 \nL 138.51164 75.640414 \nL 140.14307 75.640414 \nL 140.14307 89.613386 \nL 141.7745 89.613386 \nL 141.7745 104.128996 \nL 143.40593 104.128996 \nL 143.40593 118.861923 \nL 145.03736 118.861923 \nL 145.03736 133.509542 \nL 146.66879 133.509542 \nL 146.66879 147.801362 \nL 148.30022 147.801362 \nL 148.30022 161.506013 \nL 149.931649 161.506013 \nL 149.931649 174.435629 \nL 151.563079 174.435629 \nL 151.563079 186.447676 \nL 153.194509 186.447676 \nL 153.194509 197.444433 \nL 154.825939 197.444433 \nL 154.825939 207.370449 \nL 156.457369 207.370449 \nL 156.457369 216.208399 \nL 158.088799 216.208399 \nL 158.088799 223.973811 \nL 159.720229 223.973811 \nL 159.720229 230.709118 \nL 161.351659 230.709118 \nL 161.351659 236.477477 \nL 162.983088 236.477477 \nL 162.983088 241.356743 \nL 164.614518 241.356743 \nL 164.614518 245.433874 \nL 166.245948 245.433874 \nL 166.245948 248.800011 \nL 167.877378 248.800011 \nL 167.877378 251.546357 \nL 169.508808 251.546357 \nL 169.508808 253.76091 \nL 171.140238 253.76091 \nL 171.140238 255.526048 \nL 172.771668 255.526048 \nL 172.771668 256.916899 \nL 174.403098 256.916899 \nL 174.403098 258.000416 \nL 176.034527 258.000416 \nL 176.034527 258.835021 \nL 177.665957 258.835021 \nL 177.665957 259.470723 \nL 179.297387 259.470723 \nL 179.297387 259.949554 \nL 180.928817 259.949554 \nL 180.928817 260.30625 \nL 182.560247 260.30625 \nL 182.560247 260.56905 \nL 184.191677 260.56905 \nL 184.191677 260.760558 \nL 185.823107 260.760558 \nL 185.823107 260.898599 \nL 189.085966 260.997024 \nL 189.085966 261.066446 \nL 195.611686 261.171158 \nL 195.611686 261.186587 \nL 370.990398 261.216 \nL 370.990398 261.216 \n\" clip-path=\"url(#p05c3128ba4)\" style=\"fill: none; stroke: #1f77b4; stroke-width: 1.5; stroke-linecap: square\"/>\n   </g>\n   <g id=\"line2d_32\">\n    <path d=\"M 46.335852 261.216 \nL 171.140238 261.121489 \nL 171.140238 261.075973 \nL 174.403098 261.010622 \nL 174.403098 260.917797 \nL 176.034527 260.917797 \nL 176.034527 260.78737 \nL 177.665957 260.78737 \nL 177.665957 260.60609 \nL 179.297387 260.60609 \nL 179.297387 260.356862 \nL 180.928817 260.356862 \nL 180.928817 260.017955 \nL 182.560247 260.017955 \nL 182.560247 259.562148 \nL 184.191677 259.562148 \nL 184.191677 258.955869 \nL 185.823107 258.955869 \nL 185.823107 258.158379 \nL 187.454537 258.158379 \nL 187.454537 257.121064 \nL 189.085966 257.121064 \nL 189.085966 255.78695 \nL 190.717396 255.78695 \nL 190.717396 254.090525 \nL 192.348826 254.090525 \nL 192.348826 251.958001 \nL 193.980256 251.958001 \nL 193.980256 249.308139 \nL 195.611686 249.308139 \nL 195.611686 246.053749 \nL 197.243116 246.053749 \nL 197.243116 242.103967 \nL 198.874546 242.103967 \nL 198.874546 237.367371 \nL 200.505976 237.367371 \nL 200.505976 231.755968 \nL 202.137405 231.755968 \nL 202.137405 225.189977 \nL 203.768835 225.189977 \nL 203.768835 217.603324 \nL 205.400265 217.603324 \nL 205.400265 208.949619 \nL 207.031695 208.949619 \nL 207.031695 199.208327 \nL 208.663125 199.208327 \nL 208.663125 188.390792 \nL 210.294555 188.390792 \nL 210.294555 176.545655 \nL 211.925985 176.545655 \nL 211.925985 163.763222 \nL 213.557415 163.763222 \nL 213.557415 150.178311 \nL 215.188845 150.178311 \nL 215.188845 135.971142 \nL 216.820274 135.971142 \nL 216.820274 121.365928 \nL 218.451704 121.365928 \nL 218.451704 106.626932 \nL 220.083134 106.626932 \nL 220.083134 92.051916 \nL 221.714564 92.051916 \nL 221.714564 77.963105 \nL 223.345994 77.963105 \nL 223.345994 64.69597 \nL 224.977424 64.69597 \nL 224.977424 52.586316 \nL 226.608854 52.586316 \nL 226.608854 41.956371 \nL 228.240284 41.956371 \nL 228.240284 33.100631 \nL 229.871713 33.100631 \nL 229.871713 26.272347 \nL 231.503143 26.272347 \nL 231.503143 21.67151 \nL 233.134573 21.67151 \nL 233.134573 19.435122 \nL 234.766003 19.435122 \nL 234.766003 19.630416 \nL 236.397433 19.630416 \nL 236.397433 22.251506 \nL 238.028863 22.251506 \nL 238.028863 27.219675 \nL 239.660293 27.219675 \nL 239.660293 34.387305 \nL 241.291723 34.387305 \nL 241.291723 43.545162 \nL 242.923152 43.545162 \nL 242.923152 54.432538 \nL 244.554582 54.432538 \nL 244.554582 66.749565 \nL 246.186012 66.749565 \nL 246.186012 80.170889 \nL 247.817442 80.170889 \nL 247.817442 94.359839 \nL 249.448872 94.359839 \nL 249.448872 108.982234 \nL 251.080302 108.982234 \nL 251.080302 123.71906 \nL 252.711732 123.71906 \nL 252.711732 138.277369 \nL 254.343162 138.277369 \nL 254.343162 152.398934 \nL 255.974591 152.398934 \nL 255.974591 165.866384 \nL 257.606021 165.866384 \nL 257.606021 178.506731 \nL 259.237451 178.506731 \nL 259.237451 190.192395 \nL 260.868881 190.192395 \nL 260.868881 200.839972 \nL 262.500311 200.839972 \nL 262.500311 210.407115 \nL 264.131741 210.407115 \nL 264.131741 218.887967 \nL 265.763171 218.887967 \nL 265.763171 226.30761 \nL 267.394601 226.30761 \nL 267.394601 232.716002 \nL 269.02603 232.716002 \nL 269.02603 238.181799 \nL 270.65746 238.181799 \nL 270.65746 242.786448 \nL 272.28889 242.786448 \nL 272.28889 246.618796 \nL 273.92032 246.618796 \nL 273.92032 249.770418 \nL 275.55175 249.770418 \nL 275.55175 252.331778 \nL 277.18318 252.331778 \nL 277.18318 254.389247 \nL 278.81461 254.389247 \nL 278.81461 256.022952 \nL 280.44604 256.022952 \nL 280.44604 257.305397 \nL 282.077469 257.305397 \nL 282.077469 258.300732 \nL 283.708899 258.300732 \nL 283.708899 259.064574 \nL 285.340329 259.064574 \nL 285.340329 259.644235 \nL 286.971759 259.644235 \nL 286.971759 260.079257 \nL 288.603189 260.079257 \nL 288.603189 260.402139 \nL 290.234619 260.402139 \nL 290.234619 260.639165 \nL 291.866049 260.639165 \nL 291.866049 260.81127 \nL 293.497479 260.81127 \nL 293.497479 260.934879 \nL 296.760338 261.022699 \nL 296.760338 261.08442 \nL 304.917488 261.190465 \nL 304.917488 261.199474 \nL 370.990398 261.216 \nL 370.990398 261.216 \n\" clip-path=\"url(#p05c3128ba4)\" style=\"fill: none; stroke: #ff7f0e; stroke-width: 1.5; stroke-linecap: square\"/>\n   </g>\n   <g id=\"line2d_33\">\n    <path d=\"M 46.335852 261.215098 \nL 164.614518 261.11865 \nL 164.614518 261.077859 \nL 167.877378 261.021533 \nL 167.877378 260.944432 \nL 171.140238 260.839813 \nL 171.140238 260.699088 \nL 172.771668 260.699088 \nL 172.771668 260.511452 \nL 174.403098 260.511452 \nL 174.403098 260.263459 \nL 176.034527 260.263459 \nL 176.034527 259.938576 \nL 177.665957 259.938576 \nL 177.665957 259.516728 \nL 179.297387 259.516728 \nL 179.297387 258.973842 \nL 180.928817 258.973842 \nL 180.928817 258.281432 \nL 182.560247 258.281432 \nL 182.560247 257.406258 \nL 184.191677 257.406258 \nL 184.191677 256.310093 \nL 185.823107 256.310093 \nL 185.823107 254.949655 \nL 187.454537 254.949655 \nL 187.454537 253.27675 \nL 189.085966 253.27675 \nL 189.085966 251.238687 \nL 190.717396 251.238687 \nL 190.717396 248.779003 \nL 192.348826 248.779003 \nL 192.348826 245.838557 \nL 193.980256 245.838557 \nL 193.980256 242.357022 \nL 195.611686 242.357022 \nL 195.611686 238.274786 \nL 197.243116 238.274786 \nL 197.243116 233.535267 \nL 198.874546 233.535267 \nL 198.874546 228.087599 \nL 200.505976 228.087599 \nL 200.505976 221.889639 \nL 202.137405 221.889639 \nL 202.137405 214.911186 \nL 203.768835 214.911186 \nL 203.768835 207.137295 \nL 205.400265 207.137295 \nL 205.400265 198.571516 \nL 207.031695 198.571516 \nL 207.031695 189.238887 \nL 208.663125 189.238887 \nL 208.663125 179.188465 \nL 210.294555 179.188465 \nL 210.294555 168.495208 \nL 211.925985 168.495208 \nL 211.925985 157.260993 \nL 213.557415 157.260993 \nL 213.557415 145.614613 \nL 215.188845 145.614613 \nL 215.188845 133.710606 \nL 216.820274 133.710606 \nL 216.820274 121.726838 \nL 218.451704 121.726838 \nL 218.451704 109.860832 \nL 220.083134 109.860832 \nL 220.083134 98.324886 \nL 221.714564 98.324886 \nL 221.714564 87.340122 \nL 223.345994 87.340122 \nL 223.345994 77.129681 \nL 224.977424 77.129681 \nL 224.977424 67.911335 \nL 226.608854 67.911335 \nL 226.608854 59.889845 \nL 228.240284 59.889845 \nL 228.240284 53.249456 \nL 229.871713 53.249456 \nL 229.871713 48.146875 \nL 231.503143 48.146875 \nL 231.503143 44.705145 \nL 233.134573 44.705145 \nL 233.134573 43.008712 \nL 236.397433 43.099987 \nL 236.397433 44.977581 \nL 238.028863 44.977581 \nL 238.028863 48.596335 \nL 239.660293 48.596335 \nL 239.660293 53.869116 \nL 241.291723 53.869116 \nL 241.291723 60.670308 \nL 242.923152 60.670308 \nL 242.923152 68.840789 \nL 244.554582 68.840789 \nL 244.554582 78.194117 \nL 246.186012 78.194117 \nL 246.186012 88.523594 \nL 247.817442 88.523594 \nL 247.817442 99.609833 \nL 249.448872 99.609833 \nL 249.448872 111.228445 \nL 251.080302 111.228445 \nL 251.080302 123.157469 \nL 252.711732 123.157469 \nL 252.711732 135.184212 \nL 254.343162 135.184212 \nL 254.343162 147.111213 \nL 255.974591 147.111213 \nL 255.974591 158.761126 \nL 257.606021 158.761126 \nL 257.606021 169.980382 \nL 259.237451 169.980382 \nL 259.237451 180.641562 \nL 260.868881 180.641562 \nL 260.868881 190.644515 \nL 262.500311 190.644515 \nL 262.500311 199.916304 \nL 264.131741 199.916304 \nL 264.131741 208.410097 \nL 265.763171 208.410097 \nL 265.763171 216.10321 \nL 267.394601 216.10321 \nL 267.394601 222.994484 \nL 269.02603 222.994484 \nL 269.02603 229.10121 \nL 270.65746 229.10121 \nL 270.65746 234.455813 \nL 272.28889 234.455813 \nL 272.28889 239.102475 \nL 273.92032 239.102475 \nL 273.92032 243.09386 \nL 275.55175 243.09386 \nL 275.55175 246.488075 \nL 277.18318 246.488075 \nL 277.18318 249.345964 \nL 278.81461 249.345964 \nL 278.81461 251.728784 \nL 280.44604 251.728784 \nL 280.44604 253.696315 \nL 282.077469 253.696315 \nL 282.077469 255.305389 \nL 283.708899 255.305389 \nL 283.708899 256.608823 \nL 285.340329 256.608823 \nL 285.340329 257.65473 \nL 286.971759 257.65473 \nL 286.971759 258.486142 \nL 288.603189 258.486142 \nL 288.603189 259.140903 \nL 290.234619 259.140903 \nL 290.234619 259.651781 \nL 291.866049 259.651781 \nL 291.866049 260.046729 \nL 293.497479 260.046729 \nL 293.497479 260.34926 \nL 295.128908 260.34926 \nL 295.128908 260.578886 \nL 296.760338 260.578886 \nL 296.760338 260.751596 \nL 298.391768 260.751596 \nL 298.391768 260.88032 \nL 301.654628 260.975397 \nL 301.654628 261.04499 \nL 306.548918 261.131766 \nL 306.548918 261.157625 \nL 370.990398 261.216 \nL 370.990398 261.216 \n\" clip-path=\"url(#p05c3128ba4)\" style=\"fill: none; stroke: #2ca02c; stroke-width: 1.5; stroke-linecap: square\"/>\n   </g>\n   <g id=\"line2d_34\">\n    <path d=\"M 46.335852 261.215098 \nL 164.614518 261.119326 \nL 164.614518 261.079052 \nL 167.877378 261.023604 \nL 167.877378 260.947968 \nL 171.140238 260.845756 \nL 171.140238 260.708914 \nL 172.771668 260.708914 \nL 172.771668 260.527431 \nL 174.403098 260.527431 \nL 174.403098 260.289009 \nL 176.034527 260.289009 \nL 176.034527 259.978739 \nL 177.665957 259.978739 \nL 177.665957 259.578782 \nL 179.297387 259.578782 \nL 179.297387 259.068057 \nL 180.928817 259.068057 \nL 180.928817 258.421972 \nL 182.560247 258.421972 \nL 182.560247 257.612187 \nL 184.191677 257.612187 \nL 184.191677 256.606436 \nL 185.823107 256.606436 \nL 185.823107 255.368399 \nL 187.454537 255.368399 \nL 187.454537 253.857643 \nL 189.085966 253.857643 \nL 189.085966 252.029635 \nL 190.717396 252.029635 \nL 190.717396 249.835835 \nL 192.348826 249.835835 \nL 192.348826 247.223897 \nL 193.980256 247.223897 \nL 193.980256 244.138013 \nL 195.611686 244.138013 \nL 195.611686 240.519456 \nL 197.243116 240.519456 \nL 197.243116 236.307403 \nL 198.874546 236.307403 \nL 198.874546 231.440149 \nL 200.505976 231.440149 \nL 200.505976 225.85682 \nL 202.137405 225.85682 \nL 202.137405 219.499742 \nL 203.768835 219.499742 \nL 203.768835 212.317565 \nL 205.400265 212.317565 \nL 205.400265 204.269231 \nL 207.031695 204.269231 \nL 207.031695 195.328785 \nL 208.663125 195.328785 \nL 208.663125 185.490907 \nL 210.294555 185.490907 \nL 210.294555 174.776876 \nL 211.925985 174.776876 \nL 211.925985 163.240528 \nL 213.557415 163.240528 \nL 213.557415 150.973582 \nL 215.188845 150.973582 \nL 215.188845 138.10961 \nL 216.820274 138.10961 \nL 216.820274 124.825935 \nL 218.451704 124.825935 \nL 218.451704 111.342815 \nL 220.083134 111.342815 \nL 220.083134 97.919523 \nL 221.714564 97.919523 \nL 221.714564 84.847234 \nL 223.345994 84.847234 \nL 223.345994 72.439001 \nL 224.977424 72.439001 \nL 224.977424 61.017425 \nL 226.608854 61.017425 \nL 226.608854 50.900928 \nL 228.240284 50.900928 \nL 228.240284 42.389644 \nL 229.871713 42.389644 \nL 229.871713 35.751949 \nL 231.503143 35.751949 \nL 231.503143 31.212337 \nL 233.134573 31.212337 \nL 233.134573 28.940476 \nL 236.397433 29.037881 \nL 236.397433 31.508133 \nL 238.028863 31.508133 \nL 238.028863 36.249363 \nL 239.660293 36.249363 \nL 239.660293 43.085307 \nL 241.291723 43.085307 \nL 241.291723 51.784542 \nL 242.923152 51.784542 \nL 242.923152 62.07347 \nL 244.554582 62.07347 \nL 244.554582 73.648475 \nL 246.186012 73.648475 \nL 246.186012 86.188781 \nL 247.817442 86.188781 \nL 247.817442 99.370019 \nL 249.448872 99.370019 \nL 249.448872 112.877736 \nL 251.080302 112.877736 \nL 251.080302 126.419765 \nL 252.711732 126.419765 \nL 252.711732 139.736438 \nL 254.343162 139.736438 \nL 254.343162 152.607872 \nL 255.974591 152.607872 \nL 255.974591 164.857994 \nL 257.606021 164.857994 \nL 257.606021 176.35534 \nL 259.237451 176.35534 \nL 259.237451 187.011037 \nL 260.868881 187.011037 \nL 260.868881 196.774625 \nL 262.500311 196.774625 \nL 262.500311 205.628475 \nL 264.131741 205.628475 \nL 264.131741 213.581576 \nL 265.763171 213.581576 \nL 265.763171 220.663339 \nL 267.394601 220.663339 \nL 267.394601 226.917903 \nL 269.02603 226.917903 \nL 269.02603 232.399226 \nL 270.65746 232.399226 \nL 270.65746 237.167077 \nL 272.28889 237.167077 \nL 272.28889 241.283928 \nL 273.92032 241.283928 \nL 273.92032 244.812633 \nL 275.55175 244.812633 \nL 275.55175 247.814776 \nL 277.18318 247.814776 \nL 277.18318 250.349532 \nL 278.81461 250.349532 \nL 278.81461 252.472905 \nL 280.44604 252.472905 \nL 280.44604 254.237249 \nL 282.077469 254.237249 \nL 282.077469 255.690967 \nL 283.708899 255.690967 \nL 283.708899 256.878352 \nL 285.340329 256.878352 \nL 285.340329 257.839517 \nL 286.971759 257.839517 \nL 286.971759 258.61041 \nL 288.603189 258.61041 \nL 288.603189 259.222887 \nL 290.234619 259.222887 \nL 290.234619 259.70485 \nL 291.866049 259.70485 \nL 291.866049 260.080438 \nL 293.497479 260.080438 \nL 293.497479 260.370274 \nL 295.128908 260.370274 \nL 295.128908 260.591747 \nL 296.760338 260.591747 \nL 296.760338 260.759323 \nL 298.391768 260.759323 \nL 298.391768 260.884879 \nL 301.654628 260.978039 \nL 301.654628 261.046494 \nL 306.548918 261.132229 \nL 306.548918 261.157875 \nL 370.990398 261.216 \nL 370.990398 261.216 \n\" clip-path=\"url(#p05c3128ba4)\" style=\"fill: none; stroke: #d62728; stroke-width: 1.5; stroke-linecap: square\"/>\n   </g>\n   <g id=\"patch_3\">\n    <path d=\"M 30.103125 273.312 \nL 30.103125 7.2 \n\" style=\"fill: none; stroke: #000000; stroke-width: 0.8; stroke-linejoin: miter; stroke-linecap: square\"/>\n   </g>\n   <g id=\"patch_4\">\n    <path d=\"M 387.223125 273.312 \nL 387.223125 7.2 \n\" style=\"fill: none; stroke: #000000; stroke-width: 0.8; stroke-linejoin: miter; stroke-linecap: square\"/>\n   </g>\n   <g id=\"patch_5\">\n    <path d=\"M 30.103125 273.312 \nL 387.223125 273.312 \n\" style=\"fill: none; stroke: #000000; stroke-width: 0.8; stroke-linejoin: miter; stroke-linecap: square\"/>\n   </g>\n   <g id=\"patch_6\">\n    <path d=\"M 30.103125 7.2 \nL 387.223125 7.2 \n\" style=\"fill: none; stroke: #000000; stroke-width: 0.8; stroke-linejoin: miter; stroke-linecap: square\"/>\n   </g>\n   <g id=\"legend_1\">\n    <g id=\"patch_7\">\n     <path d=\"M 306.855937 73.9125 \nL 380.223125 73.9125 \nQ 382.223125 73.9125 382.223125 71.9125 \nL 382.223125 14.2 \nQ 382.223125 12.2 380.223125 12.2 \nL 306.855937 12.2 \nQ 304.855937 12.2 304.855937 14.2 \nL 304.855937 71.9125 \nQ 304.855937 73.9125 306.855937 73.9125 \nz\n\" style=\"fill: #ffffff; opacity: 0.8; stroke: #cccccc; stroke-linejoin: miter\"/>\n    </g>\n    <g id=\"line2d_35\">\n     <path d=\"M 308.855937 20.298437 \nL 313.855937 20.298437 \nL 313.855937 20.298437 \nL 323.855937 20.298437 \nL 323.855937 20.298437 \nL 328.855937 20.298437 \n\" style=\"fill: none; stroke: #1f77b4; stroke-width: 1.5; stroke-linecap: square\"/>\n    </g>\n    <g id=\"text_16\">\n     <!-- initial -->\n     <g transform=\"translate(336.855937 23.798437) scale(0.1 -0.1)\">\n      <defs>\n       <path id=\"DejaVuSans-69\" d=\"M 603 3500 \nL 1178 3500 \nL 1178 0 \nL 603 0 \nL 603 3500 \nz\nM 603 4863 \nL 1178 4863 \nL 1178 4134 \nL 603 4134 \nL 603 4863 \nz\n\" transform=\"scale(0.015625)\"/>\n       <path id=\"DejaVuSans-6e\" d=\"M 3513 2113 \nL 3513 0 \nL 2938 0 \nL 2938 2094 \nQ 2938 2591 2744 2837 \nQ 2550 3084 2163 3084 \nQ 1697 3084 1428 2787 \nQ 1159 2491 1159 1978 \nL 1159 0 \nL 581 0 \nL 581 3500 \nL 1159 3500 \nL 1159 2956 \nQ 1366 3272 1645 3428 \nQ 1925 3584 2291 3584 \nQ 2894 3584 3203 3211 \nQ 3513 2838 3513 2113 \nz\n\" transform=\"scale(0.015625)\"/>\n       <path id=\"DejaVuSans-74\" d=\"M 1172 4494 \nL 1172 3500 \nL 2356 3500 \nL 2356 3053 \nL 1172 3053 \nL 1172 1153 \nQ 1172 725 1289 603 \nQ 1406 481 1766 481 \nL 2356 481 \nL 2356 0 \nL 1766 0 \nQ 1100 0 847 248 \nQ 594 497 594 1153 \nL 594 3053 \nL 172 3053 \nL 172 3500 \nL 594 3500 \nL 594 4494 \nL 1172 4494 \nz\n\" transform=\"scale(0.015625)\"/>\n       <path id=\"DejaVuSans-61\" d=\"M 2194 1759 \nQ 1497 1759 1228 1600 \nQ 959 1441 959 1056 \nQ 959 750 1161 570 \nQ 1363 391 1709 391 \nQ 2188 391 2477 730 \nQ 2766 1069 2766 1631 \nL 2766 1759 \nL 2194 1759 \nz\nM 3341 1997 \nL 3341 0 \nL 2766 0 \nL 2766 531 \nQ 2569 213 2275 61 \nQ 1981 -91 1556 -91 \nQ 1019 -91 701 211 \nQ 384 513 384 1019 \nQ 384 1609 779 1909 \nQ 1175 2209 1959 2209 \nL 2766 2209 \nL 2766 2266 \nQ 2766 2663 2505 2880 \nQ 2244 3097 1772 3097 \nQ 1472 3097 1187 3025 \nQ 903 2953 641 2809 \nL 641 3341 \nQ 956 3463 1253 3523 \nQ 1550 3584 1831 3584 \nQ 2591 3584 2966 3190 \nQ 3341 2797 3341 1997 \nz\n\" transform=\"scale(0.015625)\"/>\n       <path id=\"DejaVuSans-6c\" d=\"M 603 4863 \nL 1178 4863 \nL 1178 0 \nL 603 0 \nL 603 4863 \nz\n\" transform=\"scale(0.015625)\"/>\n      </defs>\n      <use xlink:href=\"#DejaVuSans-69\"/>\n      <use xlink:href=\"#DejaVuSans-6e\" transform=\"translate(27.783203 0)\"/>\n      <use xlink:href=\"#DejaVuSans-69\" transform=\"translate(91.162109 0)\"/>\n      <use xlink:href=\"#DejaVuSans-74\" transform=\"translate(118.945312 0)\"/>\n      <use xlink:href=\"#DejaVuSans-69\" transform=\"translate(158.154297 0)\"/>\n      <use xlink:href=\"#DejaVuSans-61\" transform=\"translate(185.9375 0)\"/>\n      <use xlink:href=\"#DejaVuSans-6c\" transform=\"translate(247.216797 0)\"/>\n     </g>\n    </g>\n    <g id=\"line2d_36\">\n     <path d=\"M 308.855937 34.976562 \nL 313.855937 34.976562 \nL 313.855937 34.976562 \nL 323.855937 34.976562 \nL 323.855937 34.976562 \nL 328.855937 34.976562 \n\" style=\"fill: none; stroke: #ff7f0e; stroke-width: 1.5; stroke-linecap: square\"/>\n    </g>\n    <g id=\"text_17\">\n     <!-- analytic -->\n     <g transform=\"translate(336.855937 38.476562) scale(0.1 -0.1)\">\n      <defs>\n       <path id=\"DejaVuSans-79\" d=\"M 2059 -325 \nQ 1816 -950 1584 -1140 \nQ 1353 -1331 966 -1331 \nL 506 -1331 \nL 506 -850 \nL 844 -850 \nQ 1081 -850 1212 -737 \nQ 1344 -625 1503 -206 \nL 1606 56 \nL 191 3500 \nL 800 3500 \nL 1894 763 \nL 2988 3500 \nL 3597 3500 \nL 2059 -325 \nz\n\" transform=\"scale(0.015625)\"/>\n       <path id=\"DejaVuSans-63\" d=\"M 3122 3366 \nL 3122 2828 \nQ 2878 2963 2633 3030 \nQ 2388 3097 2138 3097 \nQ 1578 3097 1268 2742 \nQ 959 2388 959 1747 \nQ 959 1106 1268 751 \nQ 1578 397 2138 397 \nQ 2388 397 2633 464 \nQ 2878 531 3122 666 \nL 3122 134 \nQ 2881 22 2623 -34 \nQ 2366 -91 2075 -91 \nQ 1284 -91 818 406 \nQ 353 903 353 1747 \nQ 353 2603 823 3093 \nQ 1294 3584 2113 3584 \nQ 2378 3584 2631 3529 \nQ 2884 3475 3122 3366 \nz\n\" transform=\"scale(0.015625)\"/>\n      </defs>\n      <use xlink:href=\"#DejaVuSans-61\"/>\n      <use xlink:href=\"#DejaVuSans-6e\" transform=\"translate(61.279297 0)\"/>\n      <use xlink:href=\"#DejaVuSans-61\" transform=\"translate(124.658203 0)\"/>\n      <use xlink:href=\"#DejaVuSans-6c\" transform=\"translate(185.9375 0)\"/>\n      <use xlink:href=\"#DejaVuSans-79\" transform=\"translate(213.720703 0)\"/>\n      <use xlink:href=\"#DejaVuSans-74\" transform=\"translate(272.900391 0)\"/>\n      <use xlink:href=\"#DejaVuSans-69\" transform=\"translate(312.109375 0)\"/>\n      <use xlink:href=\"#DejaVuSans-63\" transform=\"translate(339.892578 0)\"/>\n     </g>\n    </g>\n    <g id=\"line2d_37\">\n     <path d=\"M 308.855937 49.654687 \nL 313.855937 49.654687 \nL 313.855937 49.654687 \nL 323.855937 49.654687 \nL 323.855937 49.654687 \nL 328.855937 49.654687 \n\" style=\"fill: none; stroke: #2ca02c; stroke-width: 1.5; stroke-linecap: square\"/>\n    </g>\n    <g id=\"text_18\">\n     <!-- UPWIND -->\n     <g transform=\"translate(336.855937 53.154687) scale(0.1 -0.1)\">\n      <defs>\n       <path id=\"DejaVuSans-55\" d=\"M 556 4666 \nL 1191 4666 \nL 1191 1831 \nQ 1191 1081 1462 751 \nQ 1734 422 2344 422 \nQ 2950 422 3222 751 \nQ 3494 1081 3494 1831 \nL 3494 4666 \nL 4128 4666 \nL 4128 1753 \nQ 4128 841 3676 375 \nQ 3225 -91 2344 -91 \nQ 1459 -91 1007 375 \nQ 556 841 556 1753 \nL 556 4666 \nz\n\" transform=\"scale(0.015625)\"/>\n       <path id=\"DejaVuSans-50\" d=\"M 1259 4147 \nL 1259 2394 \nL 2053 2394 \nQ 2494 2394 2734 2622 \nQ 2975 2850 2975 3272 \nQ 2975 3691 2734 3919 \nQ 2494 4147 2053 4147 \nL 1259 4147 \nz\nM 628 4666 \nL 2053 4666 \nQ 2838 4666 3239 4311 \nQ 3641 3956 3641 3272 \nQ 3641 2581 3239 2228 \nQ 2838 1875 2053 1875 \nL 1259 1875 \nL 1259 0 \nL 628 0 \nL 628 4666 \nz\n\" transform=\"scale(0.015625)\"/>\n       <path id=\"DejaVuSans-57\" d=\"M 213 4666 \nL 850 4666 \nL 1831 722 \nL 2809 4666 \nL 3519 4666 \nL 4500 722 \nL 5478 4666 \nL 6119 4666 \nL 4947 0 \nL 4153 0 \nL 3169 4050 \nL 2175 0 \nL 1381 0 \nL 213 4666 \nz\n\" transform=\"scale(0.015625)\"/>\n       <path id=\"DejaVuSans-49\" d=\"M 628 4666 \nL 1259 4666 \nL 1259 0 \nL 628 0 \nL 628 4666 \nz\n\" transform=\"scale(0.015625)\"/>\n       <path id=\"DejaVuSans-4e\" d=\"M 628 4666 \nL 1478 4666 \nL 3547 763 \nL 3547 4666 \nL 4159 4666 \nL 4159 0 \nL 3309 0 \nL 1241 3903 \nL 1241 0 \nL 628 0 \nL 628 4666 \nz\n\" transform=\"scale(0.015625)\"/>\n       <path id=\"DejaVuSans-44\" d=\"M 1259 4147 \nL 1259 519 \nL 2022 519 \nQ 2988 519 3436 956 \nQ 3884 1394 3884 2338 \nQ 3884 3275 3436 3711 \nQ 2988 4147 2022 4147 \nL 1259 4147 \nz\nM 628 4666 \nL 1925 4666 \nQ 3281 4666 3915 4102 \nQ 4550 3538 4550 2338 \nQ 4550 1131 3912 565 \nQ 3275 0 1925 0 \nL 628 0 \nL 628 4666 \nz\n\" transform=\"scale(0.015625)\"/>\n      </defs>\n      <use xlink:href=\"#DejaVuSans-55\"/>\n      <use xlink:href=\"#DejaVuSans-50\" transform=\"translate(73.193359 0)\"/>\n      <use xlink:href=\"#DejaVuSans-57\" transform=\"translate(133.496094 0)\"/>\n      <use xlink:href=\"#DejaVuSans-49\" transform=\"translate(232.373047 0)\"/>\n      <use xlink:href=\"#DejaVuSans-4e\" transform=\"translate(261.865234 0)\"/>\n      <use xlink:href=\"#DejaVuSans-44\" transform=\"translate(336.669922 0)\"/>\n     </g>\n    </g>\n    <g id=\"line2d_38\">\n     <path d=\"M 308.855937 64.332812 \nL 313.855937 64.332812 \nL 313.855937 64.332812 \nL 323.855937 64.332812 \nL 323.855937 64.332812 \nL 328.855937 64.332812 \n\" style=\"fill: none; stroke: #d62728; stroke-width: 1.5; stroke-linecap: square\"/>\n    </g>\n    <g id=\"text_19\">\n     <!-- MPDATA -->\n     <g transform=\"translate(336.855937 67.832812) scale(0.1 -0.1)\">\n      <defs>\n       <path id=\"DejaVuSans-4d\" d=\"M 628 4666 \nL 1569 4666 \nL 2759 1491 \nL 3956 4666 \nL 4897 4666 \nL 4897 0 \nL 4281 0 \nL 4281 4097 \nL 3078 897 \nL 2444 897 \nL 1241 4097 \nL 1241 0 \nL 628 0 \nL 628 4666 \nz\n\" transform=\"scale(0.015625)\"/>\n       <path id=\"DejaVuSans-41\" d=\"M 2188 4044 \nL 1331 1722 \nL 3047 1722 \nL 2188 4044 \nz\nM 1831 4666 \nL 2547 4666 \nL 4325 0 \nL 3669 0 \nL 3244 1197 \nL 1141 1197 \nL 716 0 \nL 50 0 \nL 1831 4666 \nz\n\" transform=\"scale(0.015625)\"/>\n       <path id=\"DejaVuSans-54\" d=\"M -19 4666 \nL 3928 4666 \nL 3928 4134 \nL 2272 4134 \nL 2272 0 \nL 1638 0 \nL 1638 4134 \nL -19 4134 \nL -19 4666 \nz\n\" transform=\"scale(0.015625)\"/>\n      </defs>\n      <use xlink:href=\"#DejaVuSans-4d\"/>\n      <use xlink:href=\"#DejaVuSans-50\" transform=\"translate(86.279297 0)\"/>\n      <use xlink:href=\"#DejaVuSans-44\" transform=\"translate(146.582031 0)\"/>\n      <use xlink:href=\"#DejaVuSans-41\" transform=\"translate(221.833984 0)\"/>\n      <use xlink:href=\"#DejaVuSans-54\" transform=\"translate(282.492188 0)\"/>\n      <use xlink:href=\"#DejaVuSans-41\" transform=\"translate(335.826172 0)\"/>\n     </g>\n    </g>\n   </g>\n  </g>\n </g>\n <defs>\n  <clipPath id=\"p05c3128ba4\">\n   <rect x=\"30.103125\" y=\"7.2\" width=\"357.12\" height=\"266.112\"/>\n  </clipPath>\n </defs>\n</svg>\n"
          },
          "metadata": {}
        },
        {
          "output_type": "display_data",
          "data": {
            "text/plain": [
              "HBox(children=(Button(description='tmpu0szj3hb.pdf', style=ButtonStyle()), Button(description='tmpv5gwe4tp.svg…"
            ],
            "application/vnd.jupyter.widget-view+json": {
              "version_major": 2,
              "version_minor": 0,
              "model_id": "d022eef136014b7ab6ce9e6eaf9f45c5"
            }
          },
          "metadata": {}
        }
      ],
      "source": [
        "plot(\n",
        "    x=x,\n",
        "    initial=psi_0(x),\n",
        "    analytic=psi_0(x-u*t_max),\n",
        "    UPWIND=solve_upwind(nt=nt, C=np.full(nx-1, u * dt / dx), psi=psi_0(x)),\n",
        "    MPDATA=solve_mpdata(nt=nt, C=np.full(nx-1, u * dt / dx), psi=psi_0(x))\n",
        ")"
      ]
    },
    {
      "cell_type": "markdown",
      "source": [
        "## The assignment"
      ],
      "metadata": {
        "id": "dBk_2k9cbNGu"
      },
      "id": "dBk_2k9cbNGu"
    },
    {
      "cell_type": "markdown",
      "source": [
        "The task is to perform upwind algorithm multiple times, thus correcting the result in each iteration.\n",
        "\n",
        "Previously implemented **@upwind** and **@corrective_c** algorithms were used for this task.\n",
        "\n",
        "In each iteration we calculate `corr_c` by using `corrective_c()` function. Later on, we use it as a parameter for improved `upwind()`."
      ],
      "metadata": {
        "id": "1MR9oI3XbSOC"
      },
      "id": "1MR9oI3XbSOC"
    },
    {
      "cell_type": "code",
      "execution_count": 43,
      "id": "2a8ff43f-6654-458e-98a9-2b21b832fff8",
      "metadata": {
        "id": "2a8ff43f-6654-458e-98a9-2b21b832fff8"
      },
      "outputs": [],
      "source": [
        "def correct_upwind(iterations: int, nt: int, C: float, psi: np.ndarray) -> np.ndarray:\n",
        "  \"\"\"\n",
        "  A function to correct the upwind algorithm.\n",
        "\n",
        "  Iterates multiple times and performs @upwind to correct the result in each iteration.\n",
        "\n",
        "  Parameters:\n",
        "  -----------\n",
        "  iterations : int\n",
        "    number of performed upwind iterations\n",
        "  nt : int\n",
        "    like in upwind\n",
        "  C : float\n",
        "    like in upwind\n",
        "  psi : np.ndarray\n",
        "    like in upwind\n",
        "\n",
        "  Returns:\n",
        "  -----------\n",
        "  psi : np.ndarray\n",
        "    result of psi\n",
        "  \"\"\"\n",
        "  i_ext = slice(1, len(psi))\n",
        "\n",
        "  for _ in range(nt):\n",
        "    upwind(psi, slice(1, len(C)), C)\n",
        "    corr_c = C\n",
        "    for _ in range(iterations):\n",
        "      corr_c = corrective_c(i=i_ext, C=corr_c, psi=psi)\n",
        "      upwind(psi, slice(1, len(C)), corr_c)\n",
        "\n",
        "  return psi"
      ]
    },
    {
      "cell_type": "markdown",
      "source": [
        "Now, to better visualize the impact of the correctness function on the result, we will create a plot consisting of:\n",
        "- initial solution\n",
        "- analytic solution\n",
        "- upwind solution\n",
        "- mpdata solution\n",
        "- corrected_upwind"
      ],
      "metadata": {
        "id": "ZR38HcpIb7xK"
      },
      "id": "ZR38HcpIb7xK"
    },
    {
      "cell_type": "code",
      "source": [
        "plot(\n",
        "  x=x,\n",
        "  initial=psi_0(x),\n",
        "  analytic=psi_0(x-u*t_max),\n",
        "  upwind=solve_upwind(nt=nt, C=np.full(nx-1, u*dt / dx), psi=psi_0(x)),\n",
        "  mpdata=solve_mpdata(nt=nt, C=np.full(nx-1, u*dt / dx), psi=psi_0(x)),\n",
        "  corrected_upwind=correct_upwind(\n",
        "    iterations=100,\n",
        "    nt=nt,\n",
        "    C=np.full(nx-1, u *dt / dx),\n",
        "    psi=psi_0(x)\n",
        "  )\n",
        ")"
      ],
      "metadata": {
        "colab": {
          "base_uri": "https://localhost:8080/",
          "height": 449,
          "referenced_widgets": [
            "a9b2b822e0d6459ba12745a6e42a57e1",
            "14bbdfc45b1149d68d64b63af36d883c",
            "eb22df9cf629475595ad67109639c3c4",
            "51a9f46fd14648958089089c3d93eaa2",
            "ae94ea920c914f3ebe9e48eafab318fd",
            "e46c2085e10b49ff9a05c00723c00877",
            "7eba9560a7fd46229528a86e9f661a3f",
            "e71af0db433541bdba70ca83941e7954"
          ]
        },
        "id": "k3_a0seIbMOb",
        "outputId": "fa1c692b-cf35-4790-a105-5a3da9302a76"
      },
      "id": "k3_a0seIbMOb",
      "execution_count": 46,
      "outputs": [
        {
          "output_type": "display_data",
          "data": {
            "text/plain": [
              "<Figure size 640x480 with 1 Axes>"
            ],
            "image/svg+xml": "<?xml version=\"1.0\" encoding=\"utf-8\" standalone=\"no\"?>\n<!DOCTYPE svg PUBLIC \"-//W3C//DTD SVG 1.1//EN\"\n  \"http://www.w3.org/Graphics/SVG/1.1/DTD/svg11.dtd\">\n<svg xmlns:xlink=\"http://www.w3.org/1999/xlink\" width=\"394.423125pt\" height=\"297.190125pt\" viewBox=\"0 0 394.423125 297.190125\" xmlns=\"http://www.w3.org/2000/svg\" version=\"1.1\">\n <metadata>\n  <rdf:RDF xmlns:dc=\"http://purl.org/dc/elements/1.1/\" xmlns:cc=\"http://creativecommons.org/ns#\" xmlns:rdf=\"http://www.w3.org/1999/02/22-rdf-syntax-ns#\">\n   <cc:Work>\n    <dc:type rdf:resource=\"http://purl.org/dc/dcmitype/StillImage\"/>\n    <dc:date>2025-04-14T18:58:04.980443</dc:date>\n    <dc:format>image/svg+xml</dc:format>\n    <dc:creator>\n     <cc:Agent>\n      <dc:title>Matplotlib v3.10.0, https://matplotlib.org/</dc:title>\n     </cc:Agent>\n    </dc:creator>\n   </cc:Work>\n  </rdf:RDF>\n </metadata>\n <defs>\n  <style type=\"text/css\">*{stroke-linejoin: round; stroke-linecap: butt}</style>\n </defs>\n <g id=\"figure_1\">\n  <g id=\"patch_1\">\n   <path d=\"M 0 297.190125 \nL 394.423125 297.190125 \nL 394.423125 0 \nL 0 0 \nz\n\" style=\"fill: #ffffff\"/>\n  </g>\n  <g id=\"axes_1\">\n   <g id=\"patch_2\">\n    <path d=\"M 30.103125 273.312 \nL 387.223125 273.312 \nL 387.223125 7.2 \nL 30.103125 7.2 \nz\n\" style=\"fill: #ffffff\"/>\n   </g>\n   <g id=\"matplotlib.axis_1\">\n    <g id=\"xtick_1\">\n     <g id=\"line2d_1\">\n      <path d=\"M 46.335852 273.312 \nL 46.335852 7.2 \n\" clip-path=\"url(#p2ea5b86d95)\" style=\"fill: none; stroke: #b0b0b0; stroke-width: 0.8; stroke-linecap: square\"/>\n     </g>\n     <g id=\"line2d_2\">\n      <defs>\n       <path id=\"ma4b4ecd2f2\" d=\"M 0 0 \nL 0 3.5 \n\" style=\"stroke: #000000; stroke-width: 0.8\"/>\n      </defs>\n      <g>\n       <use xlink:href=\"#ma4b4ecd2f2\" x=\"46.335852\" y=\"273.312\" style=\"stroke: #000000; stroke-width: 0.8\"/>\n      </g>\n     </g>\n     <g id=\"text_1\">\n      <!-- −100 -->\n      <g transform=\"translate(32.602259 287.910437) scale(0.1 -0.1)\">\n       <defs>\n        <path id=\"DejaVuSans-2212\" d=\"M 678 2272 \nL 4684 2272 \nL 4684 1741 \nL 678 1741 \nL 678 2272 \nz\n\" transform=\"scale(0.015625)\"/>\n        <path id=\"DejaVuSans-31\" d=\"M 794 531 \nL 1825 531 \nL 1825 4091 \nL 703 3866 \nL 703 4441 \nL 1819 4666 \nL 2450 4666 \nL 2450 531 \nL 3481 531 \nL 3481 0 \nL 794 0 \nL 794 531 \nz\n\" transform=\"scale(0.015625)\"/>\n        <path id=\"DejaVuSans-30\" d=\"M 2034 4250 \nQ 1547 4250 1301 3770 \nQ 1056 3291 1056 2328 \nQ 1056 1369 1301 889 \nQ 1547 409 2034 409 \nQ 2525 409 2770 889 \nQ 3016 1369 3016 2328 \nQ 3016 3291 2770 3770 \nQ 2525 4250 2034 4250 \nz\nM 2034 4750 \nQ 2819 4750 3233 4129 \nQ 3647 3509 3647 2328 \nQ 3647 1150 3233 529 \nQ 2819 -91 2034 -91 \nQ 1250 -91 836 529 \nQ 422 1150 422 2328 \nQ 422 3509 836 4129 \nQ 1250 4750 2034 4750 \nz\n\" transform=\"scale(0.015625)\"/>\n       </defs>\n       <use xlink:href=\"#DejaVuSans-2212\"/>\n       <use xlink:href=\"#DejaVuSans-31\" transform=\"translate(83.789062 0)\"/>\n       <use xlink:href=\"#DejaVuSans-30\" transform=\"translate(147.412109 0)\"/>\n       <use xlink:href=\"#DejaVuSans-30\" transform=\"translate(211.035156 0)\"/>\n      </g>\n     </g>\n    </g>\n    <g id=\"xtick_2\">\n     <g id=\"line2d_3\">\n      <path d=\"M 86.91767 273.312 \nL 86.91767 7.2 \n\" clip-path=\"url(#p2ea5b86d95)\" style=\"fill: none; stroke: #b0b0b0; stroke-width: 0.8; stroke-linecap: square\"/>\n     </g>\n     <g id=\"line2d_4\">\n      <g>\n       <use xlink:href=\"#ma4b4ecd2f2\" x=\"86.91767\" y=\"273.312\" style=\"stroke: #000000; stroke-width: 0.8\"/>\n      </g>\n     </g>\n     <g id=\"text_2\">\n      <!-- −50 -->\n      <g transform=\"translate(76.365327 287.910437) scale(0.1 -0.1)\">\n       <defs>\n        <path id=\"DejaVuSans-35\" d=\"M 691 4666 \nL 3169 4666 \nL 3169 4134 \nL 1269 4134 \nL 1269 2991 \nQ 1406 3038 1543 3061 \nQ 1681 3084 1819 3084 \nQ 2600 3084 3056 2656 \nQ 3513 2228 3513 1497 \nQ 3513 744 3044 326 \nQ 2575 -91 1722 -91 \nQ 1428 -91 1123 -41 \nQ 819 9 494 109 \nL 494 744 \nQ 775 591 1075 516 \nQ 1375 441 1709 441 \nQ 2250 441 2565 725 \nQ 2881 1009 2881 1497 \nQ 2881 1984 2565 2268 \nQ 2250 2553 1709 2553 \nQ 1456 2553 1204 2497 \nQ 953 2441 691 2322 \nL 691 4666 \nz\n\" transform=\"scale(0.015625)\"/>\n       </defs>\n       <use xlink:href=\"#DejaVuSans-2212\"/>\n       <use xlink:href=\"#DejaVuSans-35\" transform=\"translate(83.789062 0)\"/>\n       <use xlink:href=\"#DejaVuSans-30\" transform=\"translate(147.412109 0)\"/>\n      </g>\n     </g>\n    </g>\n    <g id=\"xtick_3\">\n     <g id=\"line2d_5\">\n      <path d=\"M 127.499489 273.312 \nL 127.499489 7.2 \n\" clip-path=\"url(#p2ea5b86d95)\" style=\"fill: none; stroke: #b0b0b0; stroke-width: 0.8; stroke-linecap: square\"/>\n     </g>\n     <g id=\"line2d_6\">\n      <g>\n       <use xlink:href=\"#ma4b4ecd2f2\" x=\"127.499489\" y=\"273.312\" style=\"stroke: #000000; stroke-width: 0.8\"/>\n      </g>\n     </g>\n     <g id=\"text_3\">\n      <!-- 0 -->\n      <g transform=\"translate(124.318239 287.910437) scale(0.1 -0.1)\">\n       <use xlink:href=\"#DejaVuSans-30\"/>\n      </g>\n     </g>\n    </g>\n    <g id=\"xtick_4\">\n     <g id=\"line2d_7\">\n      <path d=\"M 168.081307 273.312 \nL 168.081307 7.2 \n\" clip-path=\"url(#p2ea5b86d95)\" style=\"fill: none; stroke: #b0b0b0; stroke-width: 0.8; stroke-linecap: square\"/>\n     </g>\n     <g id=\"line2d_8\">\n      <g>\n       <use xlink:href=\"#ma4b4ecd2f2\" x=\"168.081307\" y=\"273.312\" style=\"stroke: #000000; stroke-width: 0.8\"/>\n      </g>\n     </g>\n     <g id=\"text_4\">\n      <!-- 50 -->\n      <g transform=\"translate(161.718807 287.910437) scale(0.1 -0.1)\">\n       <use xlink:href=\"#DejaVuSans-35\"/>\n       <use xlink:href=\"#DejaVuSans-30\" transform=\"translate(63.623047 0)\"/>\n      </g>\n     </g>\n    </g>\n    <g id=\"xtick_5\">\n     <g id=\"line2d_9\">\n      <path d=\"M 208.663125 273.312 \nL 208.663125 7.2 \n\" clip-path=\"url(#p2ea5b86d95)\" style=\"fill: none; stroke: #b0b0b0; stroke-width: 0.8; stroke-linecap: square\"/>\n     </g>\n     <g id=\"line2d_10\">\n      <g>\n       <use xlink:href=\"#ma4b4ecd2f2\" x=\"208.663125\" y=\"273.312\" style=\"stroke: #000000; stroke-width: 0.8\"/>\n      </g>\n     </g>\n     <g id=\"text_5\">\n      <!-- 100 -->\n      <g transform=\"translate(199.119375 287.910437) scale(0.1 -0.1)\">\n       <use xlink:href=\"#DejaVuSans-31\"/>\n       <use xlink:href=\"#DejaVuSans-30\" transform=\"translate(63.623047 0)\"/>\n       <use xlink:href=\"#DejaVuSans-30\" transform=\"translate(127.246094 0)\"/>\n      </g>\n     </g>\n    </g>\n    <g id=\"xtick_6\">\n     <g id=\"line2d_11\">\n      <path d=\"M 249.244943 273.312 \nL 249.244943 7.2 \n\" clip-path=\"url(#p2ea5b86d95)\" style=\"fill: none; stroke: #b0b0b0; stroke-width: 0.8; stroke-linecap: square\"/>\n     </g>\n     <g id=\"line2d_12\">\n      <g>\n       <use xlink:href=\"#ma4b4ecd2f2\" x=\"249.244943\" y=\"273.312\" style=\"stroke: #000000; stroke-width: 0.8\"/>\n      </g>\n     </g>\n     <g id=\"text_6\">\n      <!-- 150 -->\n      <g transform=\"translate(239.701193 287.910437) scale(0.1 -0.1)\">\n       <use xlink:href=\"#DejaVuSans-31\"/>\n       <use xlink:href=\"#DejaVuSans-35\" transform=\"translate(63.623047 0)\"/>\n       <use xlink:href=\"#DejaVuSans-30\" transform=\"translate(127.246094 0)\"/>\n      </g>\n     </g>\n    </g>\n    <g id=\"xtick_7\">\n     <g id=\"line2d_13\">\n      <path d=\"M 289.826761 273.312 \nL 289.826761 7.2 \n\" clip-path=\"url(#p2ea5b86d95)\" style=\"fill: none; stroke: #b0b0b0; stroke-width: 0.8; stroke-linecap: square\"/>\n     </g>\n     <g id=\"line2d_14\">\n      <g>\n       <use xlink:href=\"#ma4b4ecd2f2\" x=\"289.826761\" y=\"273.312\" style=\"stroke: #000000; stroke-width: 0.8\"/>\n      </g>\n     </g>\n     <g id=\"text_7\">\n      <!-- 200 -->\n      <g transform=\"translate(280.283011 287.910437) scale(0.1 -0.1)\">\n       <defs>\n        <path id=\"DejaVuSans-32\" d=\"M 1228 531 \nL 3431 531 \nL 3431 0 \nL 469 0 \nL 469 531 \nQ 828 903 1448 1529 \nQ 2069 2156 2228 2338 \nQ 2531 2678 2651 2914 \nQ 2772 3150 2772 3378 \nQ 2772 3750 2511 3984 \nQ 2250 4219 1831 4219 \nQ 1534 4219 1204 4116 \nQ 875 4013 500 3803 \nL 500 4441 \nQ 881 4594 1212 4672 \nQ 1544 4750 1819 4750 \nQ 2544 4750 2975 4387 \nQ 3406 4025 3406 3419 \nQ 3406 3131 3298 2873 \nQ 3191 2616 2906 2266 \nQ 2828 2175 2409 1742 \nQ 1991 1309 1228 531 \nz\n\" transform=\"scale(0.015625)\"/>\n       </defs>\n       <use xlink:href=\"#DejaVuSans-32\"/>\n       <use xlink:href=\"#DejaVuSans-30\" transform=\"translate(63.623047 0)\"/>\n       <use xlink:href=\"#DejaVuSans-30\" transform=\"translate(127.246094 0)\"/>\n      </g>\n     </g>\n    </g>\n    <g id=\"xtick_8\">\n     <g id=\"line2d_15\">\n      <path d=\"M 330.40858 273.312 \nL 330.40858 7.2 \n\" clip-path=\"url(#p2ea5b86d95)\" style=\"fill: none; stroke: #b0b0b0; stroke-width: 0.8; stroke-linecap: square\"/>\n     </g>\n     <g id=\"line2d_16\">\n      <g>\n       <use xlink:href=\"#ma4b4ecd2f2\" x=\"330.40858\" y=\"273.312\" style=\"stroke: #000000; stroke-width: 0.8\"/>\n      </g>\n     </g>\n     <g id=\"text_8\">\n      <!-- 250 -->\n      <g transform=\"translate(320.86483 287.910437) scale(0.1 -0.1)\">\n       <use xlink:href=\"#DejaVuSans-32\"/>\n       <use xlink:href=\"#DejaVuSans-35\" transform=\"translate(63.623047 0)\"/>\n       <use xlink:href=\"#DejaVuSans-30\" transform=\"translate(127.246094 0)\"/>\n      </g>\n     </g>\n    </g>\n    <g id=\"xtick_9\">\n     <g id=\"line2d_17\">\n      <path d=\"M 370.990398 273.312 \nL 370.990398 7.2 \n\" clip-path=\"url(#p2ea5b86d95)\" style=\"fill: none; stroke: #b0b0b0; stroke-width: 0.8; stroke-linecap: square\"/>\n     </g>\n     <g id=\"line2d_18\">\n      <g>\n       <use xlink:href=\"#ma4b4ecd2f2\" x=\"370.990398\" y=\"273.312\" style=\"stroke: #000000; stroke-width: 0.8\"/>\n      </g>\n     </g>\n     <g id=\"text_9\">\n      <!-- 300 -->\n      <g transform=\"translate(361.446648 287.910437) scale(0.1 -0.1)\">\n       <defs>\n        <path id=\"DejaVuSans-33\" d=\"M 2597 2516 \nQ 3050 2419 3304 2112 \nQ 3559 1806 3559 1356 \nQ 3559 666 3084 287 \nQ 2609 -91 1734 -91 \nQ 1441 -91 1130 -33 \nQ 819 25 488 141 \nL 488 750 \nQ 750 597 1062 519 \nQ 1375 441 1716 441 \nQ 2309 441 2620 675 \nQ 2931 909 2931 1356 \nQ 2931 1769 2642 2001 \nQ 2353 2234 1838 2234 \nL 1294 2234 \nL 1294 2753 \nL 1863 2753 \nQ 2328 2753 2575 2939 \nQ 2822 3125 2822 3475 \nQ 2822 3834 2567 4026 \nQ 2313 4219 1838 4219 \nQ 1578 4219 1281 4162 \nQ 984 4106 628 3988 \nL 628 4550 \nQ 988 4650 1302 4700 \nQ 1616 4750 1894 4750 \nQ 2613 4750 3031 4423 \nQ 3450 4097 3450 3541 \nQ 3450 3153 3228 2886 \nQ 3006 2619 2597 2516 \nz\n\" transform=\"scale(0.015625)\"/>\n       </defs>\n       <use xlink:href=\"#DejaVuSans-33\"/>\n       <use xlink:href=\"#DejaVuSans-30\" transform=\"translate(63.623047 0)\"/>\n       <use xlink:href=\"#DejaVuSans-30\" transform=\"translate(127.246094 0)\"/>\n      </g>\n     </g>\n    </g>\n   </g>\n   <g id=\"matplotlib.axis_2\">\n    <g id=\"ytick_1\">\n     <g id=\"line2d_19\">\n      <path d=\"M 30.103125 261.216 \nL 387.223125 261.216 \n\" clip-path=\"url(#p2ea5b86d95)\" style=\"fill: none; stroke: #b0b0b0; stroke-width: 0.8; stroke-linecap: square\"/>\n     </g>\n     <g id=\"line2d_20\">\n      <defs>\n       <path id=\"m92a1c21bd9\" d=\"M 0 0 \nL -3.5 0 \n\" style=\"stroke: #000000; stroke-width: 0.8\"/>\n      </defs>\n      <g>\n       <use xlink:href=\"#m92a1c21bd9\" x=\"30.103125\" y=\"261.216\" style=\"stroke: #000000; stroke-width: 0.8\"/>\n      </g>\n     </g>\n     <g id=\"text_10\">\n      <!-- 0.0 -->\n      <g transform=\"translate(7.2 265.015219) scale(0.1 -0.1)\">\n       <defs>\n        <path id=\"DejaVuSans-2e\" d=\"M 684 794 \nL 1344 794 \nL 1344 0 \nL 684 0 \nL 684 794 \nz\n\" transform=\"scale(0.015625)\"/>\n       </defs>\n       <use xlink:href=\"#DejaVuSans-30\"/>\n       <use xlink:href=\"#DejaVuSans-2e\" transform=\"translate(63.623047 0)\"/>\n       <use xlink:href=\"#DejaVuSans-30\" transform=\"translate(95.410156 0)\"/>\n      </g>\n     </g>\n    </g>\n    <g id=\"ytick_2\">\n     <g id=\"line2d_21\">\n      <path d=\"M 30.103125 212.816725 \nL 387.223125 212.816725 \n\" clip-path=\"url(#p2ea5b86d95)\" style=\"fill: none; stroke: #b0b0b0; stroke-width: 0.8; stroke-linecap: square\"/>\n     </g>\n     <g id=\"line2d_22\">\n      <g>\n       <use xlink:href=\"#m92a1c21bd9\" x=\"30.103125\" y=\"212.816725\" style=\"stroke: #000000; stroke-width: 0.8\"/>\n      </g>\n     </g>\n     <g id=\"text_11\">\n      <!-- 0.2 -->\n      <g transform=\"translate(7.2 216.615944) scale(0.1 -0.1)\">\n       <use xlink:href=\"#DejaVuSans-30\"/>\n       <use xlink:href=\"#DejaVuSans-2e\" transform=\"translate(63.623047 0)\"/>\n       <use xlink:href=\"#DejaVuSans-32\" transform=\"translate(95.410156 0)\"/>\n      </g>\n     </g>\n    </g>\n    <g id=\"ytick_3\">\n     <g id=\"line2d_23\">\n      <path d=\"M 30.103125 164.41745 \nL 387.223125 164.41745 \n\" clip-path=\"url(#p2ea5b86d95)\" style=\"fill: none; stroke: #b0b0b0; stroke-width: 0.8; stroke-linecap: square\"/>\n     </g>\n     <g id=\"line2d_24\">\n      <g>\n       <use xlink:href=\"#m92a1c21bd9\" x=\"30.103125\" y=\"164.41745\" style=\"stroke: #000000; stroke-width: 0.8\"/>\n      </g>\n     </g>\n     <g id=\"text_12\">\n      <!-- 0.4 -->\n      <g transform=\"translate(7.2 168.216669) scale(0.1 -0.1)\">\n       <defs>\n        <path id=\"DejaVuSans-34\" d=\"M 2419 4116 \nL 825 1625 \nL 2419 1625 \nL 2419 4116 \nz\nM 2253 4666 \nL 3047 4666 \nL 3047 1625 \nL 3713 1625 \nL 3713 1100 \nL 3047 1100 \nL 3047 0 \nL 2419 0 \nL 2419 1100 \nL 313 1100 \nL 313 1709 \nL 2253 4666 \nz\n\" transform=\"scale(0.015625)\"/>\n       </defs>\n       <use xlink:href=\"#DejaVuSans-30\"/>\n       <use xlink:href=\"#DejaVuSans-2e\" transform=\"translate(63.623047 0)\"/>\n       <use xlink:href=\"#DejaVuSans-34\" transform=\"translate(95.410156 0)\"/>\n      </g>\n     </g>\n    </g>\n    <g id=\"ytick_4\">\n     <g id=\"line2d_25\">\n      <path d=\"M 30.103125 116.018176 \nL 387.223125 116.018176 \n\" clip-path=\"url(#p2ea5b86d95)\" style=\"fill: none; stroke: #b0b0b0; stroke-width: 0.8; stroke-linecap: square\"/>\n     </g>\n     <g id=\"line2d_26\">\n      <g>\n       <use xlink:href=\"#m92a1c21bd9\" x=\"30.103125\" y=\"116.018176\" style=\"stroke: #000000; stroke-width: 0.8\"/>\n      </g>\n     </g>\n     <g id=\"text_13\">\n      <!-- 0.6 -->\n      <g transform=\"translate(7.2 119.817394) scale(0.1 -0.1)\">\n       <defs>\n        <path id=\"DejaVuSans-36\" d=\"M 2113 2584 \nQ 1688 2584 1439 2293 \nQ 1191 2003 1191 1497 \nQ 1191 994 1439 701 \nQ 1688 409 2113 409 \nQ 2538 409 2786 701 \nQ 3034 994 3034 1497 \nQ 3034 2003 2786 2293 \nQ 2538 2584 2113 2584 \nz\nM 3366 4563 \nL 3366 3988 \nQ 3128 4100 2886 4159 \nQ 2644 4219 2406 4219 \nQ 1781 4219 1451 3797 \nQ 1122 3375 1075 2522 \nQ 1259 2794 1537 2939 \nQ 1816 3084 2150 3084 \nQ 2853 3084 3261 2657 \nQ 3669 2231 3669 1497 \nQ 3669 778 3244 343 \nQ 2819 -91 2113 -91 \nQ 1303 -91 875 529 \nQ 447 1150 447 2328 \nQ 447 3434 972 4092 \nQ 1497 4750 2381 4750 \nQ 2619 4750 2861 4703 \nQ 3103 4656 3366 4563 \nz\n\" transform=\"scale(0.015625)\"/>\n       </defs>\n       <use xlink:href=\"#DejaVuSans-30\"/>\n       <use xlink:href=\"#DejaVuSans-2e\" transform=\"translate(63.623047 0)\"/>\n       <use xlink:href=\"#DejaVuSans-36\" transform=\"translate(95.410156 0)\"/>\n      </g>\n     </g>\n    </g>\n    <g id=\"ytick_5\">\n     <g id=\"line2d_27\">\n      <path d=\"M 30.103125 67.618901 \nL 387.223125 67.618901 \n\" clip-path=\"url(#p2ea5b86d95)\" style=\"fill: none; stroke: #b0b0b0; stroke-width: 0.8; stroke-linecap: square\"/>\n     </g>\n     <g id=\"line2d_28\">\n      <g>\n       <use xlink:href=\"#m92a1c21bd9\" x=\"30.103125\" y=\"67.618901\" style=\"stroke: #000000; stroke-width: 0.8\"/>\n      </g>\n     </g>\n     <g id=\"text_14\">\n      <!-- 0.8 -->\n      <g transform=\"translate(7.2 71.41812) scale(0.1 -0.1)\">\n       <defs>\n        <path id=\"DejaVuSans-38\" d=\"M 2034 2216 \nQ 1584 2216 1326 1975 \nQ 1069 1734 1069 1313 \nQ 1069 891 1326 650 \nQ 1584 409 2034 409 \nQ 2484 409 2743 651 \nQ 3003 894 3003 1313 \nQ 3003 1734 2745 1975 \nQ 2488 2216 2034 2216 \nz\nM 1403 2484 \nQ 997 2584 770 2862 \nQ 544 3141 544 3541 \nQ 544 4100 942 4425 \nQ 1341 4750 2034 4750 \nQ 2731 4750 3128 4425 \nQ 3525 4100 3525 3541 \nQ 3525 3141 3298 2862 \nQ 3072 2584 2669 2484 \nQ 3125 2378 3379 2068 \nQ 3634 1759 3634 1313 \nQ 3634 634 3220 271 \nQ 2806 -91 2034 -91 \nQ 1263 -91 848 271 \nQ 434 634 434 1313 \nQ 434 1759 690 2068 \nQ 947 2378 1403 2484 \nz\nM 1172 3481 \nQ 1172 3119 1398 2916 \nQ 1625 2713 2034 2713 \nQ 2441 2713 2670 2916 \nQ 2900 3119 2900 3481 \nQ 2900 3844 2670 4047 \nQ 2441 4250 2034 4250 \nQ 1625 4250 1398 4047 \nQ 1172 3844 1172 3481 \nz\n\" transform=\"scale(0.015625)\"/>\n       </defs>\n       <use xlink:href=\"#DejaVuSans-30\"/>\n       <use xlink:href=\"#DejaVuSans-2e\" transform=\"translate(63.623047 0)\"/>\n       <use xlink:href=\"#DejaVuSans-38\" transform=\"translate(95.410156 0)\"/>\n      </g>\n     </g>\n    </g>\n    <g id=\"ytick_6\">\n     <g id=\"line2d_29\">\n      <path d=\"M 30.103125 19.219626 \nL 387.223125 19.219626 \n\" clip-path=\"url(#p2ea5b86d95)\" style=\"fill: none; stroke: #b0b0b0; stroke-width: 0.8; stroke-linecap: square\"/>\n     </g>\n     <g id=\"line2d_30\">\n      <g>\n       <use xlink:href=\"#m92a1c21bd9\" x=\"30.103125\" y=\"19.219626\" style=\"stroke: #000000; stroke-width: 0.8\"/>\n      </g>\n     </g>\n     <g id=\"text_15\">\n      <!-- 1.0 -->\n      <g transform=\"translate(7.2 23.018845) scale(0.1 -0.1)\">\n       <use xlink:href=\"#DejaVuSans-31\"/>\n       <use xlink:href=\"#DejaVuSans-2e\" transform=\"translate(63.623047 0)\"/>\n       <use xlink:href=\"#DejaVuSans-30\" transform=\"translate(95.410156 0)\"/>\n      </g>\n     </g>\n    </g>\n   </g>\n   <g id=\"line2d_31\">\n    <path d=\"M 46.335852 261.215098 \nL 63.465866 261.133172 \nL 63.465866 261.092872 \nL 66.728726 261.034805 \nL 66.728726 260.952032 \nL 68.360156 260.952032 \nL 68.360156 260.835312 \nL 69.991585 260.835312 \nL 69.991585 260.672499 \nL 71.623015 260.672499 \nL 71.623015 260.447852 \nL 73.254445 260.447852 \nL 73.254445 260.141262 \nL 74.885875 260.141262 \nL 74.885875 259.727414 \nL 76.517305 259.727414 \nL 76.517305 259.174928 \nL 78.148735 259.174928 \nL 78.148735 258.445513 \nL 79.780165 258.445513 \nL 79.780165 257.493222 \nL 81.411595 257.493222 \nL 81.411595 256.263877 \nL 83.043024 256.263877 \nL 83.043024 254.694777 \nL 84.674454 254.694777 \nL 84.674454 252.714805 \nL 86.305884 252.714805 \nL 86.305884 250.24505 \nL 87.937314 250.24505 \nL 87.937314 247.200075 \nL 89.568744 247.200075 \nL 89.568744 243.489925 \nL 91.200174 243.489925 \nL 91.200174 239.022964 \nL 92.831604 239.022964 \nL 92.831604 233.709576 \nL 94.463034 233.709576 \nL 94.463034 227.466694 \nL 96.094464 227.466694 \nL 96.094464 220.223079 \nL 97.725893 220.223079 \nL 97.725893 211.925164 \nL 99.357323 211.925164 \nL 99.357323 202.543203 \nL 100.988753 202.543203 \nL 100.988753 192.07738 \nL 102.620183 192.07738 \nL 102.620183 180.563485 \nL 104.251613 180.563485 \nL 104.251613 168.077676 \nL 105.883043 168.077676 \nL 105.883043 154.739879 \nL 107.514473 154.739879 \nL 107.514473 140.715368 \nL 109.145903 140.715368 \nL 109.145903 126.214149 \nL 110.777332 126.214149 \nL 110.777332 111.487863 \nL 112.408762 111.487863 \nL 112.408762 96.8241 \nL 114.040192 96.8241 \nL 114.040192 82.538154 \nL 115.671622 82.538154 \nL 115.671622 68.96248 \nL 117.303052 68.96248 \nL 117.303052 56.434279 \nL 118.934482 56.434279 \nL 118.934482 45.281829 \nL 120.565912 45.281829 \nL 120.565912 35.810318 \nL 122.197342 35.810318 \nL 122.197342 28.288031 \nL 123.828771 28.288031 \nL 123.828771 22.933734 \nL 125.460201 22.933734 \nL 125.460201 19.906123 \nL 127.091631 19.906123 \nL 127.091631 19.296 \nL 128.723061 19.296 \nL 128.723061 21.121757 \nL 130.354491 21.121757 \nL 130.354491 25.328451 \nL 131.985921 25.328451 \nL 131.985921 31.790553 \nL 133.617351 31.790553 \nL 133.617351 40.318168 \nL 135.248781 40.318168 \nL 135.248781 50.666304 \nL 136.88021 50.666304 \nL 136.88021 62.546554 \nL 138.51164 62.546554 \nL 138.51164 75.640414 \nL 140.14307 75.640414 \nL 140.14307 89.613386 \nL 141.7745 89.613386 \nL 141.7745 104.128996 \nL 143.40593 104.128996 \nL 143.40593 118.861923 \nL 145.03736 118.861923 \nL 145.03736 133.509542 \nL 146.66879 133.509542 \nL 146.66879 147.801362 \nL 148.30022 147.801362 \nL 148.30022 161.506013 \nL 149.931649 161.506013 \nL 149.931649 174.435629 \nL 151.563079 174.435629 \nL 151.563079 186.447676 \nL 153.194509 186.447676 \nL 153.194509 197.444433 \nL 154.825939 197.444433 \nL 154.825939 207.370449 \nL 156.457369 207.370449 \nL 156.457369 216.208399 \nL 158.088799 216.208399 \nL 158.088799 223.973811 \nL 159.720229 223.973811 \nL 159.720229 230.709118 \nL 161.351659 230.709118 \nL 161.351659 236.477477 \nL 162.983088 236.477477 \nL 162.983088 241.356743 \nL 164.614518 241.356743 \nL 164.614518 245.433874 \nL 166.245948 245.433874 \nL 166.245948 248.800011 \nL 167.877378 248.800011 \nL 167.877378 251.546357 \nL 169.508808 251.546357 \nL 169.508808 253.76091 \nL 171.140238 253.76091 \nL 171.140238 255.526048 \nL 172.771668 255.526048 \nL 172.771668 256.916899 \nL 174.403098 256.916899 \nL 174.403098 258.000416 \nL 176.034527 258.000416 \nL 176.034527 258.835021 \nL 177.665957 258.835021 \nL 177.665957 259.470723 \nL 179.297387 259.470723 \nL 179.297387 259.949554 \nL 180.928817 259.949554 \nL 180.928817 260.30625 \nL 182.560247 260.30625 \nL 182.560247 260.56905 \nL 184.191677 260.56905 \nL 184.191677 260.760558 \nL 185.823107 260.760558 \nL 185.823107 260.898599 \nL 189.085966 260.997024 \nL 189.085966 261.066446 \nL 195.611686 261.171158 \nL 195.611686 261.186587 \nL 370.990398 261.216 \nL 370.990398 261.216 \n\" clip-path=\"url(#p2ea5b86d95)\" style=\"fill: none; stroke: #1f77b4; stroke-width: 1.5; stroke-linecap: square\"/>\n   </g>\n   <g id=\"line2d_32\">\n    <path d=\"M 46.335852 261.216 \nL 171.140238 261.121489 \nL 171.140238 261.075973 \nL 174.403098 261.010622 \nL 174.403098 260.917797 \nL 176.034527 260.917797 \nL 176.034527 260.78737 \nL 177.665957 260.78737 \nL 177.665957 260.60609 \nL 179.297387 260.60609 \nL 179.297387 260.356862 \nL 180.928817 260.356862 \nL 180.928817 260.017955 \nL 182.560247 260.017955 \nL 182.560247 259.562148 \nL 184.191677 259.562148 \nL 184.191677 258.955869 \nL 185.823107 258.955869 \nL 185.823107 258.158379 \nL 187.454537 258.158379 \nL 187.454537 257.121064 \nL 189.085966 257.121064 \nL 189.085966 255.78695 \nL 190.717396 255.78695 \nL 190.717396 254.090525 \nL 192.348826 254.090525 \nL 192.348826 251.958001 \nL 193.980256 251.958001 \nL 193.980256 249.308139 \nL 195.611686 249.308139 \nL 195.611686 246.053749 \nL 197.243116 246.053749 \nL 197.243116 242.103967 \nL 198.874546 242.103967 \nL 198.874546 237.367371 \nL 200.505976 237.367371 \nL 200.505976 231.755968 \nL 202.137405 231.755968 \nL 202.137405 225.189977 \nL 203.768835 225.189977 \nL 203.768835 217.603324 \nL 205.400265 217.603324 \nL 205.400265 208.949619 \nL 207.031695 208.949619 \nL 207.031695 199.208327 \nL 208.663125 199.208327 \nL 208.663125 188.390792 \nL 210.294555 188.390792 \nL 210.294555 176.545655 \nL 211.925985 176.545655 \nL 211.925985 163.763222 \nL 213.557415 163.763222 \nL 213.557415 150.178311 \nL 215.188845 150.178311 \nL 215.188845 135.971142 \nL 216.820274 135.971142 \nL 216.820274 121.365928 \nL 218.451704 121.365928 \nL 218.451704 106.626932 \nL 220.083134 106.626932 \nL 220.083134 92.051916 \nL 221.714564 92.051916 \nL 221.714564 77.963105 \nL 223.345994 77.963105 \nL 223.345994 64.69597 \nL 224.977424 64.69597 \nL 224.977424 52.586316 \nL 226.608854 52.586316 \nL 226.608854 41.956371 \nL 228.240284 41.956371 \nL 228.240284 33.100631 \nL 229.871713 33.100631 \nL 229.871713 26.272347 \nL 231.503143 26.272347 \nL 231.503143 21.67151 \nL 233.134573 21.67151 \nL 233.134573 19.435122 \nL 234.766003 19.435122 \nL 234.766003 19.630416 \nL 236.397433 19.630416 \nL 236.397433 22.251506 \nL 238.028863 22.251506 \nL 238.028863 27.219675 \nL 239.660293 27.219675 \nL 239.660293 34.387305 \nL 241.291723 34.387305 \nL 241.291723 43.545162 \nL 242.923152 43.545162 \nL 242.923152 54.432538 \nL 244.554582 54.432538 \nL 244.554582 66.749565 \nL 246.186012 66.749565 \nL 246.186012 80.170889 \nL 247.817442 80.170889 \nL 247.817442 94.359839 \nL 249.448872 94.359839 \nL 249.448872 108.982234 \nL 251.080302 108.982234 \nL 251.080302 123.71906 \nL 252.711732 123.71906 \nL 252.711732 138.277369 \nL 254.343162 138.277369 \nL 254.343162 152.398934 \nL 255.974591 152.398934 \nL 255.974591 165.866384 \nL 257.606021 165.866384 \nL 257.606021 178.506731 \nL 259.237451 178.506731 \nL 259.237451 190.192395 \nL 260.868881 190.192395 \nL 260.868881 200.839972 \nL 262.500311 200.839972 \nL 262.500311 210.407115 \nL 264.131741 210.407115 \nL 264.131741 218.887967 \nL 265.763171 218.887967 \nL 265.763171 226.30761 \nL 267.394601 226.30761 \nL 267.394601 232.716002 \nL 269.02603 232.716002 \nL 269.02603 238.181799 \nL 270.65746 238.181799 \nL 270.65746 242.786448 \nL 272.28889 242.786448 \nL 272.28889 246.618796 \nL 273.92032 246.618796 \nL 273.92032 249.770418 \nL 275.55175 249.770418 \nL 275.55175 252.331778 \nL 277.18318 252.331778 \nL 277.18318 254.389247 \nL 278.81461 254.389247 \nL 278.81461 256.022952 \nL 280.44604 256.022952 \nL 280.44604 257.305397 \nL 282.077469 257.305397 \nL 282.077469 258.300732 \nL 283.708899 258.300732 \nL 283.708899 259.064574 \nL 285.340329 259.064574 \nL 285.340329 259.644235 \nL 286.971759 259.644235 \nL 286.971759 260.079257 \nL 288.603189 260.079257 \nL 288.603189 260.402139 \nL 290.234619 260.402139 \nL 290.234619 260.639165 \nL 291.866049 260.639165 \nL 291.866049 260.81127 \nL 293.497479 260.81127 \nL 293.497479 260.934879 \nL 296.760338 261.022699 \nL 296.760338 261.08442 \nL 304.917488 261.190465 \nL 304.917488 261.199474 \nL 370.990398 261.216 \nL 370.990398 261.216 \n\" clip-path=\"url(#p2ea5b86d95)\" style=\"fill: none; stroke: #ff7f0e; stroke-width: 1.5; stroke-linecap: square\"/>\n   </g>\n   <g id=\"line2d_33\">\n    <path d=\"M 46.335852 261.215098 \nL 164.614518 261.11865 \nL 164.614518 261.077859 \nL 167.877378 261.021533 \nL 167.877378 260.944432 \nL 171.140238 260.839813 \nL 171.140238 260.699088 \nL 172.771668 260.699088 \nL 172.771668 260.511452 \nL 174.403098 260.511452 \nL 174.403098 260.263459 \nL 176.034527 260.263459 \nL 176.034527 259.938576 \nL 177.665957 259.938576 \nL 177.665957 259.516728 \nL 179.297387 259.516728 \nL 179.297387 258.973842 \nL 180.928817 258.973842 \nL 180.928817 258.281432 \nL 182.560247 258.281432 \nL 182.560247 257.406258 \nL 184.191677 257.406258 \nL 184.191677 256.310093 \nL 185.823107 256.310093 \nL 185.823107 254.949655 \nL 187.454537 254.949655 \nL 187.454537 253.27675 \nL 189.085966 253.27675 \nL 189.085966 251.238687 \nL 190.717396 251.238687 \nL 190.717396 248.779003 \nL 192.348826 248.779003 \nL 192.348826 245.838557 \nL 193.980256 245.838557 \nL 193.980256 242.357022 \nL 195.611686 242.357022 \nL 195.611686 238.274786 \nL 197.243116 238.274786 \nL 197.243116 233.535267 \nL 198.874546 233.535267 \nL 198.874546 228.087599 \nL 200.505976 228.087599 \nL 200.505976 221.889639 \nL 202.137405 221.889639 \nL 202.137405 214.911186 \nL 203.768835 214.911186 \nL 203.768835 207.137295 \nL 205.400265 207.137295 \nL 205.400265 198.571516 \nL 207.031695 198.571516 \nL 207.031695 189.238887 \nL 208.663125 189.238887 \nL 208.663125 179.188465 \nL 210.294555 179.188465 \nL 210.294555 168.495208 \nL 211.925985 168.495208 \nL 211.925985 157.260993 \nL 213.557415 157.260993 \nL 213.557415 145.614613 \nL 215.188845 145.614613 \nL 215.188845 133.710606 \nL 216.820274 133.710606 \nL 216.820274 121.726838 \nL 218.451704 121.726838 \nL 218.451704 109.860832 \nL 220.083134 109.860832 \nL 220.083134 98.324886 \nL 221.714564 98.324886 \nL 221.714564 87.340122 \nL 223.345994 87.340122 \nL 223.345994 77.129681 \nL 224.977424 77.129681 \nL 224.977424 67.911335 \nL 226.608854 67.911335 \nL 226.608854 59.889845 \nL 228.240284 59.889845 \nL 228.240284 53.249456 \nL 229.871713 53.249456 \nL 229.871713 48.146875 \nL 231.503143 48.146875 \nL 231.503143 44.705145 \nL 233.134573 44.705145 \nL 233.134573 43.008712 \nL 236.397433 43.099987 \nL 236.397433 44.977581 \nL 238.028863 44.977581 \nL 238.028863 48.596335 \nL 239.660293 48.596335 \nL 239.660293 53.869116 \nL 241.291723 53.869116 \nL 241.291723 60.670308 \nL 242.923152 60.670308 \nL 242.923152 68.840789 \nL 244.554582 68.840789 \nL 244.554582 78.194117 \nL 246.186012 78.194117 \nL 246.186012 88.523594 \nL 247.817442 88.523594 \nL 247.817442 99.609833 \nL 249.448872 99.609833 \nL 249.448872 111.228445 \nL 251.080302 111.228445 \nL 251.080302 123.157469 \nL 252.711732 123.157469 \nL 252.711732 135.184212 \nL 254.343162 135.184212 \nL 254.343162 147.111213 \nL 255.974591 147.111213 \nL 255.974591 158.761126 \nL 257.606021 158.761126 \nL 257.606021 169.980382 \nL 259.237451 169.980382 \nL 259.237451 180.641562 \nL 260.868881 180.641562 \nL 260.868881 190.644515 \nL 262.500311 190.644515 \nL 262.500311 199.916304 \nL 264.131741 199.916304 \nL 264.131741 208.410097 \nL 265.763171 208.410097 \nL 265.763171 216.10321 \nL 267.394601 216.10321 \nL 267.394601 222.994484 \nL 269.02603 222.994484 \nL 269.02603 229.10121 \nL 270.65746 229.10121 \nL 270.65746 234.455813 \nL 272.28889 234.455813 \nL 272.28889 239.102475 \nL 273.92032 239.102475 \nL 273.92032 243.09386 \nL 275.55175 243.09386 \nL 275.55175 246.488075 \nL 277.18318 246.488075 \nL 277.18318 249.345964 \nL 278.81461 249.345964 \nL 278.81461 251.728784 \nL 280.44604 251.728784 \nL 280.44604 253.696315 \nL 282.077469 253.696315 \nL 282.077469 255.305389 \nL 283.708899 255.305389 \nL 283.708899 256.608823 \nL 285.340329 256.608823 \nL 285.340329 257.65473 \nL 286.971759 257.65473 \nL 286.971759 258.486142 \nL 288.603189 258.486142 \nL 288.603189 259.140903 \nL 290.234619 259.140903 \nL 290.234619 259.651781 \nL 291.866049 259.651781 \nL 291.866049 260.046729 \nL 293.497479 260.046729 \nL 293.497479 260.34926 \nL 295.128908 260.34926 \nL 295.128908 260.578886 \nL 296.760338 260.578886 \nL 296.760338 260.751596 \nL 298.391768 260.751596 \nL 298.391768 260.88032 \nL 301.654628 260.975397 \nL 301.654628 261.04499 \nL 306.548918 261.131766 \nL 306.548918 261.157625 \nL 370.990398 261.216 \nL 370.990398 261.216 \n\" clip-path=\"url(#p2ea5b86d95)\" style=\"fill: none; stroke: #2ca02c; stroke-width: 1.5; stroke-linecap: square\"/>\n   </g>\n   <g id=\"line2d_34\">\n    <path d=\"M 46.335852 261.215098 \nL 164.614518 261.119326 \nL 164.614518 261.079052 \nL 167.877378 261.023604 \nL 167.877378 260.947968 \nL 171.140238 260.845756 \nL 171.140238 260.708914 \nL 172.771668 260.708914 \nL 172.771668 260.527431 \nL 174.403098 260.527431 \nL 174.403098 260.289009 \nL 176.034527 260.289009 \nL 176.034527 259.978739 \nL 177.665957 259.978739 \nL 177.665957 259.578782 \nL 179.297387 259.578782 \nL 179.297387 259.068057 \nL 180.928817 259.068057 \nL 180.928817 258.421972 \nL 182.560247 258.421972 \nL 182.560247 257.612187 \nL 184.191677 257.612187 \nL 184.191677 256.606436 \nL 185.823107 256.606436 \nL 185.823107 255.368399 \nL 187.454537 255.368399 \nL 187.454537 253.857643 \nL 189.085966 253.857643 \nL 189.085966 252.029635 \nL 190.717396 252.029635 \nL 190.717396 249.835835 \nL 192.348826 249.835835 \nL 192.348826 247.223897 \nL 193.980256 247.223897 \nL 193.980256 244.138013 \nL 195.611686 244.138013 \nL 195.611686 240.519456 \nL 197.243116 240.519456 \nL 197.243116 236.307403 \nL 198.874546 236.307403 \nL 198.874546 231.440149 \nL 200.505976 231.440149 \nL 200.505976 225.85682 \nL 202.137405 225.85682 \nL 202.137405 219.499742 \nL 203.768835 219.499742 \nL 203.768835 212.317565 \nL 205.400265 212.317565 \nL 205.400265 204.269231 \nL 207.031695 204.269231 \nL 207.031695 195.328785 \nL 208.663125 195.328785 \nL 208.663125 185.490907 \nL 210.294555 185.490907 \nL 210.294555 174.776876 \nL 211.925985 174.776876 \nL 211.925985 163.240528 \nL 213.557415 163.240528 \nL 213.557415 150.973582 \nL 215.188845 150.973582 \nL 215.188845 138.10961 \nL 216.820274 138.10961 \nL 216.820274 124.825935 \nL 218.451704 124.825935 \nL 218.451704 111.342815 \nL 220.083134 111.342815 \nL 220.083134 97.919523 \nL 221.714564 97.919523 \nL 221.714564 84.847234 \nL 223.345994 84.847234 \nL 223.345994 72.439001 \nL 224.977424 72.439001 \nL 224.977424 61.017425 \nL 226.608854 61.017425 \nL 226.608854 50.900928 \nL 228.240284 50.900928 \nL 228.240284 42.389644 \nL 229.871713 42.389644 \nL 229.871713 35.751949 \nL 231.503143 35.751949 \nL 231.503143 31.212337 \nL 233.134573 31.212337 \nL 233.134573 28.940476 \nL 236.397433 29.037881 \nL 236.397433 31.508133 \nL 238.028863 31.508133 \nL 238.028863 36.249363 \nL 239.660293 36.249363 \nL 239.660293 43.085307 \nL 241.291723 43.085307 \nL 241.291723 51.784542 \nL 242.923152 51.784542 \nL 242.923152 62.07347 \nL 244.554582 62.07347 \nL 244.554582 73.648475 \nL 246.186012 73.648475 \nL 246.186012 86.188781 \nL 247.817442 86.188781 \nL 247.817442 99.370019 \nL 249.448872 99.370019 \nL 249.448872 112.877736 \nL 251.080302 112.877736 \nL 251.080302 126.419765 \nL 252.711732 126.419765 \nL 252.711732 139.736438 \nL 254.343162 139.736438 \nL 254.343162 152.607872 \nL 255.974591 152.607872 \nL 255.974591 164.857994 \nL 257.606021 164.857994 \nL 257.606021 176.35534 \nL 259.237451 176.35534 \nL 259.237451 187.011037 \nL 260.868881 187.011037 \nL 260.868881 196.774625 \nL 262.500311 196.774625 \nL 262.500311 205.628475 \nL 264.131741 205.628475 \nL 264.131741 213.581576 \nL 265.763171 213.581576 \nL 265.763171 220.663339 \nL 267.394601 220.663339 \nL 267.394601 226.917903 \nL 269.02603 226.917903 \nL 269.02603 232.399226 \nL 270.65746 232.399226 \nL 270.65746 237.167077 \nL 272.28889 237.167077 \nL 272.28889 241.283928 \nL 273.92032 241.283928 \nL 273.92032 244.812633 \nL 275.55175 244.812633 \nL 275.55175 247.814776 \nL 277.18318 247.814776 \nL 277.18318 250.349532 \nL 278.81461 250.349532 \nL 278.81461 252.472905 \nL 280.44604 252.472905 \nL 280.44604 254.237249 \nL 282.077469 254.237249 \nL 282.077469 255.690967 \nL 283.708899 255.690967 \nL 283.708899 256.878352 \nL 285.340329 256.878352 \nL 285.340329 257.839517 \nL 286.971759 257.839517 \nL 286.971759 258.61041 \nL 288.603189 258.61041 \nL 288.603189 259.222887 \nL 290.234619 259.222887 \nL 290.234619 259.70485 \nL 291.866049 259.70485 \nL 291.866049 260.080438 \nL 293.497479 260.080438 \nL 293.497479 260.370274 \nL 295.128908 260.370274 \nL 295.128908 260.591747 \nL 296.760338 260.591747 \nL 296.760338 260.759323 \nL 298.391768 260.759323 \nL 298.391768 260.884879 \nL 301.654628 260.978039 \nL 301.654628 261.046494 \nL 306.548918 261.132229 \nL 306.548918 261.157875 \nL 370.990398 261.216 \nL 370.990398 261.216 \n\" clip-path=\"url(#p2ea5b86d95)\" style=\"fill: none; stroke: #d62728; stroke-width: 1.5; stroke-linecap: square\"/>\n   </g>\n   <g id=\"line2d_35\">\n    <path d=\"M 46.335852 261.215098 \nL 164.614518 261.119328 \nL 164.614518 261.079056 \nL 167.877378 261.023611 \nL 167.877378 260.947983 \nL 171.140238 260.845784 \nL 171.140238 260.708966 \nL 172.771668 260.708966 \nL 172.771668 260.527526 \nL 174.403098 260.527526 \nL 174.403098 260.289179 \nL 176.034527 260.289179 \nL 176.034527 259.979039 \nL 177.665957 259.979039 \nL 177.665957 259.579297 \nL 179.297387 259.579297 \nL 179.297387 259.068924 \nL 180.928817 259.068924 \nL 180.928817 258.4234 \nL 182.560247 258.4234 \nL 182.560247 257.614492 \nL 184.191677 257.614492 \nL 184.191677 256.61008 \nL 185.823107 256.61008 \nL 185.823107 255.374039 \nL 187.454537 255.374039 \nL 187.454537 253.866191 \nL 189.085966 253.866191 \nL 189.085966 252.042316 \nL 190.717396 252.042316 \nL 190.717396 249.854247 \nL 192.348826 249.854247 \nL 192.348826 247.25005 \nL 193.980256 247.25005 \nL 193.980256 244.174342 \nL 195.611686 244.174342 \nL 195.611686 240.568774 \nL 197.243116 240.568774 \nL 197.243116 236.37278 \nL 198.874546 236.37278 \nL 198.874546 231.524679 \nL 200.505976 231.524679 \nL 200.505976 225.963269 \nL 202.137405 225.963269 \nL 202.137405 219.630044 \nL 203.768835 219.630044 \nL 203.768835 212.472203 \nL 205.400265 212.472203 \nL 205.400265 204.446537 \nL 207.031695 204.446537 \nL 207.031695 195.524267 \nL 208.663125 195.524267 \nL 208.663125 185.69674 \nL 210.294555 185.69674 \nL 210.294555 174.981749 \nL 211.925985 174.981749 \nL 211.925985 163.43003 \nL 213.557415 163.43003 \nL 213.557415 151.131249 \nL 215.188845 151.131249 \nL 215.188845 138.218671 \nL 216.820274 138.218671 \nL 216.820274 124.871587 \nL 218.451704 124.871587 \nL 218.451704 111.314722 \nL 220.083134 111.314722 \nL 220.083134 97.814071 \nL 221.714564 97.814071 \nL 221.714564 84.669044 \nL 223.345994 84.669044 \nL 223.345994 72.201254 \nL 224.977424 72.201254 \nL 224.977424 60.740713 \nL 226.608854 60.740713 \nL 226.608854 50.610513 \nL 228.240284 50.610513 \nL 228.240284 42.111197 \nL 229.871713 42.111197 \nL 229.871713 35.505991 \nL 231.503143 35.505991 \nL 231.503143 31.007844 \nL 233.134573 31.007844 \nL 233.134573 28.768789 \nL 236.397433 28.870839 \nL 236.397433 31.313971 \nL 238.028863 31.313971 \nL 238.028863 36.013784 \nL 239.660293 36.013784 \nL 239.660293 42.813971 \nL 241.291723 42.813971 \nL 241.291723 51.497317 \nL 242.923152 51.497317 \nL 242.923152 61.796991 \nL 244.554582 61.796991 \nL 244.554582 73.409513 \nL 246.186012 73.409513 \nL 246.186012 86.009326 \nL 247.817442 86.009326 \nL 247.817442 99.264259 \nL 249.448872 99.264259 \nL 249.448872 112.850844 \nL 251.080302 112.850844 \nL 251.080302 126.468254 \nL 252.711732 126.468254 \nL 252.711732 139.849736 \nL 254.343162 139.849736 \nL 254.343162 152.770676 \nL 255.974591 152.770676 \nL 255.974591 165.052894 \nL 257.606021 165.052894 \nL 257.606021 176.565238 \nL 259.237451 176.565238 \nL 259.237451 187.221008 \nL 260.868881 187.221008 \nL 260.868881 196.973041 \nL 262.500311 196.973041 \nL 262.500311 205.807406 \nL 264.131741 205.807406 \nL 264.131741 213.736608 \nL 265.763171 213.736608 \nL 265.763171 220.79301 \nL 267.394601 220.79301 \nL 267.394601 227.022967 \nL 269.02603 227.022967 \nL 269.02603 232.481898 \nL 270.65746 232.481898 \nL 270.65746 237.230374 \nL 272.28889 237.230374 \nL 272.28889 241.331147 \nL 273.92032 241.331147 \nL 273.92032 244.846988 \nL 275.55175 244.846988 \nL 275.55175 247.839171 \nL 277.18318 247.839171 \nL 277.18318 250.366445 \nL 278.81461 250.366445 \nL 278.81461 252.484358 \nL 280.44604 252.484358 \nL 280.44604 254.244824 \nL 282.077469 254.244824 \nL 282.077469 255.695861 \nL 283.708899 255.695861 \nL 283.708899 256.881439 \nL 285.340329 256.881439 \nL 285.340329 257.841419 \nL 286.971759 257.841419 \nL 286.971759 258.611555 \nL 288.603189 258.611555 \nL 288.603189 259.22356 \nL 290.234619 259.22356 \nL 290.234619 259.705235 \nL 291.866049 259.705235 \nL 291.866049 260.080654 \nL 293.497479 260.080654 \nL 293.497479 260.370392 \nL 295.128908 260.370392 \nL 295.128908 260.59181 \nL 296.760338 260.59181 \nL 296.760338 260.759355 \nL 298.391768 260.759355 \nL 298.391768 260.884896 \nL 301.654628 260.978047 \nL 301.654628 261.046498 \nL 306.548918 261.13223 \nL 306.548918 261.157875 \nL 370.990398 261.216 \nL 370.990398 261.216 \n\" clip-path=\"url(#p2ea5b86d95)\" style=\"fill: none; stroke: #9467bd; stroke-width: 1.5; stroke-linecap: square\"/>\n   </g>\n   <g id=\"patch_3\">\n    <path d=\"M 30.103125 273.312 \nL 30.103125 7.2 \n\" style=\"fill: none; stroke: #000000; stroke-width: 0.8; stroke-linejoin: miter; stroke-linecap: square\"/>\n   </g>\n   <g id=\"patch_4\">\n    <path d=\"M 387.223125 273.312 \nL 387.223125 7.2 \n\" style=\"fill: none; stroke: #000000; stroke-width: 0.8; stroke-linejoin: miter; stroke-linecap: square\"/>\n   </g>\n   <g id=\"patch_5\">\n    <path d=\"M 30.103125 273.312 \nL 387.223125 273.312 \n\" style=\"fill: none; stroke: #000000; stroke-width: 0.8; stroke-linejoin: miter; stroke-linecap: square\"/>\n   </g>\n   <g id=\"patch_6\">\n    <path d=\"M 30.103125 7.2 \nL 387.223125 7.2 \n\" style=\"fill: none; stroke: #000000; stroke-width: 0.8; stroke-linejoin: miter; stroke-linecap: square\"/>\n   </g>\n   <g id=\"legend_1\">\n    <g id=\"patch_7\">\n     <path d=\"M 259.3825 88.86875 \nL 380.223125 88.86875 \nQ 382.223125 88.86875 382.223125 86.86875 \nL 382.223125 14.2 \nQ 382.223125 12.2 380.223125 12.2 \nL 259.3825 12.2 \nQ 257.3825 12.2 257.3825 14.2 \nL 257.3825 86.86875 \nQ 257.3825 88.86875 259.3825 88.86875 \nz\n\" style=\"fill: #ffffff; opacity: 0.8; stroke: #cccccc; stroke-linejoin: miter\"/>\n    </g>\n    <g id=\"line2d_36\">\n     <path d=\"M 261.3825 20.298437 \nL 266.3825 20.298437 \nL 266.3825 20.298437 \nL 276.3825 20.298437 \nL 276.3825 20.298437 \nL 281.3825 20.298437 \n\" style=\"fill: none; stroke: #1f77b4; stroke-width: 1.5; stroke-linecap: square\"/>\n    </g>\n    <g id=\"text_16\">\n     <!-- initial -->\n     <g transform=\"translate(289.3825 23.798437) scale(0.1 -0.1)\">\n      <defs>\n       <path id=\"DejaVuSans-69\" d=\"M 603 3500 \nL 1178 3500 \nL 1178 0 \nL 603 0 \nL 603 3500 \nz\nM 603 4863 \nL 1178 4863 \nL 1178 4134 \nL 603 4134 \nL 603 4863 \nz\n\" transform=\"scale(0.015625)\"/>\n       <path id=\"DejaVuSans-6e\" d=\"M 3513 2113 \nL 3513 0 \nL 2938 0 \nL 2938 2094 \nQ 2938 2591 2744 2837 \nQ 2550 3084 2163 3084 \nQ 1697 3084 1428 2787 \nQ 1159 2491 1159 1978 \nL 1159 0 \nL 581 0 \nL 581 3500 \nL 1159 3500 \nL 1159 2956 \nQ 1366 3272 1645 3428 \nQ 1925 3584 2291 3584 \nQ 2894 3584 3203 3211 \nQ 3513 2838 3513 2113 \nz\n\" transform=\"scale(0.015625)\"/>\n       <path id=\"DejaVuSans-74\" d=\"M 1172 4494 \nL 1172 3500 \nL 2356 3500 \nL 2356 3053 \nL 1172 3053 \nL 1172 1153 \nQ 1172 725 1289 603 \nQ 1406 481 1766 481 \nL 2356 481 \nL 2356 0 \nL 1766 0 \nQ 1100 0 847 248 \nQ 594 497 594 1153 \nL 594 3053 \nL 172 3053 \nL 172 3500 \nL 594 3500 \nL 594 4494 \nL 1172 4494 \nz\n\" transform=\"scale(0.015625)\"/>\n       <path id=\"DejaVuSans-61\" d=\"M 2194 1759 \nQ 1497 1759 1228 1600 \nQ 959 1441 959 1056 \nQ 959 750 1161 570 \nQ 1363 391 1709 391 \nQ 2188 391 2477 730 \nQ 2766 1069 2766 1631 \nL 2766 1759 \nL 2194 1759 \nz\nM 3341 1997 \nL 3341 0 \nL 2766 0 \nL 2766 531 \nQ 2569 213 2275 61 \nQ 1981 -91 1556 -91 \nQ 1019 -91 701 211 \nQ 384 513 384 1019 \nQ 384 1609 779 1909 \nQ 1175 2209 1959 2209 \nL 2766 2209 \nL 2766 2266 \nQ 2766 2663 2505 2880 \nQ 2244 3097 1772 3097 \nQ 1472 3097 1187 3025 \nQ 903 2953 641 2809 \nL 641 3341 \nQ 956 3463 1253 3523 \nQ 1550 3584 1831 3584 \nQ 2591 3584 2966 3190 \nQ 3341 2797 3341 1997 \nz\n\" transform=\"scale(0.015625)\"/>\n       <path id=\"DejaVuSans-6c\" d=\"M 603 4863 \nL 1178 4863 \nL 1178 0 \nL 603 0 \nL 603 4863 \nz\n\" transform=\"scale(0.015625)\"/>\n      </defs>\n      <use xlink:href=\"#DejaVuSans-69\"/>\n      <use xlink:href=\"#DejaVuSans-6e\" transform=\"translate(27.783203 0)\"/>\n      <use xlink:href=\"#DejaVuSans-69\" transform=\"translate(91.162109 0)\"/>\n      <use xlink:href=\"#DejaVuSans-74\" transform=\"translate(118.945312 0)\"/>\n      <use xlink:href=\"#DejaVuSans-69\" transform=\"translate(158.154297 0)\"/>\n      <use xlink:href=\"#DejaVuSans-61\" transform=\"translate(185.9375 0)\"/>\n      <use xlink:href=\"#DejaVuSans-6c\" transform=\"translate(247.216797 0)\"/>\n     </g>\n    </g>\n    <g id=\"line2d_37\">\n     <path d=\"M 261.3825 34.976562 \nL 266.3825 34.976562 \nL 266.3825 34.976562 \nL 276.3825 34.976562 \nL 276.3825 34.976562 \nL 281.3825 34.976562 \n\" style=\"fill: none; stroke: #ff7f0e; stroke-width: 1.5; stroke-linecap: square\"/>\n    </g>\n    <g id=\"text_17\">\n     <!-- analytic -->\n     <g transform=\"translate(289.3825 38.476562) scale(0.1 -0.1)\">\n      <defs>\n       <path id=\"DejaVuSans-79\" d=\"M 2059 -325 \nQ 1816 -950 1584 -1140 \nQ 1353 -1331 966 -1331 \nL 506 -1331 \nL 506 -850 \nL 844 -850 \nQ 1081 -850 1212 -737 \nQ 1344 -625 1503 -206 \nL 1606 56 \nL 191 3500 \nL 800 3500 \nL 1894 763 \nL 2988 3500 \nL 3597 3500 \nL 2059 -325 \nz\n\" transform=\"scale(0.015625)\"/>\n       <path id=\"DejaVuSans-63\" d=\"M 3122 3366 \nL 3122 2828 \nQ 2878 2963 2633 3030 \nQ 2388 3097 2138 3097 \nQ 1578 3097 1268 2742 \nQ 959 2388 959 1747 \nQ 959 1106 1268 751 \nQ 1578 397 2138 397 \nQ 2388 397 2633 464 \nQ 2878 531 3122 666 \nL 3122 134 \nQ 2881 22 2623 -34 \nQ 2366 -91 2075 -91 \nQ 1284 -91 818 406 \nQ 353 903 353 1747 \nQ 353 2603 823 3093 \nQ 1294 3584 2113 3584 \nQ 2378 3584 2631 3529 \nQ 2884 3475 3122 3366 \nz\n\" transform=\"scale(0.015625)\"/>\n      </defs>\n      <use xlink:href=\"#DejaVuSans-61\"/>\n      <use xlink:href=\"#DejaVuSans-6e\" transform=\"translate(61.279297 0)\"/>\n      <use xlink:href=\"#DejaVuSans-61\" transform=\"translate(124.658203 0)\"/>\n      <use xlink:href=\"#DejaVuSans-6c\" transform=\"translate(185.9375 0)\"/>\n      <use xlink:href=\"#DejaVuSans-79\" transform=\"translate(213.720703 0)\"/>\n      <use xlink:href=\"#DejaVuSans-74\" transform=\"translate(272.900391 0)\"/>\n      <use xlink:href=\"#DejaVuSans-69\" transform=\"translate(312.109375 0)\"/>\n      <use xlink:href=\"#DejaVuSans-63\" transform=\"translate(339.892578 0)\"/>\n     </g>\n    </g>\n    <g id=\"line2d_38\">\n     <path d=\"M 261.3825 49.654687 \nL 266.3825 49.654687 \nL 266.3825 49.654687 \nL 276.3825 49.654687 \nL 276.3825 49.654687 \nL 281.3825 49.654687 \n\" style=\"fill: none; stroke: #2ca02c; stroke-width: 1.5; stroke-linecap: square\"/>\n    </g>\n    <g id=\"text_18\">\n     <!-- upwind -->\n     <g transform=\"translate(289.3825 53.154687) scale(0.1 -0.1)\">\n      <defs>\n       <path id=\"DejaVuSans-75\" d=\"M 544 1381 \nL 544 3500 \nL 1119 3500 \nL 1119 1403 \nQ 1119 906 1312 657 \nQ 1506 409 1894 409 \nQ 2359 409 2629 706 \nQ 2900 1003 2900 1516 \nL 2900 3500 \nL 3475 3500 \nL 3475 0 \nL 2900 0 \nL 2900 538 \nQ 2691 219 2414 64 \nQ 2138 -91 1772 -91 \nQ 1169 -91 856 284 \nQ 544 659 544 1381 \nz\nM 1991 3584 \nL 1991 3584 \nz\n\" transform=\"scale(0.015625)\"/>\n       <path id=\"DejaVuSans-70\" d=\"M 1159 525 \nL 1159 -1331 \nL 581 -1331 \nL 581 3500 \nL 1159 3500 \nL 1159 2969 \nQ 1341 3281 1617 3432 \nQ 1894 3584 2278 3584 \nQ 2916 3584 3314 3078 \nQ 3713 2572 3713 1747 \nQ 3713 922 3314 415 \nQ 2916 -91 2278 -91 \nQ 1894 -91 1617 61 \nQ 1341 213 1159 525 \nz\nM 3116 1747 \nQ 3116 2381 2855 2742 \nQ 2594 3103 2138 3103 \nQ 1681 3103 1420 2742 \nQ 1159 2381 1159 1747 \nQ 1159 1113 1420 752 \nQ 1681 391 2138 391 \nQ 2594 391 2855 752 \nQ 3116 1113 3116 1747 \nz\n\" transform=\"scale(0.015625)\"/>\n       <path id=\"DejaVuSans-77\" d=\"M 269 3500 \nL 844 3500 \nL 1563 769 \nL 2278 3500 \nL 2956 3500 \nL 3675 769 \nL 4391 3500 \nL 4966 3500 \nL 4050 0 \nL 3372 0 \nL 2619 2869 \nL 1863 0 \nL 1184 0 \nL 269 3500 \nz\n\" transform=\"scale(0.015625)\"/>\n       <path id=\"DejaVuSans-64\" d=\"M 2906 2969 \nL 2906 4863 \nL 3481 4863 \nL 3481 0 \nL 2906 0 \nL 2906 525 \nQ 2725 213 2448 61 \nQ 2172 -91 1784 -91 \nQ 1150 -91 751 415 \nQ 353 922 353 1747 \nQ 353 2572 751 3078 \nQ 1150 3584 1784 3584 \nQ 2172 3584 2448 3432 \nQ 2725 3281 2906 2969 \nz\nM 947 1747 \nQ 947 1113 1208 752 \nQ 1469 391 1925 391 \nQ 2381 391 2643 752 \nQ 2906 1113 2906 1747 \nQ 2906 2381 2643 2742 \nQ 2381 3103 1925 3103 \nQ 1469 3103 1208 2742 \nQ 947 2381 947 1747 \nz\n\" transform=\"scale(0.015625)\"/>\n      </defs>\n      <use xlink:href=\"#DejaVuSans-75\"/>\n      <use xlink:href=\"#DejaVuSans-70\" transform=\"translate(63.378906 0)\"/>\n      <use xlink:href=\"#DejaVuSans-77\" transform=\"translate(126.855469 0)\"/>\n      <use xlink:href=\"#DejaVuSans-69\" transform=\"translate(208.642578 0)\"/>\n      <use xlink:href=\"#DejaVuSans-6e\" transform=\"translate(236.425781 0)\"/>\n      <use xlink:href=\"#DejaVuSans-64\" transform=\"translate(299.804688 0)\"/>\n     </g>\n    </g>\n    <g id=\"line2d_39\">\n     <path d=\"M 261.3825 64.332812 \nL 266.3825 64.332812 \nL 266.3825 64.332812 \nL 276.3825 64.332812 \nL 276.3825 64.332812 \nL 281.3825 64.332812 \n\" style=\"fill: none; stroke: #d62728; stroke-width: 1.5; stroke-linecap: square\"/>\n    </g>\n    <g id=\"text_19\">\n     <!-- mpdata -->\n     <g transform=\"translate(289.3825 67.832812) scale(0.1 -0.1)\">\n      <defs>\n       <path id=\"DejaVuSans-6d\" d=\"M 3328 2828 \nQ 3544 3216 3844 3400 \nQ 4144 3584 4550 3584 \nQ 5097 3584 5394 3201 \nQ 5691 2819 5691 2113 \nL 5691 0 \nL 5113 0 \nL 5113 2094 \nQ 5113 2597 4934 2840 \nQ 4756 3084 4391 3084 \nQ 3944 3084 3684 2787 \nQ 3425 2491 3425 1978 \nL 3425 0 \nL 2847 0 \nL 2847 2094 \nQ 2847 2600 2669 2842 \nQ 2491 3084 2119 3084 \nQ 1678 3084 1418 2786 \nQ 1159 2488 1159 1978 \nL 1159 0 \nL 581 0 \nL 581 3500 \nL 1159 3500 \nL 1159 2956 \nQ 1356 3278 1631 3431 \nQ 1906 3584 2284 3584 \nQ 2666 3584 2933 3390 \nQ 3200 3197 3328 2828 \nz\n\" transform=\"scale(0.015625)\"/>\n      </defs>\n      <use xlink:href=\"#DejaVuSans-6d\"/>\n      <use xlink:href=\"#DejaVuSans-70\" transform=\"translate(97.412109 0)\"/>\n      <use xlink:href=\"#DejaVuSans-64\" transform=\"translate(160.888672 0)\"/>\n      <use xlink:href=\"#DejaVuSans-61\" transform=\"translate(224.365234 0)\"/>\n      <use xlink:href=\"#DejaVuSans-74\" transform=\"translate(285.644531 0)\"/>\n      <use xlink:href=\"#DejaVuSans-61\" transform=\"translate(324.853516 0)\"/>\n     </g>\n    </g>\n    <g id=\"line2d_40\">\n     <path d=\"M 261.3825 79.010937 \nL 266.3825 79.010937 \nL 266.3825 79.010937 \nL 276.3825 79.010937 \nL 276.3825 79.010937 \nL 281.3825 79.010937 \n\" style=\"fill: none; stroke: #9467bd; stroke-width: 1.5; stroke-linecap: square\"/>\n    </g>\n    <g id=\"text_20\">\n     <!-- corrected_upwind -->\n     <g transform=\"translate(289.3825 82.510937) scale(0.1 -0.1)\">\n      <defs>\n       <path id=\"DejaVuSans-6f\" d=\"M 1959 3097 \nQ 1497 3097 1228 2736 \nQ 959 2375 959 1747 \nQ 959 1119 1226 758 \nQ 1494 397 1959 397 \nQ 2419 397 2687 759 \nQ 2956 1122 2956 1747 \nQ 2956 2369 2687 2733 \nQ 2419 3097 1959 3097 \nz\nM 1959 3584 \nQ 2709 3584 3137 3096 \nQ 3566 2609 3566 1747 \nQ 3566 888 3137 398 \nQ 2709 -91 1959 -91 \nQ 1206 -91 779 398 \nQ 353 888 353 1747 \nQ 353 2609 779 3096 \nQ 1206 3584 1959 3584 \nz\n\" transform=\"scale(0.015625)\"/>\n       <path id=\"DejaVuSans-72\" d=\"M 2631 2963 \nQ 2534 3019 2420 3045 \nQ 2306 3072 2169 3072 \nQ 1681 3072 1420 2755 \nQ 1159 2438 1159 1844 \nL 1159 0 \nL 581 0 \nL 581 3500 \nL 1159 3500 \nL 1159 2956 \nQ 1341 3275 1631 3429 \nQ 1922 3584 2338 3584 \nQ 2397 3584 2469 3576 \nQ 2541 3569 2628 3553 \nL 2631 2963 \nz\n\" transform=\"scale(0.015625)\"/>\n       <path id=\"DejaVuSans-65\" d=\"M 3597 1894 \nL 3597 1613 \nL 953 1613 \nQ 991 1019 1311 708 \nQ 1631 397 2203 397 \nQ 2534 397 2845 478 \nQ 3156 559 3463 722 \nL 3463 178 \nQ 3153 47 2828 -22 \nQ 2503 -91 2169 -91 \nQ 1331 -91 842 396 \nQ 353 884 353 1716 \nQ 353 2575 817 3079 \nQ 1281 3584 2069 3584 \nQ 2775 3584 3186 3129 \nQ 3597 2675 3597 1894 \nz\nM 3022 2063 \nQ 3016 2534 2758 2815 \nQ 2500 3097 2075 3097 \nQ 1594 3097 1305 2825 \nQ 1016 2553 972 2059 \nL 3022 2063 \nz\n\" transform=\"scale(0.015625)\"/>\n       <path id=\"DejaVuSans-5f\" d=\"M 3263 -1063 \nL 3263 -1509 \nL -63 -1509 \nL -63 -1063 \nL 3263 -1063 \nz\n\" transform=\"scale(0.015625)\"/>\n      </defs>\n      <use xlink:href=\"#DejaVuSans-63\"/>\n      <use xlink:href=\"#DejaVuSans-6f\" transform=\"translate(54.980469 0)\"/>\n      <use xlink:href=\"#DejaVuSans-72\" transform=\"translate(116.162109 0)\"/>\n      <use xlink:href=\"#DejaVuSans-72\" transform=\"translate(155.525391 0)\"/>\n      <use xlink:href=\"#DejaVuSans-65\" transform=\"translate(194.388672 0)\"/>\n      <use xlink:href=\"#DejaVuSans-63\" transform=\"translate(255.912109 0)\"/>\n      <use xlink:href=\"#DejaVuSans-74\" transform=\"translate(310.892578 0)\"/>\n      <use xlink:href=\"#DejaVuSans-65\" transform=\"translate(350.101562 0)\"/>\n      <use xlink:href=\"#DejaVuSans-64\" transform=\"translate(411.625 0)\"/>\n      <use xlink:href=\"#DejaVuSans-5f\" transform=\"translate(475.101562 0)\"/>\n      <use xlink:href=\"#DejaVuSans-75\" transform=\"translate(525.101562 0)\"/>\n      <use xlink:href=\"#DejaVuSans-70\" transform=\"translate(588.480469 0)\"/>\n      <use xlink:href=\"#DejaVuSans-77\" transform=\"translate(651.957031 0)\"/>\n      <use xlink:href=\"#DejaVuSans-69\" transform=\"translate(733.744141 0)\"/>\n      <use xlink:href=\"#DejaVuSans-6e\" transform=\"translate(761.527344 0)\"/>\n      <use xlink:href=\"#DejaVuSans-64\" transform=\"translate(824.90625 0)\"/>\n     </g>\n    </g>\n   </g>\n  </g>\n </g>\n <defs>\n  <clipPath id=\"p2ea5b86d95\">\n   <rect x=\"30.103125\" y=\"7.2\" width=\"357.12\" height=\"266.112\"/>\n  </clipPath>\n </defs>\n</svg>\n"
          },
          "metadata": {}
        },
        {
          "output_type": "display_data",
          "data": {
            "text/plain": [
              "HBox(children=(Button(description='tmpzwqxy9ls.pdf', style=ButtonStyle()), Button(description='tmpo0i3gxem.svg…"
            ],
            "application/vnd.jupyter.widget-view+json": {
              "version_major": 2,
              "version_minor": 0,
              "model_id": "a9b2b822e0d6459ba12745a6e42a57e1"
            }
          },
          "metadata": {}
        }
      ]
    },
    {
      "cell_type": "markdown",
      "source": [
        "## Results\n",
        "First and foremost, we can clearly see, that the `corrected_upwind` performs way better than the standard one, although still has some space for improvement.\n",
        "\n",
        "After 100 iterations, it is not clearly visible, but the `corrected_upwind` algorithm seems to be more or less as precise, as `mpdata`.\n",
        "\n",
        "Of course, we can't expect `corrected_upwind` to perform as good as an initial result, but with a relatively simple fix, the proposed algorithm comes with a substential improvement of the result."
      ],
      "metadata": {
        "id": "yFyZwytbmDkO"
      },
      "id": "yFyZwytbmDkO"
    },
    {
      "cell_type": "code",
      "source": [
        "print('Done')"
      ],
      "metadata": {
        "colab": {
          "base_uri": "https://localhost:8080/"
        },
        "id": "8ZCvvM1pnW5S",
        "outputId": "4780d5b1-1f6c-4c01-e4fa-c7c5163b17d6"
      },
      "id": "8ZCvvM1pnW5S",
      "execution_count": 45,
      "outputs": [
        {
          "output_type": "stream",
          "name": "stdout",
          "text": [
            "Done\n"
          ]
        }
      ]
    }
  ],
  "metadata": {
    "kernelspec": {
      "display_name": "Python 3 (ipykernel)",
      "language": "python",
      "name": "python3"
    },
    "language_info": {
      "codemirror_mode": {
        "name": "ipython",
        "version": 3
      },
      "file_extension": ".py",
      "mimetype": "text/x-python",
      "name": "python",
      "nbconvert_exporter": "python",
      "pygments_lexer": "ipython3",
      "version": "3.9.2"
    },
    "colab": {
      "provenance": []
    },
    "widgets": {
      "application/vnd.jupyter.widget-state+json": {
        "9734a3ee66524a9282576c9b3ba23496": {
          "model_module": "@jupyter-widgets/controls",
          "model_name": "HBoxModel",
          "model_module_version": "1.5.0",
          "state": {
            "_dom_classes": [],
            "_model_module": "@jupyter-widgets/controls",
            "_model_module_version": "1.5.0",
            "_model_name": "HBoxModel",
            "_view_count": null,
            "_view_module": "@jupyter-widgets/controls",
            "_view_module_version": "1.5.0",
            "_view_name": "HBoxView",
            "box_style": "",
            "children": [
              "IPY_MODEL_fcaec94ed3c74dfe9f104f0eb57207a7",
              "IPY_MODEL_e053e755e53141b1a0e8e8f2a3470a02"
            ],
            "layout": "IPY_MODEL_aeb2168fac394f0f9e591c38958b0d62"
          }
        },
        "fcaec94ed3c74dfe9f104f0eb57207a7": {
          "model_module": "@jupyter-widgets/controls",
          "model_name": "ButtonModel",
          "model_module_version": "1.5.0",
          "state": {
            "_dom_classes": [],
            "_model_module": "@jupyter-widgets/controls",
            "_model_module_version": "1.5.0",
            "_model_name": "ButtonModel",
            "_view_count": null,
            "_view_module": "@jupyter-widgets/controls",
            "_view_module_version": "1.5.0",
            "_view_name": "ButtonView",
            "button_style": "",
            "description": "tmptc9olkom.pdf",
            "disabled": false,
            "icon": "",
            "layout": "IPY_MODEL_590672b1b098451398c271d63bdf726f",
            "style": "IPY_MODEL_dd91854121464977b3a4c73f129ffad6",
            "tooltip": ""
          }
        },
        "e053e755e53141b1a0e8e8f2a3470a02": {
          "model_module": "@jupyter-widgets/controls",
          "model_name": "ButtonModel",
          "model_module_version": "1.5.0",
          "state": {
            "_dom_classes": [],
            "_model_module": "@jupyter-widgets/controls",
            "_model_module_version": "1.5.0",
            "_model_name": "ButtonModel",
            "_view_count": null,
            "_view_module": "@jupyter-widgets/controls",
            "_view_module_version": "1.5.0",
            "_view_name": "ButtonView",
            "button_style": "",
            "description": "tmpzzgla_3u.svg",
            "disabled": false,
            "icon": "",
            "layout": "IPY_MODEL_7138ccaf6d294c6184c4fea8955d9749",
            "style": "IPY_MODEL_0449eab8f6c246b4b3a3c4bab4227891",
            "tooltip": ""
          }
        },
        "aeb2168fac394f0f9e591c38958b0d62": {
          "model_module": "@jupyter-widgets/base",
          "model_name": "LayoutModel",
          "model_module_version": "1.2.0",
          "state": {
            "_model_module": "@jupyter-widgets/base",
            "_model_module_version": "1.2.0",
            "_model_name": "LayoutModel",
            "_view_count": null,
            "_view_module": "@jupyter-widgets/base",
            "_view_module_version": "1.2.0",
            "_view_name": "LayoutView",
            "align_content": null,
            "align_items": null,
            "align_self": null,
            "border": null,
            "bottom": null,
            "display": null,
            "flex": null,
            "flex_flow": null,
            "grid_area": null,
            "grid_auto_columns": null,
            "grid_auto_flow": null,
            "grid_auto_rows": null,
            "grid_column": null,
            "grid_gap": null,
            "grid_row": null,
            "grid_template_areas": null,
            "grid_template_columns": null,
            "grid_template_rows": null,
            "height": null,
            "justify_content": null,
            "justify_items": null,
            "left": null,
            "margin": null,
            "max_height": null,
            "max_width": null,
            "min_height": null,
            "min_width": null,
            "object_fit": null,
            "object_position": null,
            "order": null,
            "overflow": null,
            "overflow_x": null,
            "overflow_y": null,
            "padding": null,
            "right": null,
            "top": null,
            "visibility": null,
            "width": null
          }
        },
        "590672b1b098451398c271d63bdf726f": {
          "model_module": "@jupyter-widgets/base",
          "model_name": "LayoutModel",
          "model_module_version": "1.2.0",
          "state": {
            "_model_module": "@jupyter-widgets/base",
            "_model_module_version": "1.2.0",
            "_model_name": "LayoutModel",
            "_view_count": null,
            "_view_module": "@jupyter-widgets/base",
            "_view_module_version": "1.2.0",
            "_view_name": "LayoutView",
            "align_content": null,
            "align_items": null,
            "align_self": null,
            "border": null,
            "bottom": null,
            "display": null,
            "flex": null,
            "flex_flow": null,
            "grid_area": null,
            "grid_auto_columns": null,
            "grid_auto_flow": null,
            "grid_auto_rows": null,
            "grid_column": null,
            "grid_gap": null,
            "grid_row": null,
            "grid_template_areas": null,
            "grid_template_columns": null,
            "grid_template_rows": null,
            "height": null,
            "justify_content": null,
            "justify_items": null,
            "left": null,
            "margin": null,
            "max_height": null,
            "max_width": null,
            "min_height": null,
            "min_width": null,
            "object_fit": null,
            "object_position": null,
            "order": null,
            "overflow": null,
            "overflow_x": null,
            "overflow_y": null,
            "padding": null,
            "right": null,
            "top": null,
            "visibility": null,
            "width": null
          }
        },
        "dd91854121464977b3a4c73f129ffad6": {
          "model_module": "@jupyter-widgets/controls",
          "model_name": "ButtonStyleModel",
          "model_module_version": "1.5.0",
          "state": {
            "_model_module": "@jupyter-widgets/controls",
            "_model_module_version": "1.5.0",
            "_model_name": "ButtonStyleModel",
            "_view_count": null,
            "_view_module": "@jupyter-widgets/base",
            "_view_module_version": "1.2.0",
            "_view_name": "StyleView",
            "button_color": null,
            "font_weight": ""
          }
        },
        "7138ccaf6d294c6184c4fea8955d9749": {
          "model_module": "@jupyter-widgets/base",
          "model_name": "LayoutModel",
          "model_module_version": "1.2.0",
          "state": {
            "_model_module": "@jupyter-widgets/base",
            "_model_module_version": "1.2.0",
            "_model_name": "LayoutModel",
            "_view_count": null,
            "_view_module": "@jupyter-widgets/base",
            "_view_module_version": "1.2.0",
            "_view_name": "LayoutView",
            "align_content": null,
            "align_items": null,
            "align_self": null,
            "border": null,
            "bottom": null,
            "display": null,
            "flex": null,
            "flex_flow": null,
            "grid_area": null,
            "grid_auto_columns": null,
            "grid_auto_flow": null,
            "grid_auto_rows": null,
            "grid_column": null,
            "grid_gap": null,
            "grid_row": null,
            "grid_template_areas": null,
            "grid_template_columns": null,
            "grid_template_rows": null,
            "height": null,
            "justify_content": null,
            "justify_items": null,
            "left": null,
            "margin": null,
            "max_height": null,
            "max_width": null,
            "min_height": null,
            "min_width": null,
            "object_fit": null,
            "object_position": null,
            "order": null,
            "overflow": null,
            "overflow_x": null,
            "overflow_y": null,
            "padding": null,
            "right": null,
            "top": null,
            "visibility": null,
            "width": null
          }
        },
        "0449eab8f6c246b4b3a3c4bab4227891": {
          "model_module": "@jupyter-widgets/controls",
          "model_name": "ButtonStyleModel",
          "model_module_version": "1.5.0",
          "state": {
            "_model_module": "@jupyter-widgets/controls",
            "_model_module_version": "1.5.0",
            "_model_name": "ButtonStyleModel",
            "_view_count": null,
            "_view_module": "@jupyter-widgets/base",
            "_view_module_version": "1.2.0",
            "_view_name": "StyleView",
            "button_color": null,
            "font_weight": ""
          }
        },
        "d022eef136014b7ab6ce9e6eaf9f45c5": {
          "model_module": "@jupyter-widgets/controls",
          "model_name": "HBoxModel",
          "model_module_version": "1.5.0",
          "state": {
            "_dom_classes": [],
            "_model_module": "@jupyter-widgets/controls",
            "_model_module_version": "1.5.0",
            "_model_name": "HBoxModel",
            "_view_count": null,
            "_view_module": "@jupyter-widgets/controls",
            "_view_module_version": "1.5.0",
            "_view_name": "HBoxView",
            "box_style": "",
            "children": [
              "IPY_MODEL_8f5e5b07084940c19990263573a62ae4",
              "IPY_MODEL_70facad610334fd68b1170f6c513b348"
            ],
            "layout": "IPY_MODEL_7e6b05932de843faa998ffa4b4676d68"
          }
        },
        "8f5e5b07084940c19990263573a62ae4": {
          "model_module": "@jupyter-widgets/controls",
          "model_name": "ButtonModel",
          "model_module_version": "1.5.0",
          "state": {
            "_dom_classes": [],
            "_model_module": "@jupyter-widgets/controls",
            "_model_module_version": "1.5.0",
            "_model_name": "ButtonModel",
            "_view_count": null,
            "_view_module": "@jupyter-widgets/controls",
            "_view_module_version": "1.5.0",
            "_view_name": "ButtonView",
            "button_style": "",
            "description": "tmpu0szj3hb.pdf",
            "disabled": false,
            "icon": "",
            "layout": "IPY_MODEL_6010ce6732374fc58dfe6c920b4026e5",
            "style": "IPY_MODEL_3040a4415e1746268c2a66cea0f7af4d",
            "tooltip": ""
          }
        },
        "70facad610334fd68b1170f6c513b348": {
          "model_module": "@jupyter-widgets/controls",
          "model_name": "ButtonModel",
          "model_module_version": "1.5.0",
          "state": {
            "_dom_classes": [],
            "_model_module": "@jupyter-widgets/controls",
            "_model_module_version": "1.5.0",
            "_model_name": "ButtonModel",
            "_view_count": null,
            "_view_module": "@jupyter-widgets/controls",
            "_view_module_version": "1.5.0",
            "_view_name": "ButtonView",
            "button_style": "",
            "description": "tmpv5gwe4tp.svg",
            "disabled": false,
            "icon": "",
            "layout": "IPY_MODEL_e0d0b81e177943149e753a56d7234572",
            "style": "IPY_MODEL_7eaac8592d394adcb8f6174ea9f57156",
            "tooltip": ""
          }
        },
        "7e6b05932de843faa998ffa4b4676d68": {
          "model_module": "@jupyter-widgets/base",
          "model_name": "LayoutModel",
          "model_module_version": "1.2.0",
          "state": {
            "_model_module": "@jupyter-widgets/base",
            "_model_module_version": "1.2.0",
            "_model_name": "LayoutModel",
            "_view_count": null,
            "_view_module": "@jupyter-widgets/base",
            "_view_module_version": "1.2.0",
            "_view_name": "LayoutView",
            "align_content": null,
            "align_items": null,
            "align_self": null,
            "border": null,
            "bottom": null,
            "display": null,
            "flex": null,
            "flex_flow": null,
            "grid_area": null,
            "grid_auto_columns": null,
            "grid_auto_flow": null,
            "grid_auto_rows": null,
            "grid_column": null,
            "grid_gap": null,
            "grid_row": null,
            "grid_template_areas": null,
            "grid_template_columns": null,
            "grid_template_rows": null,
            "height": null,
            "justify_content": null,
            "justify_items": null,
            "left": null,
            "margin": null,
            "max_height": null,
            "max_width": null,
            "min_height": null,
            "min_width": null,
            "object_fit": null,
            "object_position": null,
            "order": null,
            "overflow": null,
            "overflow_x": null,
            "overflow_y": null,
            "padding": null,
            "right": null,
            "top": null,
            "visibility": null,
            "width": null
          }
        },
        "6010ce6732374fc58dfe6c920b4026e5": {
          "model_module": "@jupyter-widgets/base",
          "model_name": "LayoutModel",
          "model_module_version": "1.2.0",
          "state": {
            "_model_module": "@jupyter-widgets/base",
            "_model_module_version": "1.2.0",
            "_model_name": "LayoutModel",
            "_view_count": null,
            "_view_module": "@jupyter-widgets/base",
            "_view_module_version": "1.2.0",
            "_view_name": "LayoutView",
            "align_content": null,
            "align_items": null,
            "align_self": null,
            "border": null,
            "bottom": null,
            "display": null,
            "flex": null,
            "flex_flow": null,
            "grid_area": null,
            "grid_auto_columns": null,
            "grid_auto_flow": null,
            "grid_auto_rows": null,
            "grid_column": null,
            "grid_gap": null,
            "grid_row": null,
            "grid_template_areas": null,
            "grid_template_columns": null,
            "grid_template_rows": null,
            "height": null,
            "justify_content": null,
            "justify_items": null,
            "left": null,
            "margin": null,
            "max_height": null,
            "max_width": null,
            "min_height": null,
            "min_width": null,
            "object_fit": null,
            "object_position": null,
            "order": null,
            "overflow": null,
            "overflow_x": null,
            "overflow_y": null,
            "padding": null,
            "right": null,
            "top": null,
            "visibility": null,
            "width": null
          }
        },
        "3040a4415e1746268c2a66cea0f7af4d": {
          "model_module": "@jupyter-widgets/controls",
          "model_name": "ButtonStyleModel",
          "model_module_version": "1.5.0",
          "state": {
            "_model_module": "@jupyter-widgets/controls",
            "_model_module_version": "1.5.0",
            "_model_name": "ButtonStyleModel",
            "_view_count": null,
            "_view_module": "@jupyter-widgets/base",
            "_view_module_version": "1.2.0",
            "_view_name": "StyleView",
            "button_color": null,
            "font_weight": ""
          }
        },
        "e0d0b81e177943149e753a56d7234572": {
          "model_module": "@jupyter-widgets/base",
          "model_name": "LayoutModel",
          "model_module_version": "1.2.0",
          "state": {
            "_model_module": "@jupyter-widgets/base",
            "_model_module_version": "1.2.0",
            "_model_name": "LayoutModel",
            "_view_count": null,
            "_view_module": "@jupyter-widgets/base",
            "_view_module_version": "1.2.0",
            "_view_name": "LayoutView",
            "align_content": null,
            "align_items": null,
            "align_self": null,
            "border": null,
            "bottom": null,
            "display": null,
            "flex": null,
            "flex_flow": null,
            "grid_area": null,
            "grid_auto_columns": null,
            "grid_auto_flow": null,
            "grid_auto_rows": null,
            "grid_column": null,
            "grid_gap": null,
            "grid_row": null,
            "grid_template_areas": null,
            "grid_template_columns": null,
            "grid_template_rows": null,
            "height": null,
            "justify_content": null,
            "justify_items": null,
            "left": null,
            "margin": null,
            "max_height": null,
            "max_width": null,
            "min_height": null,
            "min_width": null,
            "object_fit": null,
            "object_position": null,
            "order": null,
            "overflow": null,
            "overflow_x": null,
            "overflow_y": null,
            "padding": null,
            "right": null,
            "top": null,
            "visibility": null,
            "width": null
          }
        },
        "7eaac8592d394adcb8f6174ea9f57156": {
          "model_module": "@jupyter-widgets/controls",
          "model_name": "ButtonStyleModel",
          "model_module_version": "1.5.0",
          "state": {
            "_model_module": "@jupyter-widgets/controls",
            "_model_module_version": "1.5.0",
            "_model_name": "ButtonStyleModel",
            "_view_count": null,
            "_view_module": "@jupyter-widgets/base",
            "_view_module_version": "1.2.0",
            "_view_name": "StyleView",
            "button_color": null,
            "font_weight": ""
          }
        },
        "a9b2b822e0d6459ba12745a6e42a57e1": {
          "model_module": "@jupyter-widgets/controls",
          "model_name": "HBoxModel",
          "model_module_version": "1.5.0",
          "state": {
            "_dom_classes": [],
            "_model_module": "@jupyter-widgets/controls",
            "_model_module_version": "1.5.0",
            "_model_name": "HBoxModel",
            "_view_count": null,
            "_view_module": "@jupyter-widgets/controls",
            "_view_module_version": "1.5.0",
            "_view_name": "HBoxView",
            "box_style": "",
            "children": [
              "IPY_MODEL_14bbdfc45b1149d68d64b63af36d883c",
              "IPY_MODEL_eb22df9cf629475595ad67109639c3c4"
            ],
            "layout": "IPY_MODEL_51a9f46fd14648958089089c3d93eaa2"
          }
        },
        "14bbdfc45b1149d68d64b63af36d883c": {
          "model_module": "@jupyter-widgets/controls",
          "model_name": "ButtonModel",
          "model_module_version": "1.5.0",
          "state": {
            "_dom_classes": [],
            "_model_module": "@jupyter-widgets/controls",
            "_model_module_version": "1.5.0",
            "_model_name": "ButtonModel",
            "_view_count": null,
            "_view_module": "@jupyter-widgets/controls",
            "_view_module_version": "1.5.0",
            "_view_name": "ButtonView",
            "button_style": "",
            "description": "tmpzwqxy9ls.pdf",
            "disabled": false,
            "icon": "",
            "layout": "IPY_MODEL_ae94ea920c914f3ebe9e48eafab318fd",
            "style": "IPY_MODEL_e46c2085e10b49ff9a05c00723c00877",
            "tooltip": ""
          }
        },
        "eb22df9cf629475595ad67109639c3c4": {
          "model_module": "@jupyter-widgets/controls",
          "model_name": "ButtonModel",
          "model_module_version": "1.5.0",
          "state": {
            "_dom_classes": [],
            "_model_module": "@jupyter-widgets/controls",
            "_model_module_version": "1.5.0",
            "_model_name": "ButtonModel",
            "_view_count": null,
            "_view_module": "@jupyter-widgets/controls",
            "_view_module_version": "1.5.0",
            "_view_name": "ButtonView",
            "button_style": "",
            "description": "tmpo0i3gxem.svg",
            "disabled": false,
            "icon": "",
            "layout": "IPY_MODEL_7eba9560a7fd46229528a86e9f661a3f",
            "style": "IPY_MODEL_e71af0db433541bdba70ca83941e7954",
            "tooltip": ""
          }
        },
        "51a9f46fd14648958089089c3d93eaa2": {
          "model_module": "@jupyter-widgets/base",
          "model_name": "LayoutModel",
          "model_module_version": "1.2.0",
          "state": {
            "_model_module": "@jupyter-widgets/base",
            "_model_module_version": "1.2.0",
            "_model_name": "LayoutModel",
            "_view_count": null,
            "_view_module": "@jupyter-widgets/base",
            "_view_module_version": "1.2.0",
            "_view_name": "LayoutView",
            "align_content": null,
            "align_items": null,
            "align_self": null,
            "border": null,
            "bottom": null,
            "display": null,
            "flex": null,
            "flex_flow": null,
            "grid_area": null,
            "grid_auto_columns": null,
            "grid_auto_flow": null,
            "grid_auto_rows": null,
            "grid_column": null,
            "grid_gap": null,
            "grid_row": null,
            "grid_template_areas": null,
            "grid_template_columns": null,
            "grid_template_rows": null,
            "height": null,
            "justify_content": null,
            "justify_items": null,
            "left": null,
            "margin": null,
            "max_height": null,
            "max_width": null,
            "min_height": null,
            "min_width": null,
            "object_fit": null,
            "object_position": null,
            "order": null,
            "overflow": null,
            "overflow_x": null,
            "overflow_y": null,
            "padding": null,
            "right": null,
            "top": null,
            "visibility": null,
            "width": null
          }
        },
        "ae94ea920c914f3ebe9e48eafab318fd": {
          "model_module": "@jupyter-widgets/base",
          "model_name": "LayoutModel",
          "model_module_version": "1.2.0",
          "state": {
            "_model_module": "@jupyter-widgets/base",
            "_model_module_version": "1.2.0",
            "_model_name": "LayoutModel",
            "_view_count": null,
            "_view_module": "@jupyter-widgets/base",
            "_view_module_version": "1.2.0",
            "_view_name": "LayoutView",
            "align_content": null,
            "align_items": null,
            "align_self": null,
            "border": null,
            "bottom": null,
            "display": null,
            "flex": null,
            "flex_flow": null,
            "grid_area": null,
            "grid_auto_columns": null,
            "grid_auto_flow": null,
            "grid_auto_rows": null,
            "grid_column": null,
            "grid_gap": null,
            "grid_row": null,
            "grid_template_areas": null,
            "grid_template_columns": null,
            "grid_template_rows": null,
            "height": null,
            "justify_content": null,
            "justify_items": null,
            "left": null,
            "margin": null,
            "max_height": null,
            "max_width": null,
            "min_height": null,
            "min_width": null,
            "object_fit": null,
            "object_position": null,
            "order": null,
            "overflow": null,
            "overflow_x": null,
            "overflow_y": null,
            "padding": null,
            "right": null,
            "top": null,
            "visibility": null,
            "width": null
          }
        },
        "e46c2085e10b49ff9a05c00723c00877": {
          "model_module": "@jupyter-widgets/controls",
          "model_name": "ButtonStyleModel",
          "model_module_version": "1.5.0",
          "state": {
            "_model_module": "@jupyter-widgets/controls",
            "_model_module_version": "1.5.0",
            "_model_name": "ButtonStyleModel",
            "_view_count": null,
            "_view_module": "@jupyter-widgets/base",
            "_view_module_version": "1.2.0",
            "_view_name": "StyleView",
            "button_color": null,
            "font_weight": ""
          }
        },
        "7eba9560a7fd46229528a86e9f661a3f": {
          "model_module": "@jupyter-widgets/base",
          "model_name": "LayoutModel",
          "model_module_version": "1.2.0",
          "state": {
            "_model_module": "@jupyter-widgets/base",
            "_model_module_version": "1.2.0",
            "_model_name": "LayoutModel",
            "_view_count": null,
            "_view_module": "@jupyter-widgets/base",
            "_view_module_version": "1.2.0",
            "_view_name": "LayoutView",
            "align_content": null,
            "align_items": null,
            "align_self": null,
            "border": null,
            "bottom": null,
            "display": null,
            "flex": null,
            "flex_flow": null,
            "grid_area": null,
            "grid_auto_columns": null,
            "grid_auto_flow": null,
            "grid_auto_rows": null,
            "grid_column": null,
            "grid_gap": null,
            "grid_row": null,
            "grid_template_areas": null,
            "grid_template_columns": null,
            "grid_template_rows": null,
            "height": null,
            "justify_content": null,
            "justify_items": null,
            "left": null,
            "margin": null,
            "max_height": null,
            "max_width": null,
            "min_height": null,
            "min_width": null,
            "object_fit": null,
            "object_position": null,
            "order": null,
            "overflow": null,
            "overflow_x": null,
            "overflow_y": null,
            "padding": null,
            "right": null,
            "top": null,
            "visibility": null,
            "width": null
          }
        },
        "e71af0db433541bdba70ca83941e7954": {
          "model_module": "@jupyter-widgets/controls",
          "model_name": "ButtonStyleModel",
          "model_module_version": "1.5.0",
          "state": {
            "_model_module": "@jupyter-widgets/controls",
            "_model_module_version": "1.5.0",
            "_model_name": "ButtonStyleModel",
            "_view_count": null,
            "_view_module": "@jupyter-widgets/base",
            "_view_module_version": "1.2.0",
            "_view_name": "StyleView",
            "button_color": null,
            "font_weight": ""
          }
        }
      }
    }
  },
  "nbformat": 4,
  "nbformat_minor": 5
}